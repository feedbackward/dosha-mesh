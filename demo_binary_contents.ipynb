{
 "cells": [
  {
   "cell_type": "markdown",
   "metadata": {},
   "source": [
    "# Digging into GRIB2 binary files (JMA landslide risk)\n",
    "\n",
    "___\n",
    "__Important:__ In this repository, we provide some scripts to handle the numerical landslide risk assessment figures prepared in 10-minute intervals by the Japan Meteorological Agency (JMA). This data is  *not freely available data*, but must rather be purchased from the Japan Meteorological Business Support Center (JMBSC), which operates under the oversight of the JMA. Here are a couple relevant links:\n",
    "\n",
    "- Up to date visualized plot of landslide risk figures:<br> https://www.jma.go.jp/jp/doshamesh/\n",
    "\n",
    "- JMBSC page for landslide risk data set:<br> http://www.jmbsc.or.jp/jp/online/file/f-online60210.html\n",
    "\n",
    "<img src=\"img/dosha_example.jpeg\" width=\"300\">\n",
    "\n",
    "This data is only provided in a standard binary format used frequently in meteorology, called *FM92 GRIB edition 2*. The software in this repository assumes that the user has already acquired such data via the appropriate channels.\n",
    "___"
   ]
  },
  {
   "cell_type": "markdown",
   "metadata": {},
   "source": [
    "## Opening and reading the GRIB file\n",
    "\n",
    "To begin, let's clarify two points: (a) the nature of the data we are looking at; (b) the format of this data.\n",
    "\n",
    "Regarding the nature of the data of interest, we are focusing exclusively on the landslide risk information computed and published by the JMA. The Japanese name is 土砂災害警戒判定メッシュ情報 (see links at the top of this page). The JMA assigns a numerical score to each point on a lattice, corresponding to the risk of landslides based on recent precipitation and accumulation of rainwater in the ground.\n",
    "\n",
    "Regarding the format, this is technical but very straightforward. The data format is \"General Representation of fields In Binary\" (GRIB), and the specific guidelines are given in detail in the World Meteorological Organization's Manual on Codes. The JMA data that we will be examining here follows the FM92 GRIB edition 2, available at the WMO website in English (https://www.wmo.int/pages/prog/www/WMOCodes.html), and in Japanese from the JMA website (http://www.jma.go.jp/jma/kishou/books/tsuhoshiki/tsuhoshiki.html). The Japanese standards are based directly on this FM92 GRIB edition 2, and go by the name 国際気象通報式FM92 GRIB 二進形式格子点資料気象通報式(第2版).\n",
    "\n",
    "There is really no choice but to go through the binary files one byte at a time to check everything out once; then everything can be easily automated. Useful resources when prying through these GRIB2 files are as follows:\n",
    "\n",
    "- JMA Technical Report 374 (配信資料に関する技術情報（気象編）第374号). Available at:<br> http://www.data.jma.go.jp/add/suishin/jyouhou/pdf/374.pdf\n",
    "\n",
    "- Description of the run-length encoding used for compression (ランレングス符号化法の解説). Available at:<br> http://www.jmbsc.or.jp/jp/online/c-onlineGsd.html\n",
    "\n",
    "With these two resources in hand, we open the connection with an example file."
   ]
  },
  {
   "cell_type": "code",
   "execution_count": 1,
   "metadata": {},
   "outputs": [
    {
     "name": "stdout",
     "output_type": "stream",
     "text": [
      "<_io.BufferedReader name='demo_data/20130701/Z__C_RJTD_20130701000000_MET_INF_Jdosha_Ggis5km_ANAL_grib2.bin'>\n"
     ]
    }
   ],
   "source": [
    "import os\n",
    "\n",
    "toread = \"demo_data/20130701/Z__C_RJTD_20130701000000_MET_INF_Jdosha_Ggis5km_ANAL_grib2.bin\"\n",
    "\n",
    "f_bin = open(toread, mode=\"rb\")\n",
    "print(f_bin)"
   ]
  },
  {
   "cell_type": "markdown",
   "metadata": {},
   "source": [
    "The files are broken up into sections (節). We shall take one at a time."
   ]
  },
  {
   "cell_type": "markdown",
   "metadata": {},
   "source": [
    "## Section 0: 指示節\n",
    "\n",
    "This section spans the first sixteen octets."
   ]
  },
  {
   "cell_type": "code",
   "execution_count": 2,
   "metadata": {},
   "outputs": [
    {
     "data": {
      "text/plain": [
       "0"
      ]
     },
     "execution_count": 2,
     "metadata": {},
     "output_type": "execute_result"
    }
   ],
   "source": [
    "f_bin.seek(0)"
   ]
  },
  {
   "cell_type": "code",
   "execution_count": 3,
   "metadata": {},
   "outputs": [
    {
     "name": "stdout",
     "output_type": "stream",
     "text": [
      "bytes: b'GRIB'\n",
      "GRIB\n"
     ]
    }
   ],
   "source": [
    "b = f_bin.read(4) # Should be \"GRIB\".\n",
    "print(\"bytes:\", b)\n",
    "s0_grib = str(b, 'ascii')\n",
    "print(s0_grib)"
   ]
  },
  {
   "cell_type": "code",
   "execution_count": 4,
   "metadata": {},
   "outputs": [
    {
     "name": "stdout",
     "output_type": "stream",
     "text": [
      "bytes: b'\\xff\\xff'\n",
      "b'\\xff\\xff'\n"
     ]
    }
   ],
   "source": [
    "b = f_bin.read(2) # Should be missing.\n",
    "print(\"bytes:\", b)\n",
    "s0_missing = b\n",
    "print(s0_missing)"
   ]
  },
  {
   "cell_type": "markdown",
   "metadata": {},
   "source": [
    "As regards the seventh byte, they refer to 符号表0.0, saying that it represents the meteorology field of interest."
   ]
  },
  {
   "cell_type": "code",
   "execution_count": 5,
   "metadata": {},
   "outputs": [
    {
     "name": "stdout",
     "output_type": "stream",
     "text": [
      "bytes: b'\\x00'\n",
      "0\n"
     ]
    }
   ],
   "source": [
    "b = f_bin.read(1) # Should be 0.\n",
    "print(\"bytes:\", b)\n",
    "s0_field = int.from_bytes(b, byteorder=\"big\", signed=False)\n",
    "print(s0_field)"
   ]
  },
  {
   "cell_type": "code",
   "execution_count": 6,
   "metadata": {},
   "outputs": [
    {
     "name": "stdout",
     "output_type": "stream",
     "text": [
      "bytes: b'\\x02'\n",
      "2\n"
     ]
    }
   ],
   "source": [
    "b = f_bin.read(1) # Should be 2.\n",
    "print(\"bytes:\", b)\n",
    "s0_version = int.from_bytes(b, byteorder=\"big\", signed=False)\n",
    "print(s0_version)"
   ]
  },
  {
   "cell_type": "markdown",
   "metadata": {},
   "source": [
    "The final handful of bytes give the *length of the GRIB message* (GRIB報全体の長さ). This is apparently variable from file to file."
   ]
  },
  {
   "cell_type": "code",
   "execution_count": 7,
   "metadata": {},
   "outputs": [
    {
     "name": "stdout",
     "output_type": "stream",
     "text": [
      "bytes: b'\\x00\\x00\\x00\\x00\\x00\\x00\\x0e\\xac'\n",
      "3756\n"
     ]
    }
   ],
   "source": [
    "b = f_bin.read(8) # Variable.\n",
    "print(\"bytes:\", b)\n",
    "s0_griblen = int.from_bytes(b, byteorder=\"big\", signed=False)\n",
    "print(s0_griblen)"
   ]
  },
  {
   "cell_type": "code",
   "execution_count": 8,
   "metadata": {},
   "outputs": [],
   "source": [
    "s0_seclen = 16 # hard-code for convenience."
   ]
  },
  {
   "cell_type": "markdown",
   "metadata": {},
   "source": [
    "___"
   ]
  },
  {
   "cell_type": "markdown",
   "metadata": {},
   "source": [
    "## Section 1: 識別節\n",
    "\n",
    "This section spans a total of twenty-one bytes."
   ]
  },
  {
   "cell_type": "code",
   "execution_count": 9,
   "metadata": {},
   "outputs": [
    {
     "data": {
      "text/plain": [
       "16"
      ]
     },
     "execution_count": 9,
     "metadata": {},
     "output_type": "execute_result"
    }
   ],
   "source": [
    "f_bin.seek(s0_seclen)"
   ]
  },
  {
   "cell_type": "code",
   "execution_count": 10,
   "metadata": {},
   "outputs": [
    {
     "name": "stdout",
     "output_type": "stream",
     "text": [
      "bytes: b'\\x00\\x00\\x00\\x15'\n",
      "21\n"
     ]
    }
   ],
   "source": [
    "b = f_bin.read(4) # Should be 21.\n",
    "print(\"bytes:\", b)\n",
    "s1_seclen = int.from_bytes(b, byteorder=\"big\", signed=False)\n",
    "print(s1_seclen)"
   ]
  },
  {
   "cell_type": "code",
   "execution_count": 11,
   "metadata": {},
   "outputs": [
    {
     "name": "stdout",
     "output_type": "stream",
     "text": [
      "bytes: b'\\x01'\n",
      "1\n"
     ]
    }
   ],
   "source": [
    "b = f_bin.read(1) # Should be 1.\n",
    "print(\"bytes:\", b)\n",
    "s1_secnum = int.from_bytes(b, byteorder=\"big\", signed=False)\n",
    "print(s1_secnum)"
   ]
  },
  {
   "cell_type": "markdown",
   "metadata": {},
   "source": [
    "The next pair of octects are the \"location where the data was created\", I assume. They call it “作成中枢の識別”. This is identified via 共通符号表C-1. In any case, the value is supposed to be 34, which apparently corresponds to Tokyo."
   ]
  },
  {
   "cell_type": "code",
   "execution_count": 12,
   "metadata": {},
   "outputs": [
    {
     "name": "stdout",
     "output_type": "stream",
     "text": [
      "bytes: b'\\x00\"'\n",
      "34\n"
     ]
    }
   ],
   "source": [
    "b = f_bin.read(2) # Should be 34.\n",
    "print(\"bytes:\", b)\n",
    "s1_center = int.from_bytes(b, byteorder=\"big\", signed=False)\n",
    "print(s1_center)"
   ]
  },
  {
   "cell_type": "code",
   "execution_count": 13,
   "metadata": {},
   "outputs": [
    {
     "name": "stdout",
     "output_type": "stream",
     "text": [
      "bytes: b'\\x00\\x00'\n",
      "0\n"
     ]
    }
   ],
   "source": [
    "b = f_bin.read(2) # Should be 0.\n",
    "print(\"bytes:\", b)\n",
    "s1_subcenter = int.from_bytes(b, byteorder=\"big\", signed=False)\n",
    "print(s1_subcenter)"
   ]
  },
  {
   "cell_type": "markdown",
   "metadata": {},
   "source": [
    "The next three bytes are rather technical. First is the \"version number of GRIB master table\" (GRIBマスター表バージョン番号), second is \"version number of GRIB region table\" (GRIB地域表バージョン番号), and finally is the \"meaning of the referred time (参照時刻の意味). Respectively, the meaning of these codes can be found in 符号表1.0, 1.1, and 1.2. Their expected values are 2, 1, and 0."
   ]
  },
  {
   "cell_type": "code",
   "execution_count": 14,
   "metadata": {},
   "outputs": [
    {
     "name": "stdout",
     "output_type": "stream",
     "text": [
      "bytes: b'\\x02'\n",
      "2\n"
     ]
    }
   ],
   "source": [
    "b = f_bin.read(1) # Should be 2.\n",
    "print(\"bytes:\", b)\n",
    "s1_vermaster = int.from_bytes(b, byteorder=\"big\", signed=False)\n",
    "print(s1_vermaster)"
   ]
  },
  {
   "cell_type": "code",
   "execution_count": 15,
   "metadata": {},
   "outputs": [
    {
     "name": "stdout",
     "output_type": "stream",
     "text": [
      "bytes: b'\\x01'\n",
      "1\n"
     ]
    }
   ],
   "source": [
    "b = f_bin.read(1) # Should be 1.\n",
    "print(\"bytes:\", b)\n",
    "s1_verregion = int.from_bytes(b, byteorder=\"big\", signed=False)\n",
    "print(s1_verregion)"
   ]
  },
  {
   "cell_type": "code",
   "execution_count": 16,
   "metadata": {},
   "outputs": [
    {
     "name": "stdout",
     "output_type": "stream",
     "text": [
      "bytes: b'\\x00'\n",
      "0\n"
     ]
    }
   ],
   "source": [
    "b = f_bin.read(1) # Should be 0.\n",
    "print(\"bytes:\", b)\n",
    "s1_timemeaning = int.from_bytes(b, byteorder=\"big\", signed=False)\n",
    "print(s1_timemeaning)"
   ]
  },
  {
   "cell_type": "markdown",
   "metadata": {},
   "source": [
    "Next is some rather important metadata, namely the date/time, which has the meaning specified in the previous byte, which is apparently “解析”. The bytes are as follows:\n",
    "\n",
    "- 2 bytes: year\n",
    "- 1 byte: month\n",
    "- 1 byte: day\n",
    "- 1 byte: hour\n",
    "- 1 byte: minute\n",
    "- 1 byte: second\n",
    "\n",
    "The interpretation of these values is specified in 「※１ 時刻表現」. Let's first read them out and take a look."
   ]
  },
  {
   "cell_type": "code",
   "execution_count": 17,
   "metadata": {},
   "outputs": [
    {
     "name": "stdout",
     "output_type": "stream",
     "text": [
      "bytes: b'\\x07\\xdd'\n",
      "2013\n"
     ]
    }
   ],
   "source": [
    "b = f_bin.read(2) # Should be the year.\n",
    "print(\"bytes:\", b)\n",
    "s1_year = int.from_bytes(b, byteorder=\"big\", signed=False)\n",
    "print(s1_year)"
   ]
  },
  {
   "cell_type": "code",
   "execution_count": 18,
   "metadata": {},
   "outputs": [
    {
     "name": "stdout",
     "output_type": "stream",
     "text": [
      "bytes: b'\\x07'\n",
      "7\n"
     ]
    }
   ],
   "source": [
    "b = f_bin.read(1) # Should be the month.\n",
    "print(\"bytes:\", b)\n",
    "s1_month = int.from_bytes(b, byteorder=\"big\", signed=False)\n",
    "print(s1_month)"
   ]
  },
  {
   "cell_type": "code",
   "execution_count": 19,
   "metadata": {},
   "outputs": [
    {
     "name": "stdout",
     "output_type": "stream",
     "text": [
      "bytes: b'\\x01'\n",
      "1\n"
     ]
    }
   ],
   "source": [
    "b = f_bin.read(1) # Should be the day.\n",
    "print(\"bytes:\", b)\n",
    "s1_day = int.from_bytes(b, byteorder=\"big\", signed=False)\n",
    "print(s1_day)"
   ]
  },
  {
   "cell_type": "code",
   "execution_count": 20,
   "metadata": {},
   "outputs": [
    {
     "name": "stdout",
     "output_type": "stream",
     "text": [
      "bytes: b'\\x00'\n",
      "0\n"
     ]
    }
   ],
   "source": [
    "b = f_bin.read(1) # Should be the hour.\n",
    "print(\"bytes:\", b)\n",
    "s1_hour = int.from_bytes(b, byteorder=\"big\", signed=False)\n",
    "print(s1_hour)"
   ]
  },
  {
   "cell_type": "code",
   "execution_count": 21,
   "metadata": {},
   "outputs": [
    {
     "name": "stdout",
     "output_type": "stream",
     "text": [
      "bytes: b'\\x00'\n",
      "0\n"
     ]
    }
   ],
   "source": [
    "b = f_bin.read(1) # Should be the minute.\n",
    "print(\"bytes:\", b)\n",
    "s1_minute = int.from_bytes(b, byteorder=\"big\", signed=False)\n",
    "print(s1_minute)"
   ]
  },
  {
   "cell_type": "code",
   "execution_count": 22,
   "metadata": {},
   "outputs": [
    {
     "name": "stdout",
     "output_type": "stream",
     "text": [
      "bytes: b'\\x00'\n",
      "0\n"
     ]
    }
   ],
   "source": [
    "b = f_bin.read(1) # Should be the second.\n",
    "print(\"bytes:\", b)\n",
    "s1_second = int.from_bytes(b, byteorder=\"big\", signed=False)\n",
    "print(s1_second)"
   ]
  },
  {
   "cell_type": "markdown",
   "metadata": {},
   "source": [
    "Great. Very simple. This looks to match up directly with the file name (i.e., we could just parse the file name to get the same metadata)."
   ]
  },
  {
   "cell_type": "markdown",
   "metadata": {},
   "source": [
    "The next byte is the document's status, either a \"product\" (現業プロダクト) or \"test product\" (現業的試験プロジェクト). Details are in 符号表1.3."
   ]
  },
  {
   "cell_type": "code",
   "execution_count": 23,
   "metadata": {},
   "outputs": [
    {
     "name": "stdout",
     "output_type": "stream",
     "text": [
      "bytes: b'\\x00'\n",
      "0\n"
     ]
    }
   ],
   "source": [
    "b = f_bin.read(1) # Should be 0 or 1.\n",
    "print(\"bytes:\", b)\n",
    "s1_status = int.from_bytes(b, byteorder=\"big\", signed=False)\n",
    "print(s1_status)"
   ]
  },
  {
   "cell_type": "markdown",
   "metadata": {},
   "source": [
    "Finally, the document type, detailed in 符号表1.4, is supposedly 2, representing “解析及び予報プロダクト”."
   ]
  },
  {
   "cell_type": "code",
   "execution_count": 24,
   "metadata": {},
   "outputs": [
    {
     "name": "stdout",
     "output_type": "stream",
     "text": [
      "bytes: b'\\x02'\n",
      "2\n"
     ]
    }
   ],
   "source": [
    "b = f_bin.read(1) # Should be 2.\n",
    "print(\"bytes:\", b)\n",
    "s1_type = int.from_bytes(b, byteorder=\"big\", signed=False)\n",
    "print(s1_type)"
   ]
  },
  {
   "cell_type": "markdown",
   "metadata": {},
   "source": [
    "___"
   ]
  },
  {
   "cell_type": "markdown",
   "metadata": {},
   "source": [
    "## Section 2: 地域使用節\n",
    "\n",
    "This section is apparently not used."
   ]
  },
  {
   "cell_type": "markdown",
   "metadata": {},
   "source": [
    "___"
   ]
  },
  {
   "cell_type": "markdown",
   "metadata": {},
   "source": [
    "## Section 3: 格子系定義節\n",
    "\n",
    "This section is for lattice definitions, and spans seventy-two bytes."
   ]
  },
  {
   "cell_type": "code",
   "execution_count": 25,
   "metadata": {},
   "outputs": [
    {
     "data": {
      "text/plain": [
       "37"
      ]
     },
     "execution_count": 25,
     "metadata": {},
     "output_type": "execute_result"
    }
   ],
   "source": [
    "f_bin.seek((s0_seclen+s1_seclen))"
   ]
  },
  {
   "cell_type": "code",
   "execution_count": 26,
   "metadata": {},
   "outputs": [
    {
     "name": "stdout",
     "output_type": "stream",
     "text": [
      "bytes: b'\\x00\\x00\\x00H'\n",
      "72\n"
     ]
    }
   ],
   "source": [
    "b = f_bin.read(4) # Should be 72.\n",
    "print(\"bytes:\", b)\n",
    "s3_seclen = int.from_bytes(b, byteorder=\"big\", signed=False)\n",
    "print(s3_seclen)"
   ]
  },
  {
   "cell_type": "code",
   "execution_count": 27,
   "metadata": {},
   "outputs": [
    {
     "name": "stdout",
     "output_type": "stream",
     "text": [
      "bytes: b'\\x03'\n",
      "3\n"
     ]
    }
   ],
   "source": [
    "b = f_bin.read(1) # Should be 3.\n",
    "print(\"bytes:\", b)\n",
    "s3_secnum = int.from_bytes(b, byteorder=\"big\", signed=False)\n",
    "print(s3_secnum)"
   ]
  },
  {
   "cell_type": "markdown",
   "metadata": {},
   "source": [
    "Reference for the lattice definition, detailed in 符号表3.0. Should be zero, with a meaning of “符号表3.1参照”, rather humorously."
   ]
  },
  {
   "cell_type": "code",
   "execution_count": 28,
   "metadata": {},
   "outputs": [
    {
     "name": "stdout",
     "output_type": "stream",
     "text": [
      "bytes: b'\\x00'\n",
      "0\n"
     ]
    }
   ],
   "source": [
    "b = f_bin.read(1) # Should be 0.\n",
    "print(\"bytes:\", b)\n",
    "s3_defref = int.from_bytes(b, byteorder=\"big\", signed=False)\n",
    "print(s3_defref)"
   ]
  },
  {
   "cell_type": "markdown",
   "metadata": {},
   "source": [
    "Number of points on the lattice."
   ]
  },
  {
   "cell_type": "code",
   "execution_count": 29,
   "metadata": {},
   "outputs": [
    {
     "name": "stdout",
     "output_type": "stream",
     "text": [
      "bytes: b'\\x00\\x04`\\x00'\n",
      "286720\n"
     ]
    }
   ],
   "source": [
    "b = f_bin.read(4) # Should be 286720.\n",
    "print(\"bytes:\", b)\n",
    "s3_numpoints = int.from_bytes(b, byteorder=\"big\", signed=False)\n",
    "print(s3_numpoints)"
   ]
  },
  {
   "cell_type": "markdown",
   "metadata": {},
   "source": [
    "Number of bytes used for a list that defines the number of points on the lattice (convoluted...), followed by the description of this list. Both are just zero here."
   ]
  },
  {
   "cell_type": "code",
   "execution_count": 30,
   "metadata": {},
   "outputs": [
    {
     "name": "stdout",
     "output_type": "stream",
     "text": [
      "bytes: b'\\x00'\n",
      "0\n"
     ]
    }
   ],
   "source": [
    "b = f_bin.read(1) # Should be 0.\n",
    "print(\"bytes:\", b)\n",
    "s3_numpointsMem = int.from_bytes(b, byteorder=\"big\", signed=False)\n",
    "print(s3_numpointsMem)"
   ]
  },
  {
   "cell_type": "code",
   "execution_count": 31,
   "metadata": {},
   "outputs": [
    {
     "name": "stdout",
     "output_type": "stream",
     "text": [
      "bytes: b'\\x00'\n",
      "0\n"
     ]
    }
   ],
   "source": [
    "b = f_bin.read(1) # Should be 0.\n",
    "print(\"bytes:\", b)\n",
    "s3_numpointsExp = int.from_bytes(b, byteorder=\"big\", signed=False)\n",
    "print(s3_numpointsExp)"
   ]
  },
  {
   "cell_type": "markdown",
   "metadata": {},
   "source": [
    "The next two bytes give the template number identifying the lattice definition type, details in 符号表3.1. It should be zero, meaning “緯度・経度格子”."
   ]
  },
  {
   "cell_type": "code",
   "execution_count": 32,
   "metadata": {},
   "outputs": [
    {
     "name": "stdout",
     "output_type": "stream",
     "text": [
      "bytes: b'\\x00\\x00'\n",
      "0\n"
     ]
    }
   ],
   "source": [
    "b = f_bin.read(2) # Should be 0.\n",
    "print(\"bytes:\", b)\n",
    "s3_template = int.from_bytes(b, byteorder=\"big\", signed=False)\n",
    "print(s3_template)"
   ]
  },
  {
   "cell_type": "markdown",
   "metadata": {},
   "source": [
    "Next is a key value: the identifier of the shape of the earth, details in 符号表3.2. This should be four, representing “GRS80回転楕円体”, recalling GRS80 is *Geodetic Reference System 1980*, a reference ellipsoid modelling the earth."
   ]
  },
  {
   "cell_type": "code",
   "execution_count": 33,
   "metadata": {},
   "outputs": [
    {
     "name": "stdout",
     "output_type": "stream",
     "text": [
      "bytes: b'\\x04'\n",
      "4\n"
     ]
    }
   ],
   "source": [
    "b = f_bin.read(1) # Should be 4.\n",
    "print(\"bytes:\", b)\n",
    "s3_earthshape = int.from_bytes(b, byteorder=\"big\", signed=False)\n",
    "print(s3_earthshape)"
   ]
  },
  {
   "cell_type": "markdown",
   "metadata": {},
   "source": [
    "The next five are all missing."
   ]
  },
  {
   "cell_type": "code",
   "execution_count": 34,
   "metadata": {},
   "outputs": [
    {
     "name": "stdout",
     "output_type": "stream",
     "text": [
      "bytes: b'\\xff\\xff\\xff\\xff\\xff'\n"
     ]
    }
   ],
   "source": [
    "b = f_bin.read(5) # Should be missing, likely max values.\n",
    "print(\"bytes:\", b)"
   ]
  },
  {
   "cell_type": "markdown",
   "metadata": {},
   "source": [
    "The next ten bytes are broken up as follows.\n",
    "\n",
    "- 1 byte: major axis unit factor (尺度因子)\n",
    "- 4 bytes: major axis length in given units (長軸の尺度付きの長さ)\n",
    "- 1 byte: minor axis unit factor (尺度因子)\n",
    "- 4 bytes: minor axis length in given units (短軸の尺度付きの長さ)"
   ]
  },
  {
   "cell_type": "code",
   "execution_count": 35,
   "metadata": {},
   "outputs": [
    {
     "name": "stdout",
     "output_type": "stream",
     "text": [
      "bytes: b'\\x01'\n",
      "1\n"
     ]
    }
   ],
   "source": [
    "b = f_bin.read(1) # Should be 1.\n",
    "print(\"bytes:\", b)\n",
    "s3_factormaj = int.from_bytes(b, byteorder=\"big\", signed=False)\n",
    "print(s3_factormaj)"
   ]
  },
  {
   "cell_type": "code",
   "execution_count": 36,
   "metadata": {},
   "outputs": [
    {
     "name": "stdout",
     "output_type": "stream",
     "text": [
      "bytes: b'\\x03\\xcd9\\xfa'\n",
      "63781370\n"
     ]
    }
   ],
   "source": [
    "b = f_bin.read(4) # Should be 63781370.\n",
    "print(\"bytes:\", b)\n",
    "s3_lenmaj = int.from_bytes(b, byteorder=\"big\", signed=False)\n",
    "print(s3_lenmaj)"
   ]
  },
  {
   "cell_type": "code",
   "execution_count": 37,
   "metadata": {},
   "outputs": [
    {
     "name": "stdout",
     "output_type": "stream",
     "text": [
      "bytes: b'\\x01'\n",
      "1\n"
     ]
    }
   ],
   "source": [
    "b = f_bin.read(1) # Should be 1.\n",
    "print(\"bytes:\", b)\n",
    "s3_factormin = int.from_bytes(b, byteorder=\"big\", signed=False)\n",
    "print(s3_factormin)"
   ]
  },
  {
   "cell_type": "code",
   "execution_count": 38,
   "metadata": {},
   "outputs": [
    {
     "name": "stdout",
     "output_type": "stream",
     "text": [
      "bytes: b'\\x03\\xc9\\xf6\\xa3'\n",
      "63567523\n"
     ]
    }
   ],
   "source": [
    "b = f_bin.read(4) # Should be 63567523.\n",
    "print(\"bytes:\", b)\n",
    "s3_lenmin = int.from_bytes(b, byteorder=\"big\", signed=False)\n",
    "print(s3_lenmin)"
   ]
  },
  {
   "cell_type": "markdown",
   "metadata": {},
   "source": [
    "Next, we have the absolute number of points on the lattice, following along the latitude and longitude lines. In Japanese, the former is “緯線に沿った格子点数”, the latter is “経線に沿った格子点数”."
   ]
  },
  {
   "cell_type": "code",
   "execution_count": 39,
   "metadata": {},
   "outputs": [
    {
     "name": "stdout",
     "output_type": "stream",
     "text": [
      "bytes: b'\\x00\\x00\\x02\\x00'\n",
      "512\n"
     ]
    }
   ],
   "source": [
    "b = f_bin.read(4) # Should be 512.\n",
    "print(\"bytes:\", b)\n",
    "s3_numlon = int.from_bytes(b, byteorder=\"big\", signed=False)\n",
    "print(s3_numlon)"
   ]
  },
  {
   "cell_type": "code",
   "execution_count": 40,
   "metadata": {},
   "outputs": [
    {
     "name": "stdout",
     "output_type": "stream",
     "text": [
      "bytes: b'\\x00\\x00\\x020'\n",
      "560\n"
     ]
    }
   ],
   "source": [
    "b = f_bin.read(4) # Should be 560.\n",
    "print(\"bytes:\", b)\n",
    "s3_numlat = int.from_bytes(b, byteorder=\"big\", signed=False)\n",
    "print(s3_numlat)"
   ]
  },
  {
   "cell_type": "markdown",
   "metadata": {},
   "source": [
    "The interpretation as a grid is easy: we have a grid which is 512 cells wide, and 560 cells tall. As well, the number of cells computed here exactly equals the total number of points on the lattice we extracted earlier."
   ]
  },
  {
   "cell_type": "code",
   "execution_count": 41,
   "metadata": {},
   "outputs": [
    {
     "name": "stdout",
     "output_type": "stream",
     "text": [
      "286720\n",
      "286720\n"
     ]
    }
   ],
   "source": [
    "print(s3_numpoints)\n",
    "print((s3_numlat*s3_numlon))"
   ]
  },
  {
   "cell_type": "markdown",
   "metadata": {},
   "source": [
    "Next is some \"base angle\", should be zero."
   ]
  },
  {
   "cell_type": "code",
   "execution_count": 42,
   "metadata": {},
   "outputs": [
    {
     "name": "stdout",
     "output_type": "stream",
     "text": [
      "bytes: b'\\x00\\x00\\x00\\x00'\n",
      "0\n"
     ]
    }
   ],
   "source": [
    "b = f_bin.read(4) # Should be 0.\n",
    "print(\"bytes:\", b)\n",
    "s3_baseangle = int.from_bytes(b, byteorder=\"big\", signed=False)\n",
    "print(s3_baseangle)"
   ]
  },
  {
   "cell_type": "markdown",
   "metadata": {},
   "source": [
    "Next should be missing."
   ]
  },
  {
   "cell_type": "code",
   "execution_count": 43,
   "metadata": {},
   "outputs": [
    {
     "name": "stdout",
     "output_type": "stream",
     "text": [
      "bytes: b'\\xff\\xff\\xff\\xff'\n"
     ]
    }
   ],
   "source": [
    "b = f_bin.read(4) # Should be 0.\n",
    "print(\"bytes:\", b)"
   ]
  },
  {
   "cell_type": "markdown",
   "metadata": {},
   "source": [
    "Now are some numerical values we need to be careful with. The next eight bytes give the latitude (緯度) and longitude (経度) of the \"first\" point on the lattice. The units are in what they call “10-6度単位”, which is scientific notation for units re-scaled by $10^{-6}$. Let's see the values first, and then confirm we are handling what we are expecting."
   ]
  },
  {
   "cell_type": "code",
   "execution_count": 44,
   "metadata": {},
   "outputs": [
    {
     "name": "stdout",
     "output_type": "stream",
     "text": [
      "bytes: b'\\x02\\xdc\\nX'\n",
      "47975000\n"
     ]
    }
   ],
   "source": [
    "b = f_bin.read(4) # Should be 47975000.\n",
    "print(\"bytes:\", b)\n",
    "s3_firstlat = int.from_bytes(b, byteorder=\"big\", signed=False)\n",
    "print(s3_firstlat)"
   ]
  },
  {
   "cell_type": "code",
   "execution_count": 45,
   "metadata": {},
   "outputs": [
    {
     "name": "stdout",
     "output_type": "stream",
     "text": [
      "bytes: b'\\x07\\t\\x03\\x92'\n",
      "118031250\n"
     ]
    }
   ],
   "source": [
    "b = f_bin.read(4) # Should be 118031250.\n",
    "print(\"bytes:\", b)\n",
    "s3_firstlon = int.from_bytes(b, byteorder=\"big\", signed=False)\n",
    "print(s3_firstlon)"
   ]
  },
  {
   "cell_type": "markdown",
   "metadata": {},
   "source": [
    "Note that if we multiply these values by $10^{-6}$, we have:"
   ]
  },
  {
   "cell_type": "code",
   "execution_count": 46,
   "metadata": {},
   "outputs": [
    {
     "name": "stdout",
     "output_type": "stream",
     "text": [
      "47.975\n",
      "118.03125\n"
     ]
    }
   ],
   "source": [
    "print((s3_firstlat/10**6))\n",
    "print((s3_firstlon/10**6))"
   ]
  },
  {
   "cell_type": "markdown",
   "metadata": {},
   "source": [
    "This certainly look a lot more like degrees, and of course that is precisely what they are. The detailed calculations given in the JMA materials are as follows:\n",
    "\n",
    "- First point's latitude: 48N - 3.0/60/2.\n",
    "- First point's longitude: 118E + 3.75/60/2.\n",
    "\n",
    "Of course, these calculations are easily confirmed:"
   ]
  },
  {
   "cell_type": "code",
   "execution_count": 47,
   "metadata": {},
   "outputs": [
    {
     "name": "stdout",
     "output_type": "stream",
     "text": [
      "47.975\n",
      "118.03125\n"
     ]
    }
   ],
   "source": [
    "print((48 - (3/(2*60))))\n",
    "print((118 + (3.75/(2*60))))"
   ]
  },
  {
   "cell_type": "markdown",
   "metadata": {},
   "source": [
    "Next is a slightly complicated pair of terms: 分解能及び成分フラグ, with details in フラグ表3.3. The value should be 0x30, though it comes up as zero. In any case, the values after this guy are fine, so it seems there is no big issue."
   ]
  },
  {
   "cell_type": "code",
   "execution_count": 48,
   "metadata": {},
   "outputs": [
    {
     "name": "stdout",
     "output_type": "stream",
     "text": [
      "bytes: b'0'\n"
     ]
    }
   ],
   "source": [
    "b = f_bin.read(1) # Should be 0x30.\n",
    "print(\"bytes:\", b)"
   ]
  },
  {
   "cell_type": "markdown",
   "metadata": {},
   "source": [
    "Next, just as before, we have eight bytes dedicated to the latitude and longitude of the final lattice point/"
   ]
  },
  {
   "cell_type": "code",
   "execution_count": 49,
   "metadata": {},
   "outputs": [
    {
     "name": "stdout",
     "output_type": "stream",
     "text": [
      "bytes: b'\\x011\\x8e\\xa8'\n",
      "20025000\n"
     ]
    }
   ],
   "source": [
    "b = f_bin.read(4) # Should be 20025000.\n",
    "print(\"bytes:\", b)\n",
    "s3_lastlat = int.from_bytes(b, byteorder=\"big\", signed=False)\n",
    "print(s3_lastlat)"
   ]
  },
  {
   "cell_type": "code",
   "execution_count": 50,
   "metadata": {},
   "outputs": [
    {
     "name": "stdout",
     "output_type": "stream",
     "text": [
      "bytes: b'\\x08\\xf0Wn'\n",
      "149968750\n"
     ]
    }
   ],
   "source": [
    "b = f_bin.read(4) # Should be 149968750.\n",
    "print(\"bytes:\", b)\n",
    "s3_lastlon = int.from_bytes(b, byteorder=\"big\", signed=False)\n",
    "print(s3_lastlon)"
   ]
  },
  {
   "cell_type": "markdown",
   "metadata": {},
   "source": [
    "We can do analogous confirmations as before, although noting that the +/- signs in the shift are now opposite what they were for the first point.\n",
    "\n",
    "- Last point's latitude: 20N + 3.0/60/2.\n",
    "- Last point's longitude: 150E - 3.75/60/2.\n",
    "\n",
    "Confirming everything:"
   ]
  },
  {
   "cell_type": "code",
   "execution_count": 51,
   "metadata": {},
   "outputs": [
    {
     "name": "stdout",
     "output_type": "stream",
     "text": [
      "20.025\n",
      "149.96875\n"
     ]
    }
   ],
   "source": [
    "print((s3_lastlat/10**6))\n",
    "print((s3_lastlon/10**6))"
   ]
  },
  {
   "cell_type": "code",
   "execution_count": 52,
   "metadata": {},
   "outputs": [
    {
     "name": "stdout",
     "output_type": "stream",
     "text": [
      "20.025\n",
      "149.96875\n"
     ]
    }
   ],
   "source": [
    "print((20 + (3/(2*60))))\n",
    "print((150 - (3.75/(2*60))))"
   ]
  },
  {
   "cell_type": "markdown",
   "metadata": {},
   "source": [
    "Finally, we have the step size in the $i$-direction and $j$-direction respectively (called the $i$方向の増分, $j$方向の増分), defined:\n",
    "\n",
    "- $i$-direction: 3.75/60\n",
    "- $j$-direction: 3.0/60\n",
    "\n",
    "The units, again, are $10^{-6}$ as before."
   ]
  },
  {
   "cell_type": "code",
   "execution_count": 53,
   "metadata": {},
   "outputs": [
    {
     "name": "stdout",
     "output_type": "stream",
     "text": [
      "bytes: b'\\x00\\x00\\xf4$'\n",
      "62500\n"
     ]
    }
   ],
   "source": [
    "b = f_bin.read(4) # Should be 62500.\n",
    "print(\"bytes:\", b)\n",
    "s3_isize = int.from_bytes(b, byteorder=\"big\", signed=False)\n",
    "print(s3_isize)"
   ]
  },
  {
   "cell_type": "code",
   "execution_count": 54,
   "metadata": {},
   "outputs": [
    {
     "name": "stdout",
     "output_type": "stream",
     "text": [
      "bytes: b'\\x00\\x00\\xc3P'\n",
      "50000\n"
     ]
    }
   ],
   "source": [
    "b = f_bin.read(4) # Should be 50000.\n",
    "print(\"bytes:\", b)\n",
    "s3_jsize = int.from_bytes(b, byteorder=\"big\", signed=False)\n",
    "print(s3_jsize)"
   ]
  },
  {
   "cell_type": "code",
   "execution_count": 55,
   "metadata": {},
   "outputs": [
    {
     "name": "stdout",
     "output_type": "stream",
     "text": [
      "0.0625\n",
      "0.05\n"
     ]
    }
   ],
   "source": [
    "print((s3_isize/10**6))\n",
    "print((s3_jsize/10**6))"
   ]
  },
  {
   "cell_type": "code",
   "execution_count": 56,
   "metadata": {},
   "outputs": [
    {
     "name": "stdout",
     "output_type": "stream",
     "text": [
      "0.0625\n",
      "0.05\n"
     ]
    }
   ],
   "source": [
    "print(3.75/60)\n",
    "print(3.0/60)"
   ]
  },
  {
   "cell_type": "markdown",
   "metadata": {},
   "source": [
    "As we would expect, the degrees *increase uniformly* (by the $i$ and $j$ sizes) over the lat/long directions on our graph."
   ]
  },
  {
   "cell_type": "code",
   "execution_count": 57,
   "metadata": {},
   "outputs": [
    {
     "name": "stdout",
     "output_type": "stream",
     "text": [
      "118031250\n",
      "149968750\n",
      "149968750\n"
     ]
    }
   ],
   "source": [
    "tmp_val = s3_firstlon\n",
    "print(tmp_val)\n",
    "for i in range(s3_numlon-1):\n",
    "    tmp_val += s3_isize\n",
    "print(tmp_val)\n",
    "print(s3_lastlon)"
   ]
  },
  {
   "cell_type": "code",
   "execution_count": 58,
   "metadata": {},
   "outputs": [
    {
     "name": "stdout",
     "output_type": "stream",
     "text": [
      "47975000\n",
      "20025000\n",
      "20025000\n"
     ]
    }
   ],
   "source": [
    "tmp_val = s3_firstlat\n",
    "print(tmp_val)\n",
    "for j in range(s3_numlat-1):\n",
    "    tmp_val -= s3_jsize\n",
    "print(tmp_val)\n",
    "print(s3_lastlat)"
   ]
  },
  {
   "cell_type": "markdown",
   "metadata": {},
   "source": [
    "Finally, we have the “走査モード”, namely a scanning mode, details in フラグ表3.4, and it should have a value of 0x00, namely zero."
   ]
  },
  {
   "cell_type": "code",
   "execution_count": 59,
   "metadata": {},
   "outputs": [
    {
     "name": "stdout",
     "output_type": "stream",
     "text": [
      "bytes: b'\\x00'\n"
     ]
    }
   ],
   "source": [
    "b = f_bin.read(1) # Should be 0x00.\n",
    "print(\"bytes:\", b)"
   ]
  },
  {
   "cell_type": "markdown",
   "metadata": {},
   "source": [
    "___"
   ]
  },
  {
   "cell_type": "markdown",
   "metadata": {},
   "source": [
    "## Section 4: プロダクト定義節\n",
    "\n",
    "This section is for so-called \"product\" definitions, and spans forty-two bytes."
   ]
  },
  {
   "cell_type": "code",
   "execution_count": 60,
   "metadata": {},
   "outputs": [
    {
     "data": {
      "text/plain": [
       "109"
      ]
     },
     "execution_count": 60,
     "metadata": {},
     "output_type": "execute_result"
    }
   ],
   "source": [
    "f_bin.seek((s0_seclen+s1_seclen+0+s3_seclen))"
   ]
  },
  {
   "cell_type": "code",
   "execution_count": 61,
   "metadata": {},
   "outputs": [
    {
     "name": "stdout",
     "output_type": "stream",
     "text": [
      "bytes: b'\\x00\\x00\\x00*'\n",
      "42\n"
     ]
    }
   ],
   "source": [
    "b = f_bin.read(4) # Should be 42.\n",
    "print(\"bytes:\", b)\n",
    "s4_seclen = int.from_bytes(b, byteorder=\"big\", signed=False)\n",
    "print(s4_seclen)"
   ]
  },
  {
   "cell_type": "code",
   "execution_count": 62,
   "metadata": {},
   "outputs": [
    {
     "name": "stdout",
     "output_type": "stream",
     "text": [
      "bytes: b'\\x04'\n",
      "4\n"
     ]
    }
   ],
   "source": [
    "b = f_bin.read(1) # Should be 4.\n",
    "print(\"bytes:\", b)\n",
    "s4_secnum = int.from_bytes(b, byteorder=\"big\", signed=False)\n",
    "print(s4_secnum)"
   ]
  },
  {
   "cell_type": "markdown",
   "metadata": {},
   "source": [
    "The number of coordinate values immediately after the template (テンプレート直後の座標値の数). Should be zero."
   ]
  },
  {
   "cell_type": "code",
   "execution_count": 63,
   "metadata": {},
   "outputs": [
    {
     "name": "stdout",
     "output_type": "stream",
     "text": [
      "bytes: b'\\x00\\x00'\n",
      "0\n"
     ]
    }
   ],
   "source": [
    "b = f_bin.read(2) # Should be 0.\n",
    "print(\"bytes:\", b)\n",
    "s4_coordnum = int.from_bytes(b, byteorder=\"big\", signed=False)\n",
    "print(s4_coordnum)"
   ]
  },
  {
   "cell_type": "markdown",
   "metadata": {},
   "source": [
    "Product definition template number. Should be 50000, apparently with the meaning that the \"product\" here is based on processing other existing \"products\". Details in 符号表4.0."
   ]
  },
  {
   "cell_type": "code",
   "execution_count": 64,
   "metadata": {},
   "outputs": [
    {
     "name": "stdout",
     "output_type": "stream",
     "text": [
      "bytes: b'\\xc3P'\n",
      "50000\n"
     ]
    }
   ],
   "source": [
    "b = f_bin.read(2) # Should be 50000.\n",
    "print(\"bytes:\", b)\n",
    "s4_tempnum = int.from_bytes(b, byteorder=\"big\", signed=False)\n",
    "print(s4_tempnum)"
   ]
  },
  {
   "cell_type": "markdown",
   "metadata": {},
   "source": [
    "Parameter category. Should be one, which means humidity (湿度), details in 符号表4.1."
   ]
  },
  {
   "cell_type": "code",
   "execution_count": 65,
   "metadata": {},
   "outputs": [
    {
     "name": "stdout",
     "output_type": "stream",
     "text": [
      "bytes: b'\\x01'\n",
      "1\n"
     ]
    }
   ],
   "source": [
    "b = f_bin.read(1) # Should be 1.\n",
    "print(\"bytes:\", b)\n",
    "s4_paracat = int.from_bytes(b, byteorder=\"big\", signed=False)\n",
    "print(s4_paracat)"
   ]
  },
  {
   "cell_type": "markdown",
   "metadata": {},
   "source": [
    "Parameter number. Should be 208, which means landslide risk warnings (土砂災害警戒判定値), details in 符号表4.2. "
   ]
  },
  {
   "cell_type": "code",
   "execution_count": 66,
   "metadata": {},
   "outputs": [
    {
     "name": "stdout",
     "output_type": "stream",
     "text": [
      "bytes: b'\\xd0'\n",
      "208\n"
     ]
    }
   ],
   "source": [
    "b = f_bin.read(1) # Should be 208.\n",
    "print(\"bytes:\", b)\n",
    "s4_paranum = int.from_bytes(b, byteorder=\"big\", signed=False)\n",
    "print(s4_paranum)"
   ]
  },
  {
   "cell_type": "markdown",
   "metadata": {},
   "source": [
    "Type of processing, details in 符号表4.3. Should be zero, meaning analysis/forecasting (解析及び予報)."
   ]
  },
  {
   "cell_type": "code",
   "execution_count": 67,
   "metadata": {},
   "outputs": [
    {
     "name": "stdout",
     "output_type": "stream",
     "text": [
      "bytes: b'\\x00'\n",
      "0\n"
     ]
    }
   ],
   "source": [
    "b = f_bin.read(1) # Should be 0.\n",
    "print(\"bytes:\", b)\n",
    "s4_proctype = int.from_bytes(b, byteorder=\"big\", signed=False)\n",
    "print(s4_proctype)"
   ]
  },
  {
   "cell_type": "markdown",
   "metadata": {},
   "source": [
    "Background processing method, details in 符号表JMA4.1, should be 160, meaning the specialized routine for landslide risk warnings (土砂災害警戒情報ルーチン)."
   ]
  },
  {
   "cell_type": "code",
   "execution_count": 68,
   "metadata": {},
   "outputs": [
    {
     "name": "stdout",
     "output_type": "stream",
     "text": [
      "bytes: b'\\xa0'\n",
      "160\n"
     ]
    }
   ],
   "source": [
    "b = f_bin.read(1) # Should be 160.\n",
    "print(\"bytes:\", b)\n",
    "s4_backproc = int.from_bytes(b, byteorder=\"big\", signed=False)\n",
    "print(s4_backproc)"
   ]
  },
  {
   "cell_type": "markdown",
   "metadata": {},
   "source": [
    "Next one is missing, the analysis method identifier."
   ]
  },
  {
   "cell_type": "code",
   "execution_count": 69,
   "metadata": {},
   "outputs": [
    {
     "name": "stdout",
     "output_type": "stream",
     "text": [
      "bytes: b'\\xff'\n"
     ]
    }
   ],
   "source": [
    "b = f_bin.read(1) # Should be missing.\n",
    "print(\"bytes:\", b)"
   ]
  },
  {
   "cell_type": "markdown",
   "metadata": {},
   "source": [
    "Cut-off time measured from the reference time, in hours and minutes."
   ]
  },
  {
   "cell_type": "code",
   "execution_count": 70,
   "metadata": {},
   "outputs": [
    {
     "name": "stdout",
     "output_type": "stream",
     "text": [
      "bytes: b'\\x00\\x00'\n",
      "0\n"
     ]
    }
   ],
   "source": [
    "b = f_bin.read(2) # Should be 0.\n",
    "print(\"bytes:\", b)\n",
    "s4_cutoffHour = int.from_bytes(b, byteorder=\"big\", signed=False)\n",
    "print(s4_cutoffHour)"
   ]
  },
  {
   "cell_type": "code",
   "execution_count": 71,
   "metadata": {},
   "outputs": [
    {
     "name": "stdout",
     "output_type": "stream",
     "text": [
      "bytes: b'\\n'\n",
      "10\n"
     ]
    }
   ],
   "source": [
    "b = f_bin.read(1) # Should be 10.\n",
    "print(\"bytes:\", b)\n",
    "s4_cutoffMin = int.from_bytes(b, byteorder=\"big\", signed=False)\n",
    "print(s4_cutoffMin)"
   ]
  },
  {
   "cell_type": "markdown",
   "metadata": {},
   "source": [
    "Type of units used for time period, details in 符号表4.4. Should be zero, meaning minutes."
   ]
  },
  {
   "cell_type": "code",
   "execution_count": 72,
   "metadata": {},
   "outputs": [
    {
     "name": "stdout",
     "output_type": "stream",
     "text": [
      "bytes: b'\\x00'\n",
      "0\n"
     ]
    }
   ],
   "source": [
    "b = f_bin.read(1) # Should be 0.\n",
    "print(\"bytes:\", b)\n",
    "s4_timeunit = int.from_bytes(b, byteorder=\"big\", signed=False)\n",
    "print(s4_timeunit)"
   ]
  },
  {
   "cell_type": "markdown",
   "metadata": {},
   "source": [
    "Forecast time (予報時間). This is supposed to be zero."
   ]
  },
  {
   "cell_type": "code",
   "execution_count": 73,
   "metadata": {},
   "outputs": [
    {
     "name": "stdout",
     "output_type": "stream",
     "text": [
      "bytes: b'\\x00\\x00\\x00\\x00'\n",
      "0\n"
     ]
    }
   ],
   "source": [
    "b = f_bin.read(4) # Should be 0.\n",
    "print(\"bytes:\", b)\n",
    "s4_fctime = int.from_bytes(b, byteorder=\"big\", signed=False)\n",
    "print(s4_fctime)"
   ]
  },
  {
   "cell_type": "markdown",
   "metadata": {},
   "source": [
    "Type of \"first fixed surface\" (第一固定面の種類), with details in 符号表4.5. Should be one, meaning either land or water (地面または水面)."
   ]
  },
  {
   "cell_type": "code",
   "execution_count": 74,
   "metadata": {},
   "outputs": [
    {
     "name": "stdout",
     "output_type": "stream",
     "text": [
      "bytes: b'\\x01'\n",
      "1\n"
     ]
    }
   ],
   "source": [
    "b = f_bin.read(1) # Should be 1.\n",
    "print(\"bytes:\", b)\n",
    "s4_surftype = int.from_bytes(b, byteorder=\"big\", signed=False)\n",
    "print(s4_surftype)"
   ]
  },
  {
   "cell_type": "markdown",
   "metadata": {},
   "source": [
    "The next eleven bytes are all missing."
   ]
  },
  {
   "cell_type": "code",
   "execution_count": 75,
   "metadata": {},
   "outputs": [
    {
     "name": "stdout",
     "output_type": "stream",
     "text": [
      "bytes: b'\\xff'\n"
     ]
    }
   ],
   "source": [
    "b = f_bin.read(1) # Should be missing.\n",
    "print(\"bytes:\", b)"
   ]
  },
  {
   "cell_type": "code",
   "execution_count": 76,
   "metadata": {},
   "outputs": [
    {
     "name": "stdout",
     "output_type": "stream",
     "text": [
      "bytes: b'\\xff\\xff\\xff\\xff'\n"
     ]
    }
   ],
   "source": [
    "b = f_bin.read(4) # Should be missing.\n",
    "print(\"bytes:\", b)"
   ]
  },
  {
   "cell_type": "code",
   "execution_count": 77,
   "metadata": {},
   "outputs": [
    {
     "name": "stdout",
     "output_type": "stream",
     "text": [
      "bytes: b'\\xff'\n"
     ]
    }
   ],
   "source": [
    "b = f_bin.read(1) # Should be missing.\n",
    "print(\"bytes:\", b)"
   ]
  },
  {
   "cell_type": "code",
   "execution_count": 78,
   "metadata": {},
   "outputs": [
    {
     "name": "stdout",
     "output_type": "stream",
     "text": [
      "bytes: b'\\xff'\n"
     ]
    }
   ],
   "source": [
    "b = f_bin.read(1) # Should be missing.\n",
    "print(\"bytes:\", b)"
   ]
  },
  {
   "cell_type": "code",
   "execution_count": 79,
   "metadata": {},
   "outputs": [
    {
     "name": "stdout",
     "output_type": "stream",
     "text": [
      "bytes: b'\\xff\\xff\\xff\\xff'\n"
     ]
    }
   ],
   "source": [
    "b = f_bin.read(4) # Should be missing.\n",
    "print(\"bytes:\", b)"
   ]
  },
  {
   "cell_type": "markdown",
   "metadata": {},
   "source": [
    "Name of the first set of related materials used in making this data set, details in 符号表JMA4.5, should be 2, meaning 土壌雨量指数の予測値. Otherwise, if the values are missing, it will be 255."
   ]
  },
  {
   "cell_type": "code",
   "execution_count": 80,
   "metadata": {},
   "outputs": [
    {
     "name": "stdout",
     "output_type": "stream",
     "text": [
      "bytes: b'\\x02'\n",
      "2\n"
     ]
    }
   ],
   "source": [
    "b = f_bin.read(1) # Should be 2 or 255.\n",
    "print(\"bytes:\", b)\n",
    "s4_refsoil = int.from_bytes(b, byteorder=\"big\", signed=False)\n",
    "print(s4_refsoil)"
   ]
  },
  {
   "cell_type": "markdown",
   "metadata": {},
   "source": [
    "Difference between the *analysis* time and the reference time in the *current* referenced materials, in hours and minutes. By \"current\", we mean the materials identified in the previous octet. After this, there will be another set of reference materials, and of course in principle this could go on indefinitely, but here just two reference materials in total."
   ]
  },
  {
   "cell_type": "code",
   "execution_count": 81,
   "metadata": {},
   "outputs": [
    {
     "name": "stdout",
     "output_type": "stream",
     "text": [
      "bytes: b'\\x00\\x02'\n",
      "2\n"
     ]
    }
   ],
   "source": [
    "b = f_bin.read(2) # Should be variable.\n",
    "print(\"bytes:\", b)\n",
    "s4_refsoilDiffHour = int.from_bytes(b, byteorder=\"big\", signed=False)\n",
    "print(s4_refsoilDiffHour)"
   ]
  },
  {
   "cell_type": "code",
   "execution_count": 82,
   "metadata": {},
   "outputs": [
    {
     "name": "stdout",
     "output_type": "stream",
     "text": [
      "bytes: b'&'\n",
      "38\n"
     ]
    }
   ],
   "source": [
    "b = f_bin.read(1) # Should be variable.\n",
    "print(\"bytes:\", b)\n",
    "s4_refsoilDiffMin = int.from_bytes(b, byteorder=\"big\", signed=False)\n",
    "print(s4_refsoilDiffMin)"
   ]
  },
  {
   "cell_type": "markdown",
   "metadata": {},
   "source": [
    "Name of the second set of related materials used in making this data set, details in 符号表JMA4.5, should be 4, meaning 1時間降水量の予測値. Otherwise, if the values are missing, it will be 255."
   ]
  },
  {
   "cell_type": "code",
   "execution_count": 83,
   "metadata": {},
   "outputs": [
    {
     "name": "stdout",
     "output_type": "stream",
     "text": [
      "bytes: b'\\x04'\n",
      "4\n"
     ]
    }
   ],
   "source": [
    "b = f_bin.read(1) # Should be 4 or 255.\n",
    "print(\"bytes:\", b)\n",
    "s4_refrain = int.from_bytes(b, byteorder=\"big\", signed=False)\n",
    "print(s4_refrain)"
   ]
  },
  {
   "cell_type": "markdown",
   "metadata": {},
   "source": [
    "Once again, time differences, now for the second set of reference materials."
   ]
  },
  {
   "cell_type": "code",
   "execution_count": 84,
   "metadata": {},
   "outputs": [
    {
     "name": "stdout",
     "output_type": "stream",
     "text": [
      "bytes: b'\\x00\\x00'\n",
      "0\n"
     ]
    }
   ],
   "source": [
    "b = f_bin.read(2) # Should be variable.\n",
    "print(\"bytes:\", b)\n",
    "s4_refrainDiffHour = int.from_bytes(b, byteorder=\"big\", signed=False)\n",
    "print(s4_refrainDiffHour)"
   ]
  },
  {
   "cell_type": "code",
   "execution_count": 85,
   "metadata": {},
   "outputs": [
    {
     "name": "stdout",
     "output_type": "stream",
     "text": [
      "bytes: b'\\x00'\n",
      "0\n"
     ]
    }
   ],
   "source": [
    "b = f_bin.read(1) # Should be variable.\n",
    "print(\"bytes:\", b)\n",
    "s4_refrainDiffMin = int.from_bytes(b, byteorder=\"big\", signed=False)\n",
    "print(s4_refrainDiffMin)"
   ]
  },
  {
   "cell_type": "markdown",
   "metadata": {},
   "source": [
    "For reference, from the tenth byte through to the final byte of this section above, they say that \"template 4.50000\" is used."
   ]
  },
  {
   "cell_type": "markdown",
   "metadata": {},
   "source": [
    "___"
   ]
  },
  {
   "cell_type": "markdown",
   "metadata": {},
   "source": [
    "## Section 5: 資料表現節\n",
    "\n",
    "This section has \"representations\" of the main \"materials\". This is not the actual data, but rather the means of interpreting the data values which appear in the seventh section, a bit later."
   ]
  },
  {
   "cell_type": "code",
   "execution_count": 86,
   "metadata": {},
   "outputs": [
    {
     "data": {
      "text/plain": [
       "151"
      ]
     },
     "execution_count": 86,
     "metadata": {},
     "output_type": "execute_result"
    }
   ],
   "source": [
    "f_bin.seek((s0_seclen+s1_seclen+0+s3_seclen+s4_seclen))"
   ]
  },
  {
   "cell_type": "code",
   "execution_count": 87,
   "metadata": {},
   "outputs": [
    {
     "name": "stdout",
     "output_type": "stream",
     "text": [
      "bytes: b'\\x00\\x00\\x00%'\n",
      "37\n"
     ]
    }
   ],
   "source": [
    "b = f_bin.read(4) # Should be variable.\n",
    "print(\"bytes:\", b)\n",
    "s5_seclen = int.from_bytes(b, byteorder=\"big\", signed=False)\n",
    "print(s5_seclen)"
   ]
  },
  {
   "cell_type": "code",
   "execution_count": 88,
   "metadata": {},
   "outputs": [
    {
     "name": "stdout",
     "output_type": "stream",
     "text": [
      "bytes: b'\\x05'\n",
      "5\n"
     ]
    }
   ],
   "source": [
    "b = f_bin.read(1) # Should be 5.\n",
    "print(\"bytes:\", b)\n",
    "s5_secnum = int.from_bytes(b, byteorder=\"big\", signed=False)\n",
    "print(s5_secnum)"
   ]
  },
  {
   "cell_type": "markdown",
   "metadata": {},
   "source": [
    "Total number of data instances, should be equal to the number of lattice points seen earlier."
   ]
  },
  {
   "cell_type": "code",
   "execution_count": 89,
   "metadata": {},
   "outputs": [
    {
     "name": "stdout",
     "output_type": "stream",
     "text": [
      "bytes: b'\\x00\\x04`\\x00'\n",
      "286720\n"
     ]
    }
   ],
   "source": [
    "b = f_bin.read(4) # Should be 286720.\n",
    "print(\"bytes:\", b)\n",
    "s5_numdata = int.from_bytes(b, byteorder=\"big\", signed=False)\n",
    "print(s5_numdata)"
   ]
  },
  {
   "cell_type": "markdown",
   "metadata": {},
   "source": [
    "Next is the template number of these materials, details in 符号表5.0. Should be 200, with meaning of 格子点資料 with run-length compression (ランレングス圧縮)."
   ]
  },
  {
   "cell_type": "code",
   "execution_count": 90,
   "metadata": {},
   "outputs": [
    {
     "name": "stdout",
     "output_type": "stream",
     "text": [
      "bytes: b'\\x00\\xc8'\n",
      "200\n"
     ]
    }
   ],
   "source": [
    "b = f_bin.read(2) # Should be 200.\n",
    "print(\"bytes:\", b)\n",
    "s5_tempnum = int.from_bytes(b, byteorder=\"big\", signed=False)\n",
    "print(s5_tempnum)"
   ]
  },
  {
   "cell_type": "markdown",
   "metadata": {},
   "source": [
    "Next is the number of bits per individual datum."
   ]
  },
  {
   "cell_type": "code",
   "execution_count": 91,
   "metadata": {},
   "outputs": [
    {
     "name": "stdout",
     "output_type": "stream",
     "text": [
      "bytes: b'\\x08'\n",
      "8\n"
     ]
    }
   ],
   "source": [
    "b = f_bin.read(1) # Should be 8.\n",
    "print(\"bytes:\", b)\n",
    "s5_databits = int.from_bytes(b, byteorder=\"big\", signed=False)\n",
    "print(s5_databits)"
   ]
  },
  {
   "cell_type": "markdown",
   "metadata": {},
   "source": [
    "Maximum \"level\" used in compression this time, a potentially variable value. Defined $V$ for later algebraic formulations."
   ]
  },
  {
   "cell_type": "code",
   "execution_count": 92,
   "metadata": {},
   "outputs": [
    {
     "name": "stdout",
     "output_type": "stream",
     "text": [
      "bytes: b'\\x00\\x04'\n",
      "4\n"
     ]
    }
   ],
   "source": [
    "b = f_bin.read(2) # Should be variable.\n",
    "print(\"bytes:\", b)\n",
    "s5_V = int.from_bytes(b, byteorder=\"big\", signed=False)\n",
    "print(s5_V)"
   ]
  },
  {
   "cell_type": "markdown",
   "metadata": {},
   "source": [
    "Maximum level, should be ten, and defined as $M$ for later use. Also, should have $V \\leq M$."
   ]
  },
  {
   "cell_type": "code",
   "execution_count": 93,
   "metadata": {},
   "outputs": [
    {
     "name": "stdout",
     "output_type": "stream",
     "text": [
      "bytes: b'\\x00\\n'\n",
      "10\n"
     ]
    }
   ],
   "source": [
    "b = f_bin.read(2) # Should be 10.\n",
    "print(\"bytes:\", b)\n",
    "s5_M = int.from_bytes(b, byteorder=\"big\", signed=False)\n",
    "print(s5_M)"
   ]
  },
  {
   "cell_type": "markdown",
   "metadata": {},
   "source": [
    "Representative data value unit factor, should be zero."
   ]
  },
  {
   "cell_type": "code",
   "execution_count": 94,
   "metadata": {},
   "outputs": [
    {
     "name": "stdout",
     "output_type": "stream",
     "text": [
      "bytes: b'\\x00'\n",
      "0\n"
     ]
    }
   ],
   "source": [
    "b = f_bin.read(1) # Should be 0.\n",
    "print(\"bytes:\", b)\n",
    "s5_datafactor = int.from_bytes(b, byteorder=\"big\", signed=False)\n",
    "print(s5_datafactor)"
   ]
  },
  {
   "cell_type": "markdown",
   "metadata": {},
   "source": [
    "Now, ranging over $m=1,2,\\ldots,M$, we look at the data values that correspond to level $m$ (レベル$m$に対応するデータ代表値). Each of these uses two bytes. The interpretation is as follows (via ※2 in documentation):\n",
    "\n",
    "- $m=0$. $R(m)$ is null. This is missing value.\n",
    "- $m=1$. $R(m)=-2$. This is ocean or non-JPN lattice point.\n",
    "- $m=2$. $R(m)=-1$. Lattice point on Japanese land, but not applicable for warnings.\n",
    "- $m=3$. $R(m)=0$. This is warning level 0.\n",
    "- $m=4$. $R(m)=1$. This is warning level 1.\n",
    "- $m=5$. $R(m)=2$. This is warning level 2.\n",
    "- $m=6$. $R(m)=3$. This is warning level 3.\n",
    "- $m=7$. $R(m)=4$. This is warning level 4.\n",
    "- $m=8$. $R(m)=5$. This is TBD.\n",
    "- $m=9$. $R(m)=6$. This is TBD.\n",
    "- $m=10$. $R(m)=7$. This is TBD.\n",
    "\n",
    "Let's take a look at the first guys, one byte at a time."
   ]
  },
  {
   "cell_type": "code",
   "execution_count": 95,
   "metadata": {},
   "outputs": [
    {
     "name": "stdout",
     "output_type": "stream",
     "text": [
      "bytes: b'\\x80'\n",
      "bytes: b'\\x02'\n",
      "bytes: b'\\x80'\n",
      "bytes: b'\\x01'\n"
     ]
    }
   ],
   "source": [
    "b = f_bin.read(1)\n",
    "print(\"bytes:\", b)\n",
    "b = f_bin.read(1)\n",
    "print(\"bytes:\", b)\n",
    "b = f_bin.read(1)\n",
    "print(\"bytes:\", b)\n",
    "b = f_bin.read(1)\n",
    "print(\"bytes:\", b)"
   ]
  },
  {
   "cell_type": "markdown",
   "metadata": {},
   "source": [
    "Clearly, they're just using the byte value (in hex) of 0x80 to be a minus sign, as the second byte in each pair is precisely as we expect (2 and 1). Checking out the rest is easy."
   ]
  },
  {
   "cell_type": "code",
   "execution_count": 96,
   "metadata": {},
   "outputs": [
    {
     "name": "stdout",
     "output_type": "stream",
     "text": [
      "bytes: b'\\x00\\x00'\n",
      "m = 3 ; R(m) = 0\n",
      "bytes: b'\\x00\\x01'\n",
      "m = 4 ; R(m) = 1\n",
      "bytes: b'\\x00\\x02'\n",
      "m = 5 ; R(m) = 2\n",
      "bytes: b'\\x00\\x03'\n",
      "m = 6 ; R(m) = 3\n",
      "bytes: b'\\x00\\x04'\n",
      "m = 7 ; R(m) = 4\n",
      "bytes: b'\\x00\\x05'\n",
      "m = 8 ; R(m) = 5\n",
      "bytes: b'\\x00\\x06'\n",
      "m = 9 ; R(m) = 6\n",
      "bytes: b'\\x00\\x07'\n",
      "m = 10 ; R(m) = 7\n"
     ]
    }
   ],
   "source": [
    "for m in range(3,(s5_M+1)):\n",
    "    b = f_bin.read(2)\n",
    "    print(\"bytes:\", b)\n",
    "    tmp_level = int.from_bytes(b, byteorder=\"big\", signed=True)\n",
    "    print(\"m =\", m, \"; R(m) =\", tmp_level)"
   ]
  },
  {
   "cell_type": "markdown",
   "metadata": {},
   "source": [
    "___"
   ]
  },
  {
   "cell_type": "markdown",
   "metadata": {},
   "source": [
    "## Section 6: ビットマップ節\n",
    "\n",
    "This section is basically null, spanning just six bytes."
   ]
  },
  {
   "cell_type": "code",
   "execution_count": 97,
   "metadata": {},
   "outputs": [
    {
     "data": {
      "text/plain": [
       "188"
      ]
     },
     "execution_count": 97,
     "metadata": {},
     "output_type": "execute_result"
    }
   ],
   "source": [
    "f_bin.seek((s0_seclen+s1_seclen+0+s3_seclen+s4_seclen+s5_seclen))"
   ]
  },
  {
   "cell_type": "code",
   "execution_count": 98,
   "metadata": {},
   "outputs": [
    {
     "name": "stdout",
     "output_type": "stream",
     "text": [
      "bytes: b'\\x00\\x00\\x00\\x06'\n",
      "6\n"
     ]
    }
   ],
   "source": [
    "b = f_bin.read(4) # Should be 6.\n",
    "print(\"bytes:\", b)\n",
    "s6_seclen = int.from_bytes(b, byteorder=\"big\", signed=False)\n",
    "print(s6_seclen)"
   ]
  },
  {
   "cell_type": "code",
   "execution_count": 99,
   "metadata": {},
   "outputs": [
    {
     "name": "stdout",
     "output_type": "stream",
     "text": [
      "bytes: b'\\x06'\n",
      "6\n"
     ]
    }
   ],
   "source": [
    "b = f_bin.read(1) # Should be 6.\n",
    "print(\"bytes:\", b)\n",
    "s6_secnum = int.from_bytes(b, byteorder=\"big\", signed=False)\n",
    "print(s6_secnum)"
   ]
  },
  {
   "cell_type": "markdown",
   "metadata": {},
   "source": [
    "Bitmap directive, should be 255, meaning that a bitmap isn't used here."
   ]
  },
  {
   "cell_type": "code",
   "execution_count": 100,
   "metadata": {},
   "outputs": [
    {
     "name": "stdout",
     "output_type": "stream",
     "text": [
      "bytes: b'\\xff'\n",
      "255\n"
     ]
    }
   ],
   "source": [
    "b = f_bin.read(1) # Should be 255.\n",
    "print(\"bytes:\", b)\n",
    "s6_bitmap = int.from_bytes(b, byteorder=\"big\", signed=False)\n",
    "print(s6_bitmap)"
   ]
  },
  {
   "cell_type": "markdown",
   "metadata": {},
   "source": [
    "___"
   ]
  },
  {
   "cell_type": "markdown",
   "metadata": {},
   "source": [
    "## Section 7: 資料節\n",
    "\n",
    "Finally, the data section."
   ]
  },
  {
   "cell_type": "code",
   "execution_count": 101,
   "metadata": {},
   "outputs": [
    {
     "data": {
      "text/plain": [
       "194"
      ]
     },
     "execution_count": 101,
     "metadata": {},
     "output_type": "execute_result"
    }
   ],
   "source": [
    "f_bin.seek((s0_seclen+s1_seclen+0+s3_seclen+s4_seclen+s5_seclen+s6_seclen))"
   ]
  },
  {
   "cell_type": "code",
   "execution_count": 102,
   "metadata": {},
   "outputs": [
    {
     "name": "stdout",
     "output_type": "stream",
     "text": [
      "bytes: b'\\x00\\x00\\r\\xe6'\n",
      "3558\n"
     ]
    }
   ],
   "source": [
    "b = f_bin.read(4) # Should be variable.\n",
    "print(\"bytes:\", b)\n",
    "s7_seclen = int.from_bytes(b, byteorder=\"big\", signed=False)\n",
    "print(s7_seclen)"
   ]
  },
  {
   "cell_type": "code",
   "execution_count": 103,
   "metadata": {},
   "outputs": [
    {
     "name": "stdout",
     "output_type": "stream",
     "text": [
      "bytes: b'\\x07'\n",
      "7\n"
     ]
    }
   ],
   "source": [
    "b = f_bin.read(1) # Should be 7.\n",
    "print(\"bytes:\", b)\n",
    "s7_secnum = int.from_bytes(b, byteorder=\"big\", signed=False)\n",
    "print(s7_secnum)"
   ]
  },
  {
   "cell_type": "markdown",
   "metadata": {},
   "source": [
    "Now comes a long series of data *values*, although these are \"run-length compressed octects\". The decompression is extremely straightforward once we know how the compression is done. Fortunately, this is explained in the second reference material linked at the start of this notebook."
   ]
  },
  {
   "cell_type": "code",
   "execution_count": 104,
   "metadata": {},
   "outputs": [],
   "source": [
    "bytes_left = s7_seclen - 5 # number of bytes left in this section."
   ]
  },
  {
   "cell_type": "code",
   "execution_count": 105,
   "metadata": {},
   "outputs": [],
   "source": [
    "# Before doing anything, read out the compressed data sequence.\n",
    "data_compressed = []\n",
    "bpd = s5_databits // 8 # bytes per data point.\n",
    "for i in range(bytes_left):\n",
    "    b = f_bin.read(bpd)\n",
    "    #print(\"bytes:\", b)\n",
    "    b_int = int.from_bytes(b, byteorder=\"big\", signed=False)\n",
    "    data_compressed += [b_int]"
   ]
  },
  {
   "cell_type": "code",
   "execution_count": 106,
   "metadata": {},
   "outputs": [],
   "source": [
    "# Key constants for decompression.\n",
    "NBIT = s5_databits\n",
    "MAXV = s5_V\n",
    "LNGU = 2**NBIT - 1 - MAXV"
   ]
  },
  {
   "cell_type": "code",
   "execution_count": 107,
   "metadata": {},
   "outputs": [
    {
     "name": "stdout",
     "output_type": "stream",
     "text": [
      "8 4 251\n"
     ]
    }
   ],
   "source": [
    "print(NBIT, MAXV, LNGU)"
   ]
  },
  {
   "cell_type": "code",
   "execution_count": 108,
   "metadata": {},
   "outputs": [],
   "source": [
    "import numpy as np"
   ]
  },
  {
   "cell_type": "code",
   "execution_count": 109,
   "metadata": {
    "scrolled": true
   },
   "outputs": [
    {
     "name": "stdout",
     "output_type": "stream",
     "text": [
      "tocheck = 1 ; dict = {'data': [], 'runlen': []}\n",
      "tocheck = 123 ; dict = {'data': [1], 'runlen': []}\n",
      "tocheck = 106 ; dict = {'data': [1], 'runlen': [123]}\n",
      "tocheck = 3 ; dict = {'data': [1], 'runlen': [123, 106]}\n",
      "tocheck = 6 ; dict = {'data': [3], 'runlen': []}\n",
      "tocheck = 1 ; dict = {'data': [3], 'runlen': [6]}\n",
      "tocheck = 248 ; dict = {'data': [1], 'runlen': []}\n",
      "tocheck = 6 ; dict = {'data': [1], 'runlen': [248]}\n",
      "tocheck = 3 ; dict = {'data': [1], 'runlen': [248, 6]}\n",
      "tocheck = 6 ; dict = {'data': [3], 'runlen': []}\n",
      "tocheck = 1 ; dict = {'data': [3], 'runlen': [6]}\n",
      "tocheck = 16 ; dict = {'data': [1], 'runlen': []}\n",
      "tocheck = 3 ; dict = {'data': [1], 'runlen': [16]}\n",
      "tocheck = 8 ; dict = {'data': [3], 'runlen': []}\n",
      "tocheck = 1 ; dict = {'data': [3], 'runlen': [8]}\n",
      "tocheck = 247 ; dict = {'data': [1], 'runlen': []}\n",
      "tocheck = 6 ; dict = {'data': [1], 'runlen': [247]}\n",
      "tocheck = 3 ; dict = {'data': [1], 'runlen': [247, 6]}\n",
      "tocheck = 7 ; dict = {'data': [3], 'runlen': []}\n",
      "tocheck = 1 ; dict = {'data': [3], 'runlen': [7]}\n",
      "tocheck = 12 ; dict = {'data': [1], 'runlen': []}\n",
      "tocheck = 3 ; dict = {'data': [1], 'runlen': [12]}\n",
      "tocheck = 11 ; dict = {'data': [3], 'runlen': []}\n",
      "tocheck = 1 ; dict = {'data': [3], 'runlen': [11]}\n",
      "tocheck = 247 ; dict = {'data': [1], 'runlen': []}\n",
      "tocheck = 6 ; dict = {'data': [1], 'runlen': [247]}\n",
      "tocheck = 3 ; dict = {'data': [1], 'runlen': [247, 6]}\n",
      "tocheck = 6 ; dict = {'data': [3], 'runlen': []}\n",
      "tocheck = 1 ; dict = {'data': [3], 'runlen': [6]}\n",
      "tocheck = 13 ; dict = {'data': [1], 'runlen': []}\n",
      "tocheck = 3 ; dict = {'data': [1], 'runlen': [13]}\n",
      "tocheck = 13 ; dict = {'data': [3], 'runlen': []}\n",
      "tocheck = 1 ; dict = {'data': [3], 'runlen': [13]}\n",
      "tocheck = 245 ; dict = {'data': [1], 'runlen': []}\n",
      "tocheck = 6 ; dict = {'data': [1], 'runlen': [245]}\n",
      "tocheck = 3 ; dict = {'data': [1], 'runlen': [245, 6]}\n",
      "tocheck = 6 ; dict = {'data': [3], 'runlen': []}\n",
      "tocheck = 1 ; dict = {'data': [3], 'runlen': [6]}\n",
      "tocheck = 12 ; dict = {'data': [1], 'runlen': []}\n",
      "tocheck = 3 ; dict = {'data': [1], 'runlen': [12]}\n",
      "tocheck = 15 ; dict = {'data': [3], 'runlen': []}\n",
      "tocheck = 1 ; dict = {'data': [3], 'runlen': [15]}\n",
      "tocheck = 245 ; dict = {'data': [1], 'runlen': []}\n",
      "tocheck = 6 ; dict = {'data': [1], 'runlen': [245]}\n",
      "tocheck = 3 ; dict = {'data': [1], 'runlen': [245, 6]}\n",
      "tocheck = 1 ; dict = {'data': [3], 'runlen': []}\n",
      "tocheck = 3 ; dict = {'data': [1], 'runlen': []}\n",
      "tocheck = 6 ; dict = {'data': [3], 'runlen': []}\n",
      "tocheck = 1 ; dict = {'data': [3], 'runlen': [6]}\n",
      "tocheck = 9 ; dict = {'data': [1], 'runlen': []}\n",
      "tocheck = 3 ; dict = {'data': [1], 'runlen': [9]}\n",
      "tocheck = 16 ; dict = {'data': [3], 'runlen': []}\n",
      "tocheck = 1 ; dict = {'data': [3], 'runlen': [16]}\n",
      "tocheck = 246 ; dict = {'data': [1], 'runlen': []}\n",
      "tocheck = 6 ; dict = {'data': [1], 'runlen': [246]}\n",
      "tocheck = 3 ; dict = {'data': [1], 'runlen': [246, 6]}\n",
      "tocheck = 8 ; dict = {'data': [3], 'runlen': []}\n",
      "tocheck = 1 ; dict = {'data': [3], 'runlen': [8]}\n",
      "tocheck = 7 ; dict = {'data': [1], 'runlen': []}\n",
      "tocheck = 3 ; dict = {'data': [1], 'runlen': [7]}\n",
      "tocheck = 17 ; dict = {'data': [3], 'runlen': []}\n",
      "tocheck = 1 ; dict = {'data': [3], 'runlen': [17]}\n",
      "tocheck = 245 ; dict = {'data': [1], 'runlen': []}\n",
      "tocheck = 6 ; dict = {'data': [1], 'runlen': [245]}\n",
      "tocheck = 3 ; dict = {'data': [1], 'runlen': [245, 6]}\n",
      "tocheck = 8 ; dict = {'data': [3], 'runlen': []}\n",
      "tocheck = 1 ; dict = {'data': [3], 'runlen': [8]}\n",
      "tocheck = 7 ; dict = {'data': [1], 'runlen': []}\n",
      "tocheck = 3 ; dict = {'data': [1], 'runlen': [7]}\n",
      "tocheck = 17 ; dict = {'data': [3], 'runlen': []}\n",
      "tocheck = 1 ; dict = {'data': [3], 'runlen': [17]}\n",
      "tocheck = 245 ; dict = {'data': [1], 'runlen': []}\n",
      "tocheck = 6 ; dict = {'data': [1], 'runlen': [245]}\n",
      "tocheck = 3 ; dict = {'data': [1], 'runlen': [245, 6]}\n",
      "tocheck = 8 ; dict = {'data': [3], 'runlen': []}\n",
      "tocheck = 1 ; dict = {'data': [3], 'runlen': [8]}\n",
      "tocheck = 7 ; dict = {'data': [1], 'runlen': []}\n",
      "tocheck = 3 ; dict = {'data': [1], 'runlen': [7]}\n",
      "tocheck = 18 ; dict = {'data': [3], 'runlen': []}\n",
      "tocheck = 1 ; dict = {'data': [3], 'runlen': [18]}\n",
      "tocheck = 245 ; dict = {'data': [1], 'runlen': []}\n",
      "tocheck = 6 ; dict = {'data': [1], 'runlen': [245]}\n",
      "tocheck = 3 ; dict = {'data': [1], 'runlen': [245, 6]}\n",
      "tocheck = 1 ; dict = {'data': [3], 'runlen': []}\n",
      "tocheck = 9 ; dict = {'data': [1], 'runlen': []}\n",
      "tocheck = 3 ; dict = {'data': [1], 'runlen': [9]}\n",
      "tocheck = 20 ; dict = {'data': [3], 'runlen': []}\n",
      "tocheck = 1 ; dict = {'data': [3], 'runlen': [20]}\n",
      "tocheck = 250 ; dict = {'data': [1], 'runlen': []}\n",
      "tocheck = 6 ; dict = {'data': [1], 'runlen': [250]}\n",
      "tocheck = 3 ; dict = {'data': [1], 'runlen': [250, 6]}\n",
      "tocheck = 19 ; dict = {'data': [3], 'runlen': []}\n",
      "tocheck = 1 ; dict = {'data': [3], 'runlen': [19]}\n",
      "tocheck = 250 ; dict = {'data': [1], 'runlen': []}\n",
      "tocheck = 6 ; dict = {'data': [1], 'runlen': [250]}\n",
      "tocheck = 3 ; dict = {'data': [1], 'runlen': [250, 6]}\n",
      "tocheck = 20 ; dict = {'data': [3], 'runlen': []}\n",
      "tocheck = 1 ; dict = {'data': [3], 'runlen': [20]}\n",
      "tocheck = 250 ; dict = {'data': [1], 'runlen': []}\n",
      "tocheck = 6 ; dict = {'data': [1], 'runlen': [250]}\n",
      "tocheck = 3 ; dict = {'data': [1], 'runlen': [250, 6]}\n",
      "tocheck = 19 ; dict = {'data': [3], 'runlen': []}\n",
      "tocheck = 1 ; dict = {'data': [3], 'runlen': [19]}\n",
      "tocheck = 250 ; dict = {'data': [1], 'runlen': []}\n",
      "tocheck = 6 ; dict = {'data': [1], 'runlen': [250]}\n",
      "tocheck = 3 ; dict = {'data': [1], 'runlen': [250, 6]}\n",
      "tocheck = 20 ; dict = {'data': [3], 'runlen': []}\n",
      "tocheck = 1 ; dict = {'data': [3], 'runlen': [20]}\n",
      "tocheck = 249 ; dict = {'data': [1], 'runlen': []}\n",
      "tocheck = 6 ; dict = {'data': [1], 'runlen': [249]}\n",
      "tocheck = 3 ; dict = {'data': [1], 'runlen': [249, 6]}\n",
      "tocheck = 21 ; dict = {'data': [3], 'runlen': []}\n",
      "tocheck = 1 ; dict = {'data': [3], 'runlen': [21]}\n",
      "tocheck = 249 ; dict = {'data': [1], 'runlen': []}\n",
      "tocheck = 6 ; dict = {'data': [1], 'runlen': [249]}\n",
      "tocheck = 3 ; dict = {'data': [1], 'runlen': [249, 6]}\n",
      "tocheck = 21 ; dict = {'data': [3], 'runlen': []}\n",
      "tocheck = 1 ; dict = {'data': [3], 'runlen': [21]}\n",
      "tocheck = 248 ; dict = {'data': [1], 'runlen': []}\n",
      "tocheck = 6 ; dict = {'data': [1], 'runlen': [248]}\n",
      "tocheck = 3 ; dict = {'data': [1], 'runlen': [248, 6]}\n",
      "tocheck = 22 ; dict = {'data': [3], 'runlen': []}\n",
      "tocheck = 1 ; dict = {'data': [3], 'runlen': [22]}\n",
      "tocheck = 247 ; dict = {'data': [1], 'runlen': []}\n",
      "tocheck = 6 ; dict = {'data': [1], 'runlen': [247]}\n",
      "tocheck = 3 ; dict = {'data': [1], 'runlen': [247, 6]}\n",
      "tocheck = 23 ; dict = {'data': [3], 'runlen': []}\n",
      "tocheck = 1 ; dict = {'data': [3], 'runlen': [23]}\n",
      "tocheck = 246 ; dict = {'data': [1], 'runlen': []}\n",
      "tocheck = 6 ; dict = {'data': [1], 'runlen': [246]}\n",
      "tocheck = 3 ; dict = {'data': [1], 'runlen': [246, 6]}\n",
      "tocheck = 24 ; dict = {'data': [3], 'runlen': []}\n",
      "tocheck = 1 ; dict = {'data': [3], 'runlen': [24]}\n",
      "tocheck = 245 ; dict = {'data': [1], 'runlen': []}\n",
      "tocheck = 6 ; dict = {'data': [1], 'runlen': [245]}\n",
      "tocheck = 3 ; dict = {'data': [1], 'runlen': [245, 6]}\n",
      "tocheck = 25 ; dict = {'data': [3], 'runlen': []}\n",
      "tocheck = 1 ; dict = {'data': [3], 'runlen': [25]}\n",
      "tocheck = 244 ; dict = {'data': [1], 'runlen': []}\n",
      "tocheck = 6 ; dict = {'data': [1], 'runlen': [244]}\n",
      "tocheck = 3 ; dict = {'data': [1], 'runlen': [244, 6]}\n",
      "tocheck = 26 ; dict = {'data': [3], 'runlen': []}\n",
      "tocheck = 1 ; dict = {'data': [3], 'runlen': [26]}\n",
      "tocheck = 243 ; dict = {'data': [1], 'runlen': []}\n",
      "tocheck = 6 ; dict = {'data': [1], 'runlen': [243]}\n",
      "tocheck = 3 ; dict = {'data': [1], 'runlen': [243, 6]}\n",
      "tocheck = 28 ; dict = {'data': [3], 'runlen': []}\n",
      "tocheck = 1 ; dict = {'data': [3], 'runlen': [28]}\n",
      "tocheck = 233 ; dict = {'data': [1], 'runlen': []}\n",
      "tocheck = 6 ; dict = {'data': [1], 'runlen': [233]}\n",
      "tocheck = 3 ; dict = {'data': [1], 'runlen': [233, 6]}\n",
      "tocheck = 7 ; dict = {'data': [3], 'runlen': []}\n",
      "tocheck = 1 ; dict = {'data': [3], 'runlen': [7]}\n",
      "tocheck = 8 ; dict = {'data': [1], 'runlen': []}\n",
      "tocheck = 3 ; dict = {'data': [1], 'runlen': [8]}\n",
      "tocheck = 30 ; dict = {'data': [3], 'runlen': []}\n",
      "tocheck = 1 ; dict = {'data': [3], 'runlen': [30]}\n",
      "tocheck = 238 ; dict = {'data': [1], 'runlen': []}\n",
      "tocheck = 6 ; dict = {'data': [1], 'runlen': [238]}\n",
      "tocheck = 3 ; dict = {'data': [1], 'runlen': [238, 6]}\n",
      "tocheck = 32 ; dict = {'data': [3], 'runlen': []}\n",
      "tocheck = 1 ; dict = {'data': [3], 'runlen': [32]}\n",
      "tocheck = 237 ; dict = {'data': [1], 'runlen': []}\n",
      "tocheck = 6 ; dict = {'data': [1], 'runlen': [237]}\n",
      "tocheck = 3 ; dict = {'data': [1], 'runlen': [237, 6]}\n",
      "tocheck = 33 ; dict = {'data': [3], 'runlen': []}\n",
      "tocheck = 1 ; dict = {'data': [3], 'runlen': [33]}\n",
      "tocheck = 33 ; dict = {'data': [1], 'runlen': []}\n",
      "tocheck = 3 ; dict = {'data': [1], 'runlen': [33]}\n",
      "tocheck = 6 ; dict = {'data': [3], 'runlen': []}\n",
      "tocheck = 1 ; dict = {'data': [3], 'runlen': [6]}\n",
      "tocheck = 205 ; dict = {'data': [1], 'runlen': []}\n",
      "tocheck = 6 ; dict = {'data': [1], 'runlen': [205]}\n",
      "tocheck = 3 ; dict = {'data': [1], 'runlen': [205, 6]}\n",
      "tocheck = 36 ; dict = {'data': [3], 'runlen': []}\n",
      "tocheck = 1 ; dict = {'data': [3], 'runlen': [36]}\n",
      "tocheck = 29 ; dict = {'data': [1], 'runlen': []}\n",
      "tocheck = 3 ; dict = {'data': [1], 'runlen': [29]}\n",
      "tocheck = 7 ; dict = {'data': [3], 'runlen': []}\n",
      "tocheck = 1 ; dict = {'data': [3], 'runlen': [7]}\n",
      "tocheck = 205 ; dict = {'data': [1], 'runlen': []}\n",
      "tocheck = 6 ; dict = {'data': [1], 'runlen': [205]}\n",
      "tocheck = 3 ; dict = {'data': [1], 'runlen': [205, 6]}\n",
      "tocheck = 38 ; dict = {'data': [3], 'runlen': []}\n",
      "tocheck = 1 ; dict = {'data': [3], 'runlen': [38]}\n",
      "tocheck = 27 ; dict = {'data': [1], 'runlen': []}\n",
      "tocheck = 3 ; dict = {'data': [1], 'runlen': [27]}\n",
      "tocheck = 7 ; dict = {'data': [3], 'runlen': []}\n",
      "tocheck = 1 ; dict = {'data': [3], 'runlen': [7]}\n",
      "tocheck = 205 ; dict = {'data': [1], 'runlen': []}\n",
      "tocheck = 6 ; dict = {'data': [1], 'runlen': [205]}\n",
      "tocheck = 3 ; dict = {'data': [1], 'runlen': [205, 6]}\n",
      "tocheck = 41 ; dict = {'data': [3], 'runlen': []}\n",
      "tocheck = 1 ; dict = {'data': [3], 'runlen': [41]}\n",
      "tocheck = 22 ; dict = {'data': [1], 'runlen': []}\n",
      "tocheck = 3 ; dict = {'data': [1], 'runlen': [22]}\n",
      "tocheck = 9 ; dict = {'data': [3], 'runlen': []}\n",
      "tocheck = 1 ; dict = {'data': [3], 'runlen': [9]}\n",
      "tocheck = 205 ; dict = {'data': [1], 'runlen': []}\n",
      "tocheck = 6 ; dict = {'data': [1], 'runlen': [205]}\n",
      "tocheck = 3 ; dict = {'data': [1], 'runlen': [205, 6]}\n",
      "tocheck = 47 ; dict = {'data': [3], 'runlen': []}\n",
      "tocheck = 1 ; dict = {'data': [3], 'runlen': [47]}\n",
      "tocheck = 15 ; dict = {'data': [1], 'runlen': []}\n",
      "tocheck = 3 ; dict = {'data': [1], 'runlen': [15]}\n",
      "tocheck = 9 ; dict = {'data': [3], 'runlen': []}\n",
      "tocheck = 1 ; dict = {'data': [3], 'runlen': [9]}\n",
      "tocheck = 206 ; dict = {'data': [1], 'runlen': []}\n",
      "tocheck = 6 ; dict = {'data': [1], 'runlen': [206]}\n",
      "tocheck = 3 ; dict = {'data': [1], 'runlen': [206, 6]}\n",
      "tocheck = 47 ; dict = {'data': [3], 'runlen': []}\n",
      "tocheck = 1 ; dict = {'data': [3], 'runlen': [47]}\n",
      "tocheck = 14 ; dict = {'data': [1], 'runlen': []}\n",
      "tocheck = 3 ; dict = {'data': [1], 'runlen': [14]}\n",
      "tocheck = 9 ; dict = {'data': [3], 'runlen': []}\n",
      "tocheck = 1 ; dict = {'data': [3], 'runlen': [9]}\n",
      "tocheck = 207 ; dict = {'data': [1], 'runlen': []}\n",
      "tocheck = 6 ; dict = {'data': [1], 'runlen': [207]}\n",
      "tocheck = 3 ; dict = {'data': [1], 'runlen': [207, 6]}\n",
      "tocheck = 47 ; dict = {'data': [3], 'runlen': []}\n",
      "tocheck = 1 ; dict = {'data': [3], 'runlen': [47]}\n",
      "tocheck = 13 ; dict = {'data': [1], 'runlen': []}\n",
      "tocheck = 3 ; dict = {'data': [1], 'runlen': [13]}\n",
      "tocheck = 10 ; dict = {'data': [3], 'runlen': []}\n",
      "tocheck = 1 ; dict = {'data': [3], 'runlen': [10]}\n",
      "tocheck = 207 ; dict = {'data': [1], 'runlen': []}\n",
      "tocheck = 6 ; dict = {'data': [1], 'runlen': [207]}\n",
      "tocheck = 3 ; dict = {'data': [1], 'runlen': [207, 6]}\n",
      "tocheck = 49 ; dict = {'data': [3], 'runlen': []}\n",
      "tocheck = 1 ; dict = {'data': [3], 'runlen': [49]}\n",
      "tocheck = 10 ; dict = {'data': [1], 'runlen': []}\n",
      "tocheck = 3 ; dict = {'data': [1], 'runlen': [10]}\n",
      "tocheck = 10 ; dict = {'data': [3], 'runlen': []}\n",
      "tocheck = 1 ; dict = {'data': [3], 'runlen': [10]}\n",
      "tocheck = 207 ; dict = {'data': [1], 'runlen': []}\n",
      "tocheck = 6 ; dict = {'data': [1], 'runlen': [207]}\n",
      "tocheck = 3 ; dict = {'data': [1], 'runlen': [207, 6]}\n",
      "tocheck = 62 ; dict = {'data': [3], 'runlen': []}\n",
      "tocheck = 1 ; dict = {'data': [3], 'runlen': [62]}\n",
      "tocheck = 206 ; dict = {'data': [1], 'runlen': []}\n",
      "tocheck = 6 ; dict = {'data': [1], 'runlen': [206]}\n",
      "tocheck = 3 ; dict = {'data': [1], 'runlen': [206, 6]}\n",
      "tocheck = 62 ; dict = {'data': [3], 'runlen': []}\n",
      "tocheck = 1 ; dict = {'data': [3], 'runlen': [62]}\n",
      "tocheck = 205 ; dict = {'data': [1], 'runlen': []}\n",
      "tocheck = 6 ; dict = {'data': [1], 'runlen': [205]}\n",
      "tocheck = 3 ; dict = {'data': [1], 'runlen': [205, 6]}\n",
      "tocheck = 64 ; dict = {'data': [3], 'runlen': []}\n",
      "tocheck = 1 ; dict = {'data': [3], 'runlen': [64]}\n",
      "tocheck = 204 ; dict = {'data': [1], 'runlen': []}\n",
      "tocheck = 6 ; dict = {'data': [1], 'runlen': [204]}\n",
      "tocheck = 3 ; dict = {'data': [1], 'runlen': [204, 6]}\n",
      "tocheck = 65 ; dict = {'data': [3], 'runlen': []}\n",
      "tocheck = 1 ; dict = {'data': [3], 'runlen': [65]}\n",
      "tocheck = 204 ; dict = {'data': [1], 'runlen': []}\n",
      "tocheck = 6 ; dict = {'data': [1], 'runlen': [204]}\n",
      "tocheck = 3 ; dict = {'data': [1], 'runlen': [204, 6]}\n",
      "tocheck = 65 ; dict = {'data': [3], 'runlen': []}\n",
      "tocheck = 1 ; dict = {'data': [3], 'runlen': [65]}\n",
      "tocheck = 204 ; dict = {'data': [1], 'runlen': []}\n",
      "tocheck = 6 ; dict = {'data': [1], 'runlen': [204]}\n",
      "tocheck = 3 ; dict = {'data': [1], 'runlen': [204, 6]}\n",
      "tocheck = 66 ; dict = {'data': [3], 'runlen': []}\n",
      "tocheck = 1 ; dict = {'data': [3], 'runlen': [66]}\n",
      "tocheck = 203 ; dict = {'data': [1], 'runlen': []}\n",
      "tocheck = 6 ; dict = {'data': [1], 'runlen': [203]}\n",
      "tocheck = 3 ; dict = {'data': [1], 'runlen': [203, 6]}\n",
      "tocheck = 69 ; dict = {'data': [3], 'runlen': []}\n",
      "tocheck = 1 ; dict = {'data': [3], 'runlen': [69]}\n",
      "tocheck = 200 ; dict = {'data': [1], 'runlen': []}\n",
      "tocheck = 6 ; dict = {'data': [1], 'runlen': [200]}\n",
      "tocheck = 3 ; dict = {'data': [1], 'runlen': [200, 6]}\n",
      "tocheck = 69 ; dict = {'data': [3], 'runlen': []}\n",
      "tocheck = 1 ; dict = {'data': [3], 'runlen': [69]}\n",
      "tocheck = 200 ; dict = {'data': [1], 'runlen': []}\n",
      "tocheck = 6 ; dict = {'data': [1], 'runlen': [200]}\n",
      "tocheck = 3 ; dict = {'data': [1], 'runlen': [200, 6]}\n",
      "tocheck = 67 ; dict = {'data': [3], 'runlen': []}\n",
      "tocheck = 1 ; dict = {'data': [3], 'runlen': [67]}\n",
      "tocheck = 202 ; dict = {'data': [1], 'runlen': []}\n",
      "tocheck = 6 ; dict = {'data': [1], 'runlen': [202]}\n",
      "tocheck = 3 ; dict = {'data': [1], 'runlen': [202, 6]}\n",
      "tocheck = 68 ; dict = {'data': [3], 'runlen': []}\n",
      "tocheck = 1 ; dict = {'data': [3], 'runlen': [68]}\n",
      "tocheck = 202 ; dict = {'data': [1], 'runlen': []}\n",
      "tocheck = 6 ; dict = {'data': [1], 'runlen': [202]}\n",
      "tocheck = 3 ; dict = {'data': [1], 'runlen': [202, 6]}\n",
      "tocheck = 67 ; dict = {'data': [3], 'runlen': []}\n",
      "tocheck = 1 ; dict = {'data': [3], 'runlen': [67]}\n",
      "tocheck = 187 ; dict = {'data': [1], 'runlen': []}\n",
      "tocheck = 6 ; dict = {'data': [1], 'runlen': [187]}\n",
      "tocheck = 3 ; dict = {'data': [1], 'runlen': [187, 6]}\n",
      "tocheck = 6 ; dict = {'data': [3], 'runlen': []}\n",
      "tocheck = 1 ; dict = {'data': [3], 'runlen': [6]}\n",
      "tocheck = 17 ; dict = {'data': [1], 'runlen': []}\n",
      "tocheck = 3 ; dict = {'data': [1], 'runlen': [17]}\n",
      "tocheck = 68 ; dict = {'data': [3], 'runlen': []}\n",
      "tocheck = 1 ; dict = {'data': [3], 'runlen': [68]}\n",
      "tocheck = 7 ; dict = {'data': [1], 'runlen': []}\n",
      "tocheck = 3 ; dict = {'data': [1], 'runlen': [7]}\n",
      "tocheck = 9 ; dict = {'data': [3], 'runlen': []}\n",
      "tocheck = 1 ; dict = {'data': [3], 'runlen': [9]}\n",
      "tocheck = 176 ; dict = {'data': [1], 'runlen': []}\n",
      "tocheck = 6 ; dict = {'data': [1], 'runlen': [176]}\n",
      "tocheck = 3 ; dict = {'data': [1], 'runlen': [176, 6]}\n",
      "tocheck = 9 ; dict = {'data': [3], 'runlen': []}\n",
      "tocheck = 1 ; dict = {'data': [3], 'runlen': [9]}\n",
      "tocheck = 16 ; dict = {'data': [1], 'runlen': []}\n",
      "tocheck = 3 ; dict = {'data': [1], 'runlen': [16]}\n",
      "tocheck = 69 ; dict = {'data': [3], 'runlen': []}\n",
      "tocheck = 1 ; dict = {'data': [3], 'runlen': [69]}\n",
      "tocheck = 3 ; dict = {'data': [1], 'runlen': []}\n",
      "tocheck = 9 ; dict = {'data': [3], 'runlen': []}\n",
      "tocheck = 1 ; dict = {'data': [3], 'runlen': [9]}\n",
      "tocheck = 177 ; dict = {'data': [1], 'runlen': []}\n",
      "tocheck = 6 ; dict = {'data': [1], 'runlen': [177]}\n",
      "tocheck = 3 ; dict = {'data': [1], 'runlen': [177, 6]}\n",
      "tocheck = 11 ; dict = {'data': [3], 'runlen': []}\n",
      "tocheck = 1 ; dict = {'data': [3], 'runlen': [11]}\n",
      "tocheck = 13 ; dict = {'data': [1], 'runlen': []}\n",
      "tocheck = 3 ; dict = {'data': [1], 'runlen': [13]}\n",
      "tocheck = 73 ; dict = {'data': [3], 'runlen': []}\n",
      "tocheck = 1 ; dict = {'data': [3], 'runlen': [73]}\n",
      "tocheck = 180 ; dict = {'data': [1], 'runlen': []}\n",
      "tocheck = 6 ; dict = {'data': [1], 'runlen': [180]}\n",
      "tocheck = 3 ; dict = {'data': [1], 'runlen': [180, 6]}\n",
      "tocheck = 16 ; dict = {'data': [3], 'runlen': []}\n",
      "tocheck = 1 ; dict = {'data': [3], 'runlen': [16]}\n",
      "tocheck = 7 ; dict = {'data': [1], 'runlen': []}\n",
      "tocheck = 3 ; dict = {'data': [1], 'runlen': [7]}\n",
      "tocheck = 74 ; dict = {'data': [3], 'runlen': []}\n",
      "tocheck = 1 ; dict = {'data': [3], 'runlen': [74]}\n",
      "tocheck = 180 ; dict = {'data': [1], 'runlen': []}\n",
      "tocheck = 6 ; dict = {'data': [1], 'runlen': [180]}\n",
      "tocheck = 3 ; dict = {'data': [1], 'runlen': [180, 6]}\n",
      "tocheck = 88 ; dict = {'data': [3], 'runlen': []}\n",
      "tocheck = 1 ; dict = {'data': [3], 'runlen': [88]}\n",
      "tocheck = 182 ; dict = {'data': [1], 'runlen': []}\n",
      "tocheck = 6 ; dict = {'data': [1], 'runlen': [182]}\n",
      "tocheck = 3 ; dict = {'data': [1], 'runlen': [182, 6]}\n",
      "tocheck = 82 ; dict = {'data': [3], 'runlen': []}\n",
      "tocheck = 1 ; dict = {'data': [3], 'runlen': [82]}\n",
      "tocheck = 188 ; dict = {'data': [1], 'runlen': []}\n",
      "tocheck = 6 ; dict = {'data': [1], 'runlen': [188]}\n",
      "tocheck = 3 ; dict = {'data': [1], 'runlen': [188, 6]}\n",
      "tocheck = 80 ; dict = {'data': [3], 'runlen': []}\n",
      "tocheck = 1 ; dict = {'data': [3], 'runlen': [80]}\n",
      "tocheck = 190 ; dict = {'data': [1], 'runlen': []}\n",
      "tocheck = 6 ; dict = {'data': [1], 'runlen': [190]}\n",
      "tocheck = 3 ; dict = {'data': [1], 'runlen': [190, 6]}\n",
      "tocheck = 78 ; dict = {'data': [3], 'runlen': []}\n",
      "tocheck = 1 ; dict = {'data': [3], 'runlen': [78]}\n",
      "tocheck = 189 ; dict = {'data': [1], 'runlen': []}\n",
      "tocheck = 6 ; dict = {'data': [1], 'runlen': [189]}\n",
      "tocheck = 3 ; dict = {'data': [1], 'runlen': [189, 6]}\n",
      "tocheck = 79 ; dict = {'data': [3], 'runlen': []}\n",
      "tocheck = 1 ; dict = {'data': [3], 'runlen': [79]}\n",
      "tocheck = 190 ; dict = {'data': [1], 'runlen': []}\n",
      "tocheck = 6 ; dict = {'data': [1], 'runlen': [190]}\n",
      "tocheck = 3 ; dict = {'data': [1], 'runlen': [190, 6]}\n",
      "tocheck = 64 ; dict = {'data': [3], 'runlen': []}\n",
      "tocheck = 1 ; dict = {'data': [3], 'runlen': [64]}\n",
      "tocheck = 9 ; dict = {'data': [1], 'runlen': []}\n",
      "tocheck = 3 ; dict = {'data': [1], 'runlen': [9]}\n",
      "tocheck = 11 ; dict = {'data': [3], 'runlen': []}\n",
      "tocheck = 1 ; dict = {'data': [3], 'runlen': [11]}\n",
      "tocheck = 192 ; dict = {'data': [1], 'runlen': []}\n",
      "tocheck = 6 ; dict = {'data': [1], 'runlen': [192]}\n",
      "tocheck = 3 ; dict = {'data': [1], 'runlen': [192, 6]}\n",
      "tocheck = 63 ; dict = {'data': [3], 'runlen': []}\n",
      "tocheck = 1 ; dict = {'data': [3], 'runlen': [63]}\n",
      "tocheck = 203 ; dict = {'data': [1], 'runlen': []}\n",
      "tocheck = 6 ; dict = {'data': [1], 'runlen': [203]}\n",
      "tocheck = 3 ; dict = {'data': [1], 'runlen': [203, 6]}\n",
      "tocheck = 65 ; dict = {'data': [3], 'runlen': []}\n",
      "tocheck = 1 ; dict = {'data': [3], 'runlen': [65]}\n"
     ]
    },
    {
     "name": "stdout",
     "output_type": "stream",
     "text": [
      "tocheck = 204 ; dict = {'data': [1], 'runlen': []}\n",
      "tocheck = 6 ; dict = {'data': [1], 'runlen': [204]}\n",
      "tocheck = 3 ; dict = {'data': [1], 'runlen': [204, 6]}\n",
      "tocheck = 64 ; dict = {'data': [3], 'runlen': []}\n",
      "tocheck = 1 ; dict = {'data': [3], 'runlen': [64]}\n",
      "tocheck = 203 ; dict = {'data': [1], 'runlen': []}\n",
      "tocheck = 6 ; dict = {'data': [1], 'runlen': [203]}\n",
      "tocheck = 3 ; dict = {'data': [1], 'runlen': [203, 6]}\n",
      "tocheck = 64 ; dict = {'data': [3], 'runlen': []}\n",
      "tocheck = 1 ; dict = {'data': [3], 'runlen': [64]}\n",
      "tocheck = 202 ; dict = {'data': [1], 'runlen': []}\n",
      "tocheck = 6 ; dict = {'data': [1], 'runlen': [202]}\n",
      "tocheck = 3 ; dict = {'data': [1], 'runlen': [202, 6]}\n",
      "tocheck = 66 ; dict = {'data': [3], 'runlen': []}\n",
      "tocheck = 1 ; dict = {'data': [3], 'runlen': [66]}\n",
      "tocheck = 203 ; dict = {'data': [1], 'runlen': []}\n",
      "tocheck = 6 ; dict = {'data': [1], 'runlen': [203]}\n",
      "tocheck = 3 ; dict = {'data': [1], 'runlen': [203, 6]}\n",
      "tocheck = 65 ; dict = {'data': [3], 'runlen': []}\n",
      "tocheck = 1 ; dict = {'data': [3], 'runlen': [65]}\n",
      "tocheck = 204 ; dict = {'data': [1], 'runlen': []}\n",
      "tocheck = 6 ; dict = {'data': [1], 'runlen': [204]}\n",
      "tocheck = 3 ; dict = {'data': [1], 'runlen': [204, 6]}\n",
      "tocheck = 31 ; dict = {'data': [3], 'runlen': []}\n",
      "tocheck = 1 ; dict = {'data': [3], 'runlen': [31]}\n",
      "tocheck = 9 ; dict = {'data': [1], 'runlen': []}\n",
      "tocheck = 3 ; dict = {'data': [1], 'runlen': [9]}\n",
      "tocheck = 32 ; dict = {'data': [3], 'runlen': []}\n",
      "tocheck = 1 ; dict = {'data': [3], 'runlen': [32]}\n",
      "tocheck = 205 ; dict = {'data': [1], 'runlen': []}\n",
      "tocheck = 6 ; dict = {'data': [1], 'runlen': [205]}\n",
      "tocheck = 3 ; dict = {'data': [1], 'runlen': [205, 6]}\n",
      "tocheck = 14 ; dict = {'data': [3], 'runlen': []}\n",
      "tocheck = 1 ; dict = {'data': [3], 'runlen': [14]}\n",
      "tocheck = 9 ; dict = {'data': [1], 'runlen': []}\n",
      "tocheck = 3 ; dict = {'data': [1], 'runlen': [9]}\n",
      "tocheck = 14 ; dict = {'data': [3], 'runlen': []}\n",
      "tocheck = 1 ; dict = {'data': [3], 'runlen': [14]}\n",
      "tocheck = 13 ; dict = {'data': [1], 'runlen': []}\n",
      "tocheck = 3 ; dict = {'data': [1], 'runlen': [13]}\n",
      "tocheck = 30 ; dict = {'data': [3], 'runlen': []}\n",
      "tocheck = 1 ; dict = {'data': [3], 'runlen': [30]}\n",
      "tocheck = 205 ; dict = {'data': [1], 'runlen': []}\n",
      "tocheck = 6 ; dict = {'data': [1], 'runlen': [205]}\n",
      "tocheck = 3 ; dict = {'data': [1], 'runlen': [205, 6]}\n",
      "tocheck = 13 ; dict = {'data': [3], 'runlen': []}\n",
      "tocheck = 1 ; dict = {'data': [3], 'runlen': [13]}\n",
      "tocheck = 10 ; dict = {'data': [1], 'runlen': []}\n",
      "tocheck = 3 ; dict = {'data': [1], 'runlen': [10]}\n",
      "tocheck = 13 ; dict = {'data': [3], 'runlen': []}\n",
      "tocheck = 1 ; dict = {'data': [3], 'runlen': [13]}\n",
      "tocheck = 15 ; dict = {'data': [1], 'runlen': []}\n",
      "tocheck = 3 ; dict = {'data': [1], 'runlen': [15]}\n",
      "tocheck = 28 ; dict = {'data': [3], 'runlen': []}\n",
      "tocheck = 1 ; dict = {'data': [3], 'runlen': [28]}\n",
      "tocheck = 206 ; dict = {'data': [1], 'runlen': []}\n",
      "tocheck = 6 ; dict = {'data': [1], 'runlen': [206]}\n",
      "tocheck = 3 ; dict = {'data': [1], 'runlen': [206, 6]}\n",
      "tocheck = 13 ; dict = {'data': [3], 'runlen': []}\n",
      "tocheck = 1 ; dict = {'data': [3], 'runlen': [13]}\n",
      "tocheck = 12 ; dict = {'data': [1], 'runlen': []}\n",
      "tocheck = 3 ; dict = {'data': [1], 'runlen': [12]}\n",
      "tocheck = 9 ; dict = {'data': [3], 'runlen': []}\n",
      "tocheck = 1 ; dict = {'data': [3], 'runlen': [9]}\n",
      "tocheck = 20 ; dict = {'data': [1], 'runlen': []}\n",
      "tocheck = 3 ; dict = {'data': [1], 'runlen': [20]}\n",
      "tocheck = 24 ; dict = {'data': [3], 'runlen': []}\n",
      "tocheck = 1 ; dict = {'data': [3], 'runlen': [24]}\n",
      "tocheck = 206 ; dict = {'data': [1], 'runlen': []}\n",
      "tocheck = 6 ; dict = {'data': [1], 'runlen': [206]}\n",
      "tocheck = 3 ; dict = {'data': [1], 'runlen': [206, 6]}\n",
      "tocheck = 13 ; dict = {'data': [3], 'runlen': []}\n",
      "tocheck = 1 ; dict = {'data': [3], 'runlen': [13]}\n",
      "tocheck = 13 ; dict = {'data': [1], 'runlen': []}\n",
      "tocheck = 3 ; dict = {'data': [1], 'runlen': [13]}\n",
      "tocheck = 8 ; dict = {'data': [3], 'runlen': []}\n",
      "tocheck = 1 ; dict = {'data': [3], 'runlen': [8]}\n",
      "tocheck = 22 ; dict = {'data': [1], 'runlen': []}\n",
      "tocheck = 3 ; dict = {'data': [1], 'runlen': [22]}\n",
      "tocheck = 23 ; dict = {'data': [3], 'runlen': []}\n",
      "tocheck = 1 ; dict = {'data': [3], 'runlen': [23]}\n",
      "tocheck = 206 ; dict = {'data': [1], 'runlen': []}\n",
      "tocheck = 6 ; dict = {'data': [1], 'runlen': [206]}\n",
      "tocheck = 3 ; dict = {'data': [1], 'runlen': [206, 6]}\n",
      "tocheck = 13 ; dict = {'data': [3], 'runlen': []}\n",
      "tocheck = 1 ; dict = {'data': [3], 'runlen': [13]}\n",
      "tocheck = 13 ; dict = {'data': [1], 'runlen': []}\n",
      "tocheck = 3 ; dict = {'data': [1], 'runlen': [13]}\n",
      "tocheck = 7 ; dict = {'data': [3], 'runlen': []}\n",
      "tocheck = 1 ; dict = {'data': [3], 'runlen': [7]}\n",
      "tocheck = 24 ; dict = {'data': [1], 'runlen': []}\n",
      "tocheck = 3 ; dict = {'data': [1], 'runlen': [24]}\n",
      "tocheck = 21 ; dict = {'data': [3], 'runlen': []}\n",
      "tocheck = 1 ; dict = {'data': [3], 'runlen': [21]}\n",
      "tocheck = 203 ; dict = {'data': [1], 'runlen': []}\n",
      "tocheck = 6 ; dict = {'data': [1], 'runlen': [203]}\n",
      "tocheck = 3 ; dict = {'data': [1], 'runlen': [203, 6]}\n",
      "tocheck = 1 ; dict = {'data': [3], 'runlen': []}\n",
      "tocheck = 7 ; dict = {'data': [1], 'runlen': []}\n",
      "tocheck = 3 ; dict = {'data': [1], 'runlen': [7]}\n",
      "tocheck = 13 ; dict = {'data': [3], 'runlen': []}\n",
      "tocheck = 1 ; dict = {'data': [3], 'runlen': [13]}\n",
      "tocheck = 38 ; dict = {'data': [1], 'runlen': []}\n",
      "tocheck = 3 ; dict = {'data': [1], 'runlen': [38]}\n",
      "tocheck = 19 ; dict = {'data': [3], 'runlen': []}\n",
      "tocheck = 1 ; dict = {'data': [3], 'runlen': [19]}\n",
      "tocheck = 201 ; dict = {'data': [1], 'runlen': []}\n",
      "tocheck = 6 ; dict = {'data': [1], 'runlen': [201]}\n",
      "tocheck = 3 ; dict = {'data': [1], 'runlen': [201, 6]}\n",
      "tocheck = 7 ; dict = {'data': [3], 'runlen': []}\n",
      "tocheck = 1 ; dict = {'data': [3], 'runlen': [7]}\n",
      "tocheck = 7 ; dict = {'data': [1], 'runlen': []}\n",
      "tocheck = 3 ; dict = {'data': [1], 'runlen': [7]}\n",
      "tocheck = 15 ; dict = {'data': [3], 'runlen': []}\n",
      "tocheck = 1 ; dict = {'data': [3], 'runlen': [15]}\n",
      "tocheck = 37 ; dict = {'data': [1], 'runlen': []}\n",
      "tocheck = 3 ; dict = {'data': [1], 'runlen': [37]}\n",
      "tocheck = 18 ; dict = {'data': [3], 'runlen': []}\n",
      "tocheck = 1 ; dict = {'data': [3], 'runlen': [18]}\n",
      "tocheck = 201 ; dict = {'data': [1], 'runlen': []}\n",
      "tocheck = 6 ; dict = {'data': [1], 'runlen': [201]}\n",
      "tocheck = 3 ; dict = {'data': [1], 'runlen': [201, 6]}\n",
      "tocheck = 7 ; dict = {'data': [3], 'runlen': []}\n",
      "tocheck = 1 ; dict = {'data': [3], 'runlen': [7]}\n",
      "tocheck = 9 ; dict = {'data': [1], 'runlen': []}\n",
      "tocheck = 3 ; dict = {'data': [1], 'runlen': [9]}\n",
      "tocheck = 14 ; dict = {'data': [3], 'runlen': []}\n",
      "tocheck = 1 ; dict = {'data': [3], 'runlen': [14]}\n",
      "tocheck = 38 ; dict = {'data': [1], 'runlen': []}\n",
      "tocheck = 3 ; dict = {'data': [1], 'runlen': [38]}\n",
      "tocheck = 16 ; dict = {'data': [3], 'runlen': []}\n",
      "tocheck = 1 ; dict = {'data': [3], 'runlen': [16]}\n",
      "tocheck = 201 ; dict = {'data': [1], 'runlen': []}\n",
      "tocheck = 6 ; dict = {'data': [1], 'runlen': [201]}\n",
      "tocheck = 3 ; dict = {'data': [1], 'runlen': [201, 6]}\n",
      "tocheck = 7 ; dict = {'data': [3], 'runlen': []}\n",
      "tocheck = 1 ; dict = {'data': [3], 'runlen': [7]}\n",
      "tocheck = 9 ; dict = {'data': [1], 'runlen': []}\n",
      "tocheck = 3 ; dict = {'data': [1], 'runlen': [9]}\n",
      "tocheck = 19 ; dict = {'data': [3], 'runlen': []}\n",
      "tocheck = 1 ; dict = {'data': [3], 'runlen': [19]}\n",
      "tocheck = 35 ; dict = {'data': [1], 'runlen': []}\n",
      "tocheck = 3 ; dict = {'data': [1], 'runlen': [35]}\n",
      "tocheck = 14 ; dict = {'data': [3], 'runlen': []}\n",
      "tocheck = 1 ; dict = {'data': [3], 'runlen': [14]}\n",
      "tocheck = 201 ; dict = {'data': [1], 'runlen': []}\n",
      "tocheck = 6 ; dict = {'data': [1], 'runlen': [201]}\n",
      "tocheck = 3 ; dict = {'data': [1], 'runlen': [201, 6]}\n",
      "tocheck = 7 ; dict = {'data': [3], 'runlen': []}\n",
      "tocheck = 1 ; dict = {'data': [3], 'runlen': [7]}\n",
      "tocheck = 11 ; dict = {'data': [1], 'runlen': []}\n",
      "tocheck = 3 ; dict = {'data': [1], 'runlen': [11]}\n",
      "tocheck = 17 ; dict = {'data': [3], 'runlen': []}\n",
      "tocheck = 1 ; dict = {'data': [3], 'runlen': [17]}\n",
      "tocheck = 38 ; dict = {'data': [1], 'runlen': []}\n",
      "tocheck = 3 ; dict = {'data': [1], 'runlen': [38]}\n",
      "tocheck = 11 ; dict = {'data': [3], 'runlen': []}\n",
      "tocheck = 1 ; dict = {'data': [3], 'runlen': [11]}\n",
      "tocheck = 212 ; dict = {'data': [1], 'runlen': []}\n",
      "tocheck = 6 ; dict = {'data': [1], 'runlen': [212]}\n",
      "tocheck = 3 ; dict = {'data': [1], 'runlen': [212, 6]}\n",
      "tocheck = 18 ; dict = {'data': [3], 'runlen': []}\n",
      "tocheck = 1 ; dict = {'data': [3], 'runlen': [18]}\n",
      "tocheck = 38 ; dict = {'data': [1], 'runlen': []}\n",
      "tocheck = 3 ; dict = {'data': [1], 'runlen': [38]}\n",
      "tocheck = 8 ; dict = {'data': [3], 'runlen': []}\n",
      "tocheck = 1 ; dict = {'data': [3], 'runlen': [8]}\n",
      "tocheck = 213 ; dict = {'data': [1], 'runlen': []}\n",
      "tocheck = 6 ; dict = {'data': [1], 'runlen': [213]}\n",
      "tocheck = 3 ; dict = {'data': [1], 'runlen': [213, 6]}\n",
      "tocheck = 18 ; dict = {'data': [3], 'runlen': []}\n",
      "tocheck = 1 ; dict = {'data': [3], 'runlen': [18]}\n",
      "tocheck = 39 ; dict = {'data': [1], 'runlen': []}\n",
      "tocheck = 3 ; dict = {'data': [1], 'runlen': [39]}\n",
      "tocheck = 7 ; dict = {'data': [3], 'runlen': []}\n",
      "tocheck = 1 ; dict = {'data': [3], 'runlen': [7]}\n",
      "tocheck = 214 ; dict = {'data': [1], 'runlen': []}\n",
      "tocheck = 6 ; dict = {'data': [1], 'runlen': [214]}\n",
      "tocheck = 3 ; dict = {'data': [1], 'runlen': [214, 6]}\n",
      "tocheck = 18 ; dict = {'data': [3], 'runlen': []}\n",
      "tocheck = 1 ; dict = {'data': [3], 'runlen': [18]}\n",
      "tocheck = 39 ; dict = {'data': [1], 'runlen': []}\n",
      "tocheck = 3 ; dict = {'data': [1], 'runlen': [39]}\n",
      "tocheck = 1 ; dict = {'data': [3], 'runlen': []}\n",
      "tocheck = 214 ; dict = {'data': [1], 'runlen': []}\n",
      "tocheck = 6 ; dict = {'data': [1], 'runlen': [214]}\n",
      "tocheck = 3 ; dict = {'data': [1], 'runlen': [214, 6]}\n",
      "tocheck = 22 ; dict = {'data': [3], 'runlen': []}\n",
      "tocheck = 1 ; dict = {'data': [3], 'runlen': [22]}\n",
      "tocheck = 247 ; dict = {'data': [1], 'runlen': []}\n",
      "tocheck = 6 ; dict = {'data': [1], 'runlen': [247]}\n",
      "tocheck = 3 ; dict = {'data': [1], 'runlen': [247, 6]}\n",
      "tocheck = 22 ; dict = {'data': [3], 'runlen': []}\n",
      "tocheck = 1 ; dict = {'data': [3], 'runlen': [22]}\n",
      "tocheck = 246 ; dict = {'data': [1], 'runlen': []}\n",
      "tocheck = 6 ; dict = {'data': [1], 'runlen': [246]}\n",
      "tocheck = 3 ; dict = {'data': [1], 'runlen': [246, 6]}\n",
      "tocheck = 14 ; dict = {'data': [3], 'runlen': []}\n",
      "tocheck = 1 ; dict = {'data': [3], 'runlen': [14]}\n",
      "tocheck = 3 ; dict = {'data': [1], 'runlen': []}\n",
      "tocheck = 12 ; dict = {'data': [3], 'runlen': []}\n",
      "tocheck = 1 ; dict = {'data': [3], 'runlen': [12]}\n",
      "tocheck = 246 ; dict = {'data': [1], 'runlen': []}\n",
      "tocheck = 6 ; dict = {'data': [1], 'runlen': [246]}\n",
      "tocheck = 3 ; dict = {'data': [1], 'runlen': [246, 6]}\n",
      "tocheck = 14 ; dict = {'data': [3], 'runlen': []}\n",
      "tocheck = 1 ; dict = {'data': [3], 'runlen': [14]}\n",
      "tocheck = 3 ; dict = {'data': [1], 'runlen': []}\n",
      "tocheck = 1 ; dict = {'data': [3], 'runlen': []}\n",
      "tocheck = 6 ; dict = {'data': [1], 'runlen': []}\n",
      "tocheck = 3 ; dict = {'data': [1], 'runlen': [6]}\n",
      "tocheck = 8 ; dict = {'data': [3], 'runlen': []}\n",
      "tocheck = 1 ; dict = {'data': [3], 'runlen': [8]}\n",
      "tocheck = 246 ; dict = {'data': [1], 'runlen': []}\n",
      "tocheck = 6 ; dict = {'data': [1], 'runlen': [246]}\n",
      "tocheck = 3 ; dict = {'data': [1], 'runlen': [246, 6]}\n",
      "tocheck = 14 ; dict = {'data': [3], 'runlen': []}\n",
      "tocheck = 1 ; dict = {'data': [3], 'runlen': [14]}\n",
      "tocheck = 255 ; dict = {'data': [1], 'runlen': []}\n",
      "tocheck = 6 ; dict = {'data': [1], 'runlen': [255]}\n",
      "tocheck = 3 ; dict = {'data': [1], 'runlen': [255, 6]}\n",
      "tocheck = 12 ; dict = {'data': [3], 'runlen': []}\n",
      "tocheck = 1 ; dict = {'data': [3], 'runlen': [12]}\n",
      "tocheck = 6 ; dict = {'data': [1], 'runlen': []}\n",
      "tocheck = 7 ; dict = {'data': [1], 'runlen': [6]}\n",
      "tocheck = 3 ; dict = {'data': [1], 'runlen': [6, 7]}\n",
      "tocheck = 13 ; dict = {'data': [3], 'runlen': []}\n",
      "tocheck = 1 ; dict = {'data': [3], 'runlen': [13]}\n",
      "tocheck = 246 ; dict = {'data': [1], 'runlen': []}\n",
      "tocheck = 6 ; dict = {'data': [1], 'runlen': [246]}\n",
      "tocheck = 3 ; dict = {'data': [1], 'runlen': [246, 6]}\n",
      "tocheck = 6 ; dict = {'data': [3], 'runlen': []}\n",
      "tocheck = 1 ; dict = {'data': [3], 'runlen': [6]}\n",
      "tocheck = 12 ; dict = {'data': [1], 'runlen': []}\n",
      "tocheck = 3 ; dict = {'data': [1], 'runlen': [12]}\n",
      "tocheck = 13 ; dict = {'data': [3], 'runlen': []}\n",
      "tocheck = 1 ; dict = {'data': [3], 'runlen': [13]}\n",
      "tocheck = 10 ; dict = {'data': [1], 'runlen': []}\n",
      "tocheck = 3 ; dict = {'data': [1], 'runlen': [10]}\n",
      "tocheck = 6 ; dict = {'data': [3], 'runlen': []}\n",
      "tocheck = 1 ; dict = {'data': [3], 'runlen': [6]}\n",
      "tocheck = 238 ; dict = {'data': [1], 'runlen': []}\n",
      "tocheck = 6 ; dict = {'data': [1], 'runlen': [238]}\n",
      "tocheck = 3 ; dict = {'data': [1], 'runlen': [238, 6]}\n",
      "tocheck = 1 ; dict = {'data': [3], 'runlen': []}\n",
      "tocheck = 14 ; dict = {'data': [1], 'runlen': []}\n",
      "tocheck = 3 ; dict = {'data': [1], 'runlen': [14]}\n",
      "tocheck = 10 ; dict = {'data': [3], 'runlen': []}\n",
      "tocheck = 1 ; dict = {'data': [3], 'runlen': [10]}\n",
      "tocheck = 11 ; dict = {'data': [1], 'runlen': []}\n",
      "tocheck = 3 ; dict = {'data': [1], 'runlen': [11]}\n",
      "tocheck = 9 ; dict = {'data': [3], 'runlen': []}\n",
      "tocheck = 1 ; dict = {'data': [3], 'runlen': [9]}\n",
      "tocheck = 247 ; dict = {'data': [1], 'runlen': []}\n",
      "tocheck = 6 ; dict = {'data': [1], 'runlen': [247]}\n",
      "tocheck = 3 ; dict = {'data': [1], 'runlen': [247, 6]}\n",
      "tocheck = 8 ; dict = {'data': [3], 'runlen': []}\n",
      "tocheck = 1 ; dict = {'data': [3], 'runlen': [8]}\n",
      "tocheck = 13 ; dict = {'data': [1], 'runlen': []}\n",
      "tocheck = 3 ; dict = {'data': [1], 'runlen': [13]}\n",
      "tocheck = 10 ; dict = {'data': [3], 'runlen': []}\n",
      "tocheck = 1 ; dict = {'data': [3], 'runlen': [10]}\n",
      "tocheck = 7 ; dict = {'data': [1], 'runlen': []}\n",
      "tocheck = 3 ; dict = {'data': [1], 'runlen': [7]}\n",
      "tocheck = 6 ; dict = {'data': [3], 'runlen': []}\n",
      "tocheck = 1 ; dict = {'data': [3], 'runlen': [6]}\n",
      "tocheck = 237 ; dict = {'data': [1], 'runlen': []}\n",
      "tocheck = 6 ; dict = {'data': [1], 'runlen': [237]}\n",
      "tocheck = 3 ; dict = {'data': [1], 'runlen': [237, 6]}\n",
      "tocheck = 6 ; dict = {'data': [3], 'runlen': []}\n",
      "tocheck = 1 ; dict = {'data': [3], 'runlen': [6]}\n",
      "tocheck = 9 ; dict = {'data': [1], 'runlen': []}\n",
      "tocheck = 3 ; dict = {'data': [1], 'runlen': [9]}\n",
      "tocheck = 1 ; dict = {'data': [3], 'runlen': []}\n",
      "tocheck = 13 ; dict = {'data': [1], 'runlen': []}\n",
      "tocheck = 3 ; dict = {'data': [1], 'runlen': [13]}\n",
      "tocheck = 15 ; dict = {'data': [3], 'runlen': []}\n",
      "tocheck = 1 ; dict = {'data': [3], 'runlen': [15]}\n",
      "tocheck = 253 ; dict = {'data': [1], 'runlen': []}\n",
      "tocheck = 6 ; dict = {'data': [1], 'runlen': [253]}\n",
      "tocheck = 3 ; dict = {'data': [1], 'runlen': [253, 6]}\n",
      "tocheck = 16 ; dict = {'data': [3], 'runlen': []}\n",
      "tocheck = 1 ; dict = {'data': [3], 'runlen': [16]}\n",
      "tocheck = 246 ; dict = {'data': [1], 'runlen': []}\n",
      "tocheck = 6 ; dict = {'data': [1], 'runlen': [246]}\n",
      "tocheck = 3 ; dict = {'data': [1], 'runlen': [246, 6]}\n",
      "tocheck = 1 ; dict = {'data': [3], 'runlen': []}\n",
      "tocheck = 10 ; dict = {'data': [1], 'runlen': []}\n",
      "tocheck = 3 ; dict = {'data': [1], 'runlen': [10]}\n",
      "tocheck = 15 ; dict = {'data': [3], 'runlen': []}\n",
      "tocheck = 1 ; dict = {'data': [3], 'runlen': [15]}\n",
      "tocheck = 247 ; dict = {'data': [1], 'runlen': []}\n",
      "tocheck = 6 ; dict = {'data': [1], 'runlen': [247]}\n",
      "tocheck = 3 ; dict = {'data': [1], 'runlen': [247, 6]}\n",
      "tocheck = 6 ; dict = {'data': [3], 'runlen': []}\n",
      "tocheck = 1 ; dict = {'data': [3], 'runlen': [6]}\n",
      "tocheck = 3 ; dict = {'data': [1], 'runlen': []}\n",
      "tocheck = 6 ; dict = {'data': [3], 'runlen': []}\n",
      "tocheck = 1 ; dict = {'data': [3], 'runlen': [6]}\n",
      "tocheck = 6 ; dict = {'data': [1], 'runlen': []}\n",
      "tocheck = 3 ; dict = {'data': [1], 'runlen': [6]}\n",
      "tocheck = 15 ; dict = {'data': [3], 'runlen': []}\n",
      "tocheck = 1 ; dict = {'data': [3], 'runlen': [15]}\n",
      "tocheck = 247 ; dict = {'data': [1], 'runlen': []}\n",
      "tocheck = 6 ; dict = {'data': [1], 'runlen': [247]}\n",
      "tocheck = 3 ; dict = {'data': [1], 'runlen': [247, 6]}\n",
      "tocheck = 10 ; dict = {'data': [3], 'runlen': []}\n",
      "tocheck = 1 ; dict = {'data': [3], 'runlen': [10]}\n",
      "tocheck = 3 ; dict = {'data': [1], 'runlen': []}\n",
      "tocheck = 10 ; dict = {'data': [3], 'runlen': []}\n",
      "tocheck = 1 ; dict = {'data': [3], 'runlen': [10]}\n",
      "tocheck = 6 ; dict = {'data': [1], 'runlen': []}\n",
      "tocheck = 3 ; dict = {'data': [1], 'runlen': [6]}\n",
      "tocheck = 7 ; dict = {'data': [3], 'runlen': []}\n",
      "tocheck = 1 ; dict = {'data': [3], 'runlen': [7]}\n",
      "tocheck = 245 ; dict = {'data': [1], 'runlen': []}\n",
      "tocheck = 6 ; dict = {'data': [1], 'runlen': [245]}\n",
      "tocheck = 3 ; dict = {'data': [1], 'runlen': [245, 6]}\n",
      "tocheck = 12 ; dict = {'data': [3], 'runlen': []}\n",
      "tocheck = 1 ; dict = {'data': [3], 'runlen': [12]}\n",
      "tocheck = 3 ; dict = {'data': [1], 'runlen': []}\n",
      "tocheck = 6 ; dict = {'data': [3], 'runlen': []}\n",
      "tocheck = 1 ; dict = {'data': [3], 'runlen': [6]}\n",
      "tocheck = 9 ; dict = {'data': [1], 'runlen': []}\n",
      "tocheck = 3 ; dict = {'data': [1], 'runlen': [9]}\n",
      "tocheck = 8 ; dict = {'data': [3], 'runlen': []}\n",
      "tocheck = 1 ; dict = {'data': [3], 'runlen': [8]}\n",
      "tocheck = 246 ; dict = {'data': [1], 'runlen': []}\n",
      "tocheck = 6 ; dict = {'data': [1], 'runlen': [246]}\n",
      "tocheck = 3 ; dict = {'data': [1], 'runlen': [246, 6]}\n",
      "tocheck = 11 ; dict = {'data': [3], 'runlen': []}\n",
      "tocheck = 1 ; dict = {'data': [3], 'runlen': [11]}\n",
      "tocheck = 12 ; dict = {'data': [1], 'runlen': []}\n",
      "tocheck = 3 ; dict = {'data': [1], 'runlen': [12]}\n",
      "tocheck = 8 ; dict = {'data': [3], 'runlen': []}\n",
      "tocheck = 1 ; dict = {'data': [3], 'runlen': [8]}\n",
      "tocheck = 247 ; dict = {'data': [1], 'runlen': []}\n",
      "tocheck = 6 ; dict = {'data': [1], 'runlen': [247]}\n",
      "tocheck = 3 ; dict = {'data': [1], 'runlen': [247, 6]}\n",
      "tocheck = 10 ; dict = {'data': [3], 'runlen': []}\n",
      "tocheck = 1 ; dict = {'data': [3], 'runlen': [10]}\n",
      "tocheck = 7 ; dict = {'data': [1], 'runlen': []}\n",
      "tocheck = 3 ; dict = {'data': [1], 'runlen': [7]}\n",
      "tocheck = 1 ; dict = {'data': [3], 'runlen': []}\n",
      "tocheck = 8 ; dict = {'data': [1], 'runlen': []}\n",
      "tocheck = 3 ; dict = {'data': [1], 'runlen': [8]}\n",
      "tocheck = 8 ; dict = {'data': [3], 'runlen': []}\n",
      "tocheck = 1 ; dict = {'data': [3], 'runlen': [8]}\n",
      "tocheck = 246 ; dict = {'data': [1], 'runlen': []}\n",
      "tocheck = 6 ; dict = {'data': [1], 'runlen': [246]}\n",
      "tocheck = 3 ; dict = {'data': [1], 'runlen': [246, 6]}\n",
      "tocheck = 11 ; dict = {'data': [3], 'runlen': []}\n",
      "tocheck = 1 ; dict = {'data': [3], 'runlen': [11]}\n",
      "tocheck = 6 ; dict = {'data': [1], 'runlen': []}\n",
      "tocheck = 3 ; dict = {'data': [1], 'runlen': [6]}\n",
      "tocheck = 7 ; dict = {'data': [3], 'runlen': []}\n",
      "tocheck = 1 ; dict = {'data': [3], 'runlen': [7]}\n",
      "tocheck = 7 ; dict = {'data': [1], 'runlen': []}\n",
      "tocheck = 3 ; dict = {'data': [1], 'runlen': [7]}\n",
      "tocheck = 8 ; dict = {'data': [3], 'runlen': []}\n",
      "tocheck = 1 ; dict = {'data': [3], 'runlen': [8]}\n",
      "tocheck = 246 ; dict = {'data': [1], 'runlen': []}\n",
      "tocheck = 6 ; dict = {'data': [1], 'runlen': [246]}\n",
      "tocheck = 3 ; dict = {'data': [1], 'runlen': [246, 6]}\n",
      "tocheck = 11 ; dict = {'data': [3], 'runlen': []}\n",
      "tocheck = 1 ; dict = {'data': [3], 'runlen': [11]}\n",
      "tocheck = 6 ; dict = {'data': [1], 'runlen': []}\n",
      "tocheck = 3 ; dict = {'data': [1], 'runlen': [6]}\n",
      "tocheck = 14 ; dict = {'data': [3], 'runlen': []}\n",
      "tocheck = 1 ; dict = {'data': [3], 'runlen': [14]}\n",
      "tocheck = 246 ; dict = {'data': [1], 'runlen': []}\n",
      "tocheck = 6 ; dict = {'data': [1], 'runlen': [246]}\n",
      "tocheck = 3 ; dict = {'data': [1], 'runlen': [246, 6]}\n",
      "tocheck = 12 ; dict = {'data': [3], 'runlen': []}\n",
      "tocheck = 1 ; dict = {'data': [3], 'runlen': [12]}\n",
      "tocheck = 3 ; dict = {'data': [1], 'runlen': []}\n",
      "tocheck = 14 ; dict = {'data': [3], 'runlen': []}\n",
      "tocheck = 1 ; dict = {'data': [3], 'runlen': [14]}\n",
      "tocheck = 245 ; dict = {'data': [1], 'runlen': []}\n",
      "tocheck = 6 ; dict = {'data': [1], 'runlen': [245]}\n",
      "tocheck = 3 ; dict = {'data': [1], 'runlen': [245, 6]}\n",
      "tocheck = 24 ; dict = {'data': [3], 'runlen': []}\n",
      "tocheck = 1 ; dict = {'data': [3], 'runlen': [24]}\n",
      "tocheck = 242 ; dict = {'data': [1], 'runlen': []}\n",
      "tocheck = 6 ; dict = {'data': [1], 'runlen': [242]}\n",
      "tocheck = 3 ; dict = {'data': [1], 'runlen': [242, 6]}\n",
      "tocheck = 27 ; dict = {'data': [3], 'runlen': []}\n",
      "tocheck = 1 ; dict = {'data': [3], 'runlen': [27]}\n",
      "tocheck = 241 ; dict = {'data': [1], 'runlen': []}\n",
      "tocheck = 6 ; dict = {'data': [1], 'runlen': [241]}\n",
      "tocheck = 3 ; dict = {'data': [1], 'runlen': [241, 6]}\n",
      "tocheck = 28 ; dict = {'data': [3], 'runlen': []}\n",
      "tocheck = 1 ; dict = {'data': [3], 'runlen': [28]}\n",
      "tocheck = 240 ; dict = {'data': [1], 'runlen': []}\n",
      "tocheck = 6 ; dict = {'data': [1], 'runlen': [240]}\n",
      "tocheck = 3 ; dict = {'data': [1], 'runlen': [240, 6]}\n",
      "tocheck = 30 ; dict = {'data': [3], 'runlen': []}\n",
      "tocheck = 1 ; dict = {'data': [3], 'runlen': [30]}\n",
      "tocheck = 238 ; dict = {'data': [1], 'runlen': []}\n",
      "tocheck = 6 ; dict = {'data': [1], 'runlen': [238]}\n",
      "tocheck = 3 ; dict = {'data': [1], 'runlen': [238, 6]}\n",
      "tocheck = 31 ; dict = {'data': [3], 'runlen': []}\n",
      "tocheck = 1 ; dict = {'data': [3], 'runlen': [31]}\n",
      "tocheck = 238 ; dict = {'data': [1], 'runlen': []}\n",
      "tocheck = 6 ; dict = {'data': [1], 'runlen': [238]}\n",
      "tocheck = 3 ; dict = {'data': [1], 'runlen': [238, 6]}\n",
      "tocheck = 32 ; dict = {'data': [3], 'runlen': []}\n",
      "tocheck = 1 ; dict = {'data': [3], 'runlen': [32]}\n",
      "tocheck = 239 ; dict = {'data': [1], 'runlen': []}\n",
      "tocheck = 6 ; dict = {'data': [1], 'runlen': [239]}\n",
      "tocheck = 3 ; dict = {'data': [1], 'runlen': [239, 6]}\n",
      "tocheck = 31 ; dict = {'data': [3], 'runlen': []}\n",
      "tocheck = 1 ; dict = {'data': [3], 'runlen': [31]}\n",
      "tocheck = 238 ; dict = {'data': [1], 'runlen': []}\n",
      "tocheck = 6 ; dict = {'data': [1], 'runlen': [238]}\n",
      "tocheck = 3 ; dict = {'data': [1], 'runlen': [238, 6]}\n",
      "tocheck = 32 ; dict = {'data': [3], 'runlen': []}\n",
      "tocheck = 1 ; dict = {'data': [3], 'runlen': [32]}\n",
      "tocheck = 236 ; dict = {'data': [1], 'runlen': []}\n",
      "tocheck = 6 ; dict = {'data': [1], 'runlen': [236]}\n",
      "tocheck = 3 ; dict = {'data': [1], 'runlen': [236, 6]}\n",
      "tocheck = 34 ; dict = {'data': [3], 'runlen': []}\n",
      "tocheck = 1 ; dict = {'data': [3], 'runlen': [34]}\n",
      "tocheck = 236 ; dict = {'data': [1], 'runlen': []}\n",
      "tocheck = 6 ; dict = {'data': [1], 'runlen': [236]}\n",
      "tocheck = 3 ; dict = {'data': [1], 'runlen': [236, 6]}\n",
      "tocheck = 34 ; dict = {'data': [3], 'runlen': []}\n",
      "tocheck = 1 ; dict = {'data': [3], 'runlen': [34]}\n",
      "tocheck = 236 ; dict = {'data': [1], 'runlen': []}\n",
      "tocheck = 6 ; dict = {'data': [1], 'runlen': [236]}\n",
      "tocheck = 3 ; dict = {'data': [1], 'runlen': [236, 6]}\n",
      "tocheck = 33 ; dict = {'data': [3], 'runlen': []}\n",
      "tocheck = 1 ; dict = {'data': [3], 'runlen': [33]}\n",
      "tocheck = 236 ; dict = {'data': [1], 'runlen': []}\n",
      "tocheck = 6 ; dict = {'data': [1], 'runlen': [236]}\n",
      "tocheck = 3 ; dict = {'data': [1], 'runlen': [236, 6]}\n",
      "tocheck = 34 ; dict = {'data': [3], 'runlen': []}\n",
      "tocheck = 1 ; dict = {'data': [3], 'runlen': [34]}\n",
      "tocheck = 234 ; dict = {'data': [1], 'runlen': []}\n",
      "tocheck = 6 ; dict = {'data': [1], 'runlen': [234]}\n",
      "tocheck = 3 ; dict = {'data': [1], 'runlen': [234, 6]}\n",
      "tocheck = 35 ; dict = {'data': [3], 'runlen': []}\n",
      "tocheck = 1 ; dict = {'data': [3], 'runlen': [35]}\n",
      "tocheck = 234 ; dict = {'data': [1], 'runlen': []}\n",
      "tocheck = 6 ; dict = {'data': [1], 'runlen': [234]}\n",
      "tocheck = 3 ; dict = {'data': [1], 'runlen': [234, 6]}\n",
      "tocheck = 35 ; dict = {'data': [3], 'runlen': []}\n",
      "tocheck = 1 ; dict = {'data': [3], 'runlen': [35]}\n",
      "tocheck = 234 ; dict = {'data': [1], 'runlen': []}\n",
      "tocheck = 6 ; dict = {'data': [1], 'runlen': [234]}\n",
      "tocheck = 3 ; dict = {'data': [1], 'runlen': [234, 6]}\n",
      "tocheck = 36 ; dict = {'data': [3], 'runlen': []}\n",
      "tocheck = 1 ; dict = {'data': [3], 'runlen': [36]}\n",
      "tocheck = 232 ; dict = {'data': [1], 'runlen': []}\n",
      "tocheck = 6 ; dict = {'data': [1], 'runlen': [232]}\n",
      "tocheck = 3 ; dict = {'data': [1], 'runlen': [232, 6]}\n",
      "tocheck = 36 ; dict = {'data': [3], 'runlen': []}\n",
      "tocheck = 1 ; dict = {'data': [3], 'runlen': [36]}\n",
      "tocheck = 230 ; dict = {'data': [1], 'runlen': []}\n",
      "tocheck = 6 ; dict = {'data': [1], 'runlen': [230]}\n",
      "tocheck = 3 ; dict = {'data': [1], 'runlen': [230, 6]}\n",
      "tocheck = 1 ; dict = {'data': [3], 'runlen': []}\n",
      "tocheck = 6 ; dict = {'data': [1], 'runlen': []}\n",
      "tocheck = 3 ; dict = {'data': [1], 'runlen': [6]}\n",
      "tocheck = 38 ; dict = {'data': [3], 'runlen': []}\n",
      "tocheck = 1 ; dict = {'data': [3], 'runlen': [38]}\n",
      "tocheck = 228 ; dict = {'data': [1], 'runlen': []}\n",
      "tocheck = 6 ; dict = {'data': [1], 'runlen': [228]}\n",
      "tocheck = 3 ; dict = {'data': [1], 'runlen': [228, 6]}\n",
      "tocheck = 41 ; dict = {'data': [3], 'runlen': []}\n",
      "tocheck = 1 ; dict = {'data': [3], 'runlen': [41]}\n",
      "tocheck = 228 ; dict = {'data': [1], 'runlen': []}\n",
      "tocheck = 6 ; dict = {'data': [1], 'runlen': [228]}\n",
      "tocheck = 3 ; dict = {'data': [1], 'runlen': [228, 6]}\n",
      "tocheck = 41 ; dict = {'data': [3], 'runlen': []}\n",
      "tocheck = 1 ; dict = {'data': [3], 'runlen': [41]}\n",
      "tocheck = 228 ; dict = {'data': [1], 'runlen': []}\n",
      "tocheck = 6 ; dict = {'data': [1], 'runlen': [228]}\n",
      "tocheck = 3 ; dict = {'data': [1], 'runlen': [228, 6]}\n",
      "tocheck = 41 ; dict = {'data': [3], 'runlen': []}\n",
      "tocheck = 1 ; dict = {'data': [3], 'runlen': [41]}\n",
      "tocheck = 233 ; dict = {'data': [1], 'runlen': []}\n",
      "tocheck = 6 ; dict = {'data': [1], 'runlen': [233]}\n",
      "tocheck = 3 ; dict = {'data': [1], 'runlen': [233, 6]}\n",
      "tocheck = 36 ; dict = {'data': [3], 'runlen': []}\n",
      "tocheck = 1 ; dict = {'data': [3], 'runlen': [36]}\n",
      "tocheck = 233 ; dict = {'data': [1], 'runlen': []}\n",
      "tocheck = 6 ; dict = {'data': [1], 'runlen': [233]}\n",
      "tocheck = 3 ; dict = {'data': [1], 'runlen': [233, 6]}\n",
      "tocheck = 37 ; dict = {'data': [3], 'runlen': []}\n",
      "tocheck = 1 ; dict = {'data': [3], 'runlen': [37]}\n",
      "tocheck = 232 ; dict = {'data': [1], 'runlen': []}\n",
      "tocheck = 6 ; dict = {'data': [1], 'runlen': [232]}\n",
      "tocheck = 3 ; dict = {'data': [1], 'runlen': [232, 6]}\n",
      "tocheck = 36 ; dict = {'data': [3], 'runlen': []}\n",
      "tocheck = 1 ; dict = {'data': [3], 'runlen': [36]}\n",
      "tocheck = 233 ; dict = {'data': [1], 'runlen': []}\n",
      "tocheck = 6 ; dict = {'data': [1], 'runlen': [233]}\n",
      "tocheck = 3 ; dict = {'data': [1], 'runlen': [233, 6]}\n",
      "tocheck = 37 ; dict = {'data': [3], 'runlen': []}\n",
      "tocheck = 1 ; dict = {'data': [3], 'runlen': [37]}\n",
      "tocheck = 232 ; dict = {'data': [1], 'runlen': []}\n",
      "tocheck = 6 ; dict = {'data': [1], 'runlen': [232]}\n",
      "tocheck = 3 ; dict = {'data': [1], 'runlen': [232, 6]}\n",
      "tocheck = 37 ; dict = {'data': [3], 'runlen': []}\n",
      "tocheck = 1 ; dict = {'data': [3], 'runlen': [37]}\n",
      "tocheck = 232 ; dict = {'data': [1], 'runlen': []}\n",
      "tocheck = 6 ; dict = {'data': [1], 'runlen': [232]}\n",
      "tocheck = 3 ; dict = {'data': [1], 'runlen': [232, 6]}\n",
      "tocheck = 38 ; dict = {'data': [3], 'runlen': []}\n",
      "tocheck = 1 ; dict = {'data': [3], 'runlen': [38]}\n",
      "tocheck = 231 ; dict = {'data': [1], 'runlen': []}\n",
      "tocheck = 6 ; dict = {'data': [1], 'runlen': [231]}\n",
      "tocheck = 3 ; dict = {'data': [1], 'runlen': [231, 6]}\n",
      "tocheck = 38 ; dict = {'data': [3], 'runlen': []}\n",
      "tocheck = 1 ; dict = {'data': [3], 'runlen': [38]}\n",
      "tocheck = 231 ; dict = {'data': [1], 'runlen': []}\n",
      "tocheck = 6 ; dict = {'data': [1], 'runlen': [231]}\n",
      "tocheck = 3 ; dict = {'data': [1], 'runlen': [231, 6]}\n",
      "tocheck = 37 ; dict = {'data': [3], 'runlen': []}\n",
      "tocheck = 1 ; dict = {'data': [3], 'runlen': [37]}\n",
      "tocheck = 232 ; dict = {'data': [1], 'runlen': []}\n",
      "tocheck = 6 ; dict = {'data': [1], 'runlen': [232]}\n",
      "tocheck = 3 ; dict = {'data': [1], 'runlen': [232, 6]}\n",
      "tocheck = 37 ; dict = {'data': [3], 'runlen': []}\n",
      "tocheck = 1 ; dict = {'data': [3], 'runlen': [37]}\n",
      "tocheck = 231 ; dict = {'data': [1], 'runlen': []}\n",
      "tocheck = 6 ; dict = {'data': [1], 'runlen': [231]}\n",
      "tocheck = 3 ; dict = {'data': [1], 'runlen': [231, 6]}\n",
      "tocheck = 37 ; dict = {'data': [3], 'runlen': []}\n",
      "tocheck = 1 ; dict = {'data': [3], 'runlen': [37]}\n",
      "tocheck = 232 ; dict = {'data': [1], 'runlen': []}\n",
      "tocheck = 6 ; dict = {'data': [1], 'runlen': [232]}\n",
      "tocheck = 3 ; dict = {'data': [1], 'runlen': [232, 6]}\n",
      "tocheck = 37 ; dict = {'data': [3], 'runlen': []}\n",
      "tocheck = 1 ; dict = {'data': [3], 'runlen': [37]}\n",
      "tocheck = 231 ; dict = {'data': [1], 'runlen': []}\n",
      "tocheck = 6 ; dict = {'data': [1], 'runlen': [231]}\n",
      "tocheck = 3 ; dict = {'data': [1], 'runlen': [231, 6]}\n",
      "tocheck = 38 ; dict = {'data': [3], 'runlen': []}\n",
      "tocheck = 1 ; dict = {'data': [3], 'runlen': [38]}\n",
      "tocheck = 225 ; dict = {'data': [1], 'runlen': []}\n",
      "tocheck = 6 ; dict = {'data': [1], 'runlen': [225]}\n",
      "tocheck = 3 ; dict = {'data': [1], 'runlen': [225, 6]}\n",
      "tocheck = 6 ; dict = {'data': [3], 'runlen': []}\n",
      "tocheck = 1 ; dict = {'data': [3], 'runlen': [6]}\n",
      "tocheck = 8 ; dict = {'data': [1], 'runlen': []}\n",
      "tocheck = 3 ; dict = {'data': [1], 'runlen': [8]}\n",
      "tocheck = 38 ; dict = {'data': [3], 'runlen': []}\n",
      "tocheck = 1 ; dict = {'data': [3], 'runlen': [38]}\n",
      "tocheck = 225 ; dict = {'data': [1], 'runlen': []}\n",
      "tocheck = 6 ; dict = {'data': [1], 'runlen': [225]}\n",
      "tocheck = 3 ; dict = {'data': [1], 'runlen': [225, 6]}\n",
      "tocheck = 6 ; dict = {'data': [3], 'runlen': []}\n",
      "tocheck = 1 ; dict = {'data': [3], 'runlen': [6]}\n",
      "tocheck = 8 ; dict = {'data': [1], 'runlen': []}\n",
      "tocheck = 3 ; dict = {'data': [1], 'runlen': [8]}\n",
      "tocheck = 37 ; dict = {'data': [3], 'runlen': []}\n",
      "tocheck = 1 ; dict = {'data': [3], 'runlen': [37]}\n",
      "tocheck = 231 ; dict = {'data': [1], 'runlen': []}\n",
      "tocheck = 6 ; dict = {'data': [1], 'runlen': [231]}\n",
      "tocheck = 3 ; dict = {'data': [1], 'runlen': [231, 6]}\n",
      "tocheck = 38 ; dict = {'data': [3], 'runlen': []}\n",
      "tocheck = 1 ; dict = {'data': [3], 'runlen': [38]}\n",
      "tocheck = 231 ; dict = {'data': [1], 'runlen': []}\n",
      "tocheck = 6 ; dict = {'data': [1], 'runlen': [231]}\n",
      "tocheck = 3 ; dict = {'data': [1], 'runlen': [231, 6]}\n",
      "tocheck = 38 ; dict = {'data': [3], 'runlen': []}\n",
      "tocheck = 1 ; dict = {'data': [3], 'runlen': [38]}\n",
      "tocheck = 231 ; dict = {'data': [1], 'runlen': []}\n",
      "tocheck = 6 ; dict = {'data': [1], 'runlen': [231]}\n",
      "tocheck = 3 ; dict = {'data': [1], 'runlen': [231, 6]}\n",
      "tocheck = 37 ; dict = {'data': [3], 'runlen': []}\n",
      "tocheck = 1 ; dict = {'data': [3], 'runlen': [37]}\n",
      "tocheck = 232 ; dict = {'data': [1], 'runlen': []}\n",
      "tocheck = 6 ; dict = {'data': [1], 'runlen': [232]}\n",
      "tocheck = 3 ; dict = {'data': [1], 'runlen': [232, 6]}\n",
      "tocheck = 35 ; dict = {'data': [3], 'runlen': []}\n",
      "tocheck = 1 ; dict = {'data': [3], 'runlen': [35]}\n",
      "tocheck = 233 ; dict = {'data': [1], 'runlen': []}\n",
      "tocheck = 6 ; dict = {'data': [1], 'runlen': [233]}\n",
      "tocheck = 3 ; dict = {'data': [1], 'runlen': [233, 6]}\n",
      "tocheck = 36 ; dict = {'data': [3], 'runlen': []}\n",
      "tocheck = 1 ; dict = {'data': [3], 'runlen': [36]}\n",
      "tocheck = 233 ; dict = {'data': [1], 'runlen': []}\n",
      "tocheck = 6 ; dict = {'data': [1], 'runlen': [233]}\n",
      "tocheck = 3 ; dict = {'data': [1], 'runlen': [233, 6]}\n",
      "tocheck = 35 ; dict = {'data': [3], 'runlen': []}\n",
      "tocheck = 1 ; dict = {'data': [3], 'runlen': [35]}\n",
      "tocheck = 234 ; dict = {'data': [1], 'runlen': []}\n",
      "tocheck = 6 ; dict = {'data': [1], 'runlen': [234]}\n",
      "tocheck = 3 ; dict = {'data': [1], 'runlen': [234, 6]}\n",
      "tocheck = 35 ; dict = {'data': [3], 'runlen': []}\n",
      "tocheck = 1 ; dict = {'data': [3], 'runlen': [35]}\n",
      "tocheck = 233 ; dict = {'data': [1], 'runlen': []}\n",
      "tocheck = 6 ; dict = {'data': [1], 'runlen': [233]}\n",
      "tocheck = 3 ; dict = {'data': [1], 'runlen': [233, 6]}\n",
      "tocheck = 34 ; dict = {'data': [3], 'runlen': []}\n",
      "tocheck = 1 ; dict = {'data': [3], 'runlen': [34]}\n",
      "tocheck = 234 ; dict = {'data': [1], 'runlen': []}\n",
      "tocheck = 6 ; dict = {'data': [1], 'runlen': [234]}\n",
      "tocheck = 3 ; dict = {'data': [1], 'runlen': [234, 6]}\n",
      "tocheck = 36 ; dict = {'data': [3], 'runlen': []}\n",
      "tocheck = 1 ; dict = {'data': [3], 'runlen': [36]}\n",
      "tocheck = 232 ; dict = {'data': [1], 'runlen': []}\n",
      "tocheck = 6 ; dict = {'data': [1], 'runlen': [232]}\n",
      "tocheck = 3 ; dict = {'data': [1], 'runlen': [232, 6]}\n",
      "tocheck = 37 ; dict = {'data': [3], 'runlen': []}\n",
      "tocheck = 1 ; dict = {'data': [3], 'runlen': [37]}\n",
      "tocheck = 232 ; dict = {'data': [1], 'runlen': []}\n",
      "tocheck = 6 ; dict = {'data': [1], 'runlen': [232]}\n",
      "tocheck = 3 ; dict = {'data': [1], 'runlen': [232, 6]}\n",
      "tocheck = 36 ; dict = {'data': [3], 'runlen': []}\n",
      "tocheck = 1 ; dict = {'data': [3], 'runlen': [36]}\n",
      "tocheck = 232 ; dict = {'data': [1], 'runlen': []}\n",
      "tocheck = 6 ; dict = {'data': [1], 'runlen': [232]}\n",
      "tocheck = 3 ; dict = {'data': [1], 'runlen': [232, 6]}\n",
      "tocheck = 37 ; dict = {'data': [3], 'runlen': []}\n",
      "tocheck = 1 ; dict = {'data': [3], 'runlen': [37]}\n",
      "tocheck = 232 ; dict = {'data': [1], 'runlen': []}\n",
      "tocheck = 6 ; dict = {'data': [1], 'runlen': [232]}\n",
      "tocheck = 3 ; dict = {'data': [1], 'runlen': [232, 6]}\n",
      "tocheck = 37 ; dict = {'data': [3], 'runlen': []}\n",
      "tocheck = 1 ; dict = {'data': [3], 'runlen': [37]}\n",
      "tocheck = 227 ; dict = {'data': [1], 'runlen': []}\n",
      "tocheck = 6 ; dict = {'data': [1], 'runlen': [227]}\n",
      "tocheck = 3 ; dict = {'data': [1], 'runlen': [227, 6]}\n",
      "tocheck = 6 ; dict = {'data': [3], 'runlen': []}\n",
      "tocheck = 1 ; dict = {'data': [3], 'runlen': [6]}\n",
      "tocheck = 6 ; dict = {'data': [1], 'runlen': []}\n",
      "tocheck = 3 ; dict = {'data': [1], 'runlen': [6]}\n",
      "tocheck = 38 ; dict = {'data': [3], 'runlen': []}\n",
      "tocheck = 1 ; dict = {'data': [3], 'runlen': [38]}\n",
      "tocheck = 227 ; dict = {'data': [1], 'runlen': []}\n",
      "tocheck = 6 ; dict = {'data': [1], 'runlen': [227]}\n",
      "tocheck = 3 ; dict = {'data': [1], 'runlen': [227, 6]}\n",
      "tocheck = 1 ; dict = {'data': [3], 'runlen': []}\n",
      "tocheck = 7 ; dict = {'data': [1], 'runlen': []}\n",
      "tocheck = 3 ; dict = {'data': [1], 'runlen': [7]}\n",
      "tocheck = 38 ; dict = {'data': [3], 'runlen': []}\n",
      "tocheck = 1 ; dict = {'data': [3], 'runlen': [38]}\n",
      "tocheck = 231 ; dict = {'data': [1], 'runlen': []}\n",
      "tocheck = 6 ; dict = {'data': [1], 'runlen': [231]}\n",
      "tocheck = 3 ; dict = {'data': [1], 'runlen': [231, 6]}\n",
      "tocheck = 33 ; dict = {'data': [3], 'runlen': []}\n",
      "tocheck = 1 ; dict = {'data': [3], 'runlen': [33]}\n",
      "tocheck = 3 ; dict = {'data': [1], 'runlen': []}\n",
      "tocheck = 9 ; dict = {'data': [3], 'runlen': []}\n",
      "tocheck = 1 ; dict = {'data': [3], 'runlen': [9]}\n",
      "tocheck = 214 ; dict = {'data': [1], 'runlen': []}\n",
      "tocheck = 6 ; dict = {'data': [1], 'runlen': [214]}\n",
      "tocheck = 3 ; dict = {'data': [1], 'runlen': [214, 6]}\n",
      "tocheck = 6 ; dict = {'data': [3], 'runlen': []}\n",
      "tocheck = 1 ; dict = {'data': [3], 'runlen': [6]}\n",
      "tocheck = 18 ; dict = {'data': [1], 'runlen': []}\n",
      "tocheck = 3 ; dict = {'data': [1], 'runlen': [18]}\n",
      "tocheck = 32 ; dict = {'data': [3], 'runlen': []}\n",
      "tocheck = 1 ; dict = {'data': [3], 'runlen': [32]}\n",
      "tocheck = 7 ; dict = {'data': [1], 'runlen': []}\n",
      "tocheck = 3 ; dict = {'data': [1], 'runlen': [7]}\n",
      "tocheck = 8 ; dict = {'data': [3], 'runlen': []}\n",
      "tocheck = 1 ; dict = {'data': [3], 'runlen': [8]}\n",
      "tocheck = 213 ; dict = {'data': [1], 'runlen': []}\n",
      "tocheck = 6 ; dict = {'data': [1], 'runlen': [213]}\n",
      "tocheck = 3 ; dict = {'data': [1], 'runlen': [213, 6]}\n",
      "tocheck = 7 ; dict = {'data': [3], 'runlen': []}\n",
      "tocheck = 1 ; dict = {'data': [3], 'runlen': [7]}\n",
      "tocheck = 18 ; dict = {'data': [1], 'runlen': []}\n",
      "tocheck = 3 ; dict = {'data': [1], 'runlen': [18]}\n",
      "tocheck = 31 ; dict = {'data': [3], 'runlen': []}\n",
      "tocheck = 1 ; dict = {'data': [3], 'runlen': [31]}\n",
      "tocheck = 8 ; dict = {'data': [1], 'runlen': []}\n",
      "tocheck = 3 ; dict = {'data': [1], 'runlen': [8]}\n",
      "tocheck = 8 ; dict = {'data': [3], 'runlen': []}\n",
      "tocheck = 1 ; dict = {'data': [3], 'runlen': [8]}\n",
      "tocheck = 212 ; dict = {'data': [1], 'runlen': []}\n",
      "tocheck = 6 ; dict = {'data': [1], 'runlen': [212]}\n",
      "tocheck = 3 ; dict = {'data': [1], 'runlen': [212, 6]}\n",
      "tocheck = 8 ; dict = {'data': [3], 'runlen': []}\n",
      "tocheck = 1 ; dict = {'data': [3], 'runlen': [8]}\n",
      "tocheck = 17 ; dict = {'data': [1], 'runlen': []}\n",
      "tocheck = 3 ; dict = {'data': [1], 'runlen': [17]}\n",
      "tocheck = 31 ; dict = {'data': [3], 'runlen': []}\n",
      "tocheck = 1 ; dict = {'data': [3], 'runlen': [31]}\n",
      "tocheck = 10 ; dict = {'data': [1], 'runlen': []}\n",
      "tocheck = 3 ; dict = {'data': [1], 'runlen': [10]}\n",
      "tocheck = 6 ; dict = {'data': [3], 'runlen': []}\n",
      "tocheck = 1 ; dict = {'data': [3], 'runlen': [6]}\n",
      "tocheck = 212 ; dict = {'data': [1], 'runlen': []}\n",
      "tocheck = 6 ; dict = {'data': [1], 'runlen': [212]}\n",
      "tocheck = 3 ; dict = {'data': [1], 'runlen': [212, 6]}\n",
      "tocheck = 8 ; dict = {'data': [3], 'runlen': []}\n",
      "tocheck = 1 ; dict = {'data': [3], 'runlen': [8]}\n",
      "tocheck = 18 ; dict = {'data': [1], 'runlen': []}\n",
      "tocheck = 3 ; dict = {'data': [1], 'runlen': [18]}\n",
      "tocheck = 30 ; dict = {'data': [3], 'runlen': []}\n",
      "tocheck = 1 ; dict = {'data': [3], 'runlen': [30]}\n",
      "tocheck = 221 ; dict = {'data': [1], 'runlen': []}\n",
      "tocheck = 6 ; dict = {'data': [1], 'runlen': [221]}\n",
      "tocheck = 3 ; dict = {'data': [1], 'runlen': [221, 6]}\n",
      "tocheck = 8 ; dict = {'data': [3], 'runlen': []}\n",
      "tocheck = 1 ; dict = {'data': [3], 'runlen': [8]}\n",
      "tocheck = 17 ; dict = {'data': [1], 'runlen': []}\n",
      "tocheck = 3 ; dict = {'data': [1], 'runlen': [17]}\n",
      "tocheck = 31 ; dict = {'data': [3], 'runlen': []}\n",
      "tocheck = 1 ; dict = {'data': [3], 'runlen': [31]}\n",
      "tocheck = 220 ; dict = {'data': [1], 'runlen': []}\n",
      "tocheck = 6 ; dict = {'data': [1], 'runlen': [220]}\n",
      "tocheck = 3 ; dict = {'data': [1], 'runlen': [220, 6]}\n",
      "tocheck = 11 ; dict = {'data': [3], 'runlen': []}\n",
      "tocheck = 1 ; dict = {'data': [3], 'runlen': [11]}\n",
      "tocheck = 15 ; dict = {'data': [1], 'runlen': []}\n",
      "tocheck = 3 ; dict = {'data': [1], 'runlen': [15]}\n",
      "tocheck = 30 ; dict = {'data': [3], 'runlen': []}\n",
      "tocheck = 1 ; dict = {'data': [3], 'runlen': [30]}\n",
      "tocheck = 221 ; dict = {'data': [1], 'runlen': []}\n",
      "tocheck = 6 ; dict = {'data': [1], 'runlen': [221]}\n",
      "tocheck = 3 ; dict = {'data': [1], 'runlen': [221, 6]}\n",
      "tocheck = 11 ; dict = {'data': [3], 'runlen': []}\n",
      "tocheck = 1 ; dict = {'data': [3], 'runlen': [11]}\n",
      "tocheck = 13 ; dict = {'data': [1], 'runlen': []}\n",
      "tocheck = 3 ; dict = {'data': [1], 'runlen': [13]}\n",
      "tocheck = 32 ; dict = {'data': [3], 'runlen': []}\n",
      "tocheck = 1 ; dict = {'data': [3], 'runlen': [32]}\n",
      "tocheck = 221 ; dict = {'data': [1], 'runlen': []}\n",
      "tocheck = 6 ; dict = {'data': [1], 'runlen': [221]}\n",
      "tocheck = 3 ; dict = {'data': [1], 'runlen': [221, 6]}\n",
      "tocheck = 10 ; dict = {'data': [3], 'runlen': []}\n",
      "tocheck = 1 ; dict = {'data': [3], 'runlen': [10]}\n",
      "tocheck = 12 ; dict = {'data': [1], 'runlen': []}\n",
      "tocheck = 3 ; dict = {'data': [1], 'runlen': [12]}\n",
      "tocheck = 34 ; dict = {'data': [3], 'runlen': []}\n",
      "tocheck = 1 ; dict = {'data': [3], 'runlen': [34]}\n",
      "tocheck = 222 ; dict = {'data': [1], 'runlen': []}\n",
      "tocheck = 6 ; dict = {'data': [1], 'runlen': [222]}\n",
      "tocheck = 3 ; dict = {'data': [1], 'runlen': [222, 6]}\n",
      "tocheck = 9 ; dict = {'data': [3], 'runlen': []}\n",
      "tocheck = 1 ; dict = {'data': [3], 'runlen': [9]}\n",
      "tocheck = 10 ; dict = {'data': [1], 'runlen': []}\n",
      "tocheck = 3 ; dict = {'data': [1], 'runlen': [10]}\n",
      "tocheck = 36 ; dict = {'data': [3], 'runlen': []}\n",
      "tocheck = 1 ; dict = {'data': [3], 'runlen': [36]}\n",
      "tocheck = 200 ; dict = {'data': [1], 'runlen': []}\n",
      "tocheck = 6 ; dict = {'data': [1], 'runlen': [200]}\n",
      "tocheck = 3 ; dict = {'data': [1], 'runlen': [200, 6]}\n",
      "tocheck = 1 ; dict = {'data': [3], 'runlen': []}\n",
      "tocheck = 25 ; dict = {'data': [1], 'runlen': []}\n",
      "tocheck = 3 ; dict = {'data': [1], 'runlen': [25]}\n",
      "tocheck = 8 ; dict = {'data': [3], 'runlen': []}\n",
      "tocheck = 1 ; dict = {'data': [3], 'runlen': [8]}\n",
      "tocheck = 10 ; dict = {'data': [1], 'runlen': []}\n",
      "tocheck = 3 ; dict = {'data': [1], 'runlen': [10]}\n",
      "tocheck = 38 ; dict = {'data': [3], 'runlen': []}\n",
      "tocheck = 1 ; dict = {'data': [3], 'runlen': [38]}\n",
      "tocheck = 199 ; dict = {'data': [1], 'runlen': []}\n",
      "tocheck = 6 ; dict = {'data': [1], 'runlen': [199]}\n",
      "tocheck = 3 ; dict = {'data': [1], 'runlen': [199, 6]}\n",
      "tocheck = 1 ; dict = {'data': [3], 'runlen': []}\n",
      "tocheck = 24 ; dict = {'data': [1], 'runlen': []}\n",
      "tocheck = 3 ; dict = {'data': [1], 'runlen': [24]}\n",
      "tocheck = 8 ; dict = {'data': [3], 'runlen': []}\n",
      "tocheck = 1 ; dict = {'data': [3], 'runlen': [8]}\n",
      "tocheck = 10 ; dict = {'data': [1], 'runlen': []}\n",
      "tocheck = 3 ; dict = {'data': [1], 'runlen': [10]}\n",
      "tocheck = 39 ; dict = {'data': [3], 'runlen': []}\n",
      "tocheck = 1 ; dict = {'data': [3], 'runlen': [39]}\n",
      "tocheck = 229 ; dict = {'data': [1], 'runlen': []}\n",
      "tocheck = 6 ; dict = {'data': [1], 'runlen': [229]}\n",
      "tocheck = 3 ; dict = {'data': [1], 'runlen': [229, 6]}\n",
      "tocheck = 41 ; dict = {'data': [3], 'runlen': []}\n",
      "tocheck = 1 ; dict = {'data': [3], 'runlen': [41]}\n",
      "tocheck = 228 ; dict = {'data': [1], 'runlen': []}\n",
      "tocheck = 6 ; dict = {'data': [1], 'runlen': [228]}\n",
      "tocheck = 3 ; dict = {'data': [1], 'runlen': [228, 6]}\n",
      "tocheck = 41 ; dict = {'data': [3], 'runlen': []}\n",
      "tocheck = 1 ; dict = {'data': [3], 'runlen': [41]}\n",
      "tocheck = 228 ; dict = {'data': [1], 'runlen': []}\n",
      "tocheck = 6 ; dict = {'data': [1], 'runlen': [228]}\n",
      "tocheck = 3 ; dict = {'data': [1], 'runlen': [228, 6]}\n",
      "tocheck = 41 ; dict = {'data': [3], 'runlen': []}\n",
      "tocheck = 1 ; dict = {'data': [3], 'runlen': [41]}\n",
      "tocheck = 227 ; dict = {'data': [1], 'runlen': []}\n",
      "tocheck = 6 ; dict = {'data': [1], 'runlen': [227]}\n",
      "tocheck = 3 ; dict = {'data': [1], 'runlen': [227, 6]}\n",
      "tocheck = 42 ; dict = {'data': [3], 'runlen': []}\n",
      "tocheck = 1 ; dict = {'data': [3], 'runlen': [42]}\n",
      "tocheck = 227 ; dict = {'data': [1], 'runlen': []}\n",
      "tocheck = 6 ; dict = {'data': [1], 'runlen': [227]}\n",
      "tocheck = 3 ; dict = {'data': [1], 'runlen': [227, 6]}\n",
      "tocheck = 42 ; dict = {'data': [3], 'runlen': []}\n",
      "tocheck = 1 ; dict = {'data': [3], 'runlen': [42]}\n",
      "tocheck = 202 ; dict = {'data': [1], 'runlen': []}\n",
      "tocheck = 6 ; dict = {'data': [1], 'runlen': [202]}\n",
      "tocheck = 3 ; dict = {'data': [1], 'runlen': [202, 6]}\n",
      "tocheck = 8 ; dict = {'data': [3], 'runlen': []}\n",
      "tocheck = 1 ; dict = {'data': [3], 'runlen': [8]}\n",
      "tocheck = 24 ; dict = {'data': [1], 'runlen': []}\n",
      "tocheck = 3 ; dict = {'data': [1], 'runlen': [24]}\n",
      "tocheck = 43 ; dict = {'data': [3], 'runlen': []}\n",
      "tocheck = 1 ; dict = {'data': [3], 'runlen': [43]}\n",
      "tocheck = 200 ; dict = {'data': [1], 'runlen': []}\n",
      "tocheck = 6 ; dict = {'data': [1], 'runlen': [200]}\n",
      "tocheck = 3 ; dict = {'data': [1], 'runlen': [200, 6]}\n",
      "tocheck = 10 ; dict = {'data': [3], 'runlen': []}\n",
      "tocheck = 1 ; dict = {'data': [3], 'runlen': [10]}\n",
      "tocheck = 23 ; dict = {'data': [1], 'runlen': []}\n",
      "tocheck = 3 ; dict = {'data': [1], 'runlen': [23]}\n",
      "tocheck = 28 ; dict = {'data': [3], 'runlen': []}\n",
      "tocheck = 1 ; dict = {'data': [3], 'runlen': [28]}\n",
      "tocheck = 3 ; dict = {'data': [1], 'runlen': []}\n",
      "tocheck = 19 ; dict = {'data': [3], 'runlen': []}\n",
      "tocheck = 1 ; dict = {'data': [3], 'runlen': [19]}\n",
      "tocheck = 197 ; dict = {'data': [1], 'runlen': []}\n",
      "tocheck = 6 ; dict = {'data': [1], 'runlen': [197]}\n",
      "tocheck = 3 ; dict = {'data': [1], 'runlen': [197, 6]}\n",
      "tocheck = 13 ; dict = {'data': [3], 'runlen': []}\n",
      "tocheck = 1 ; dict = {'data': [3], 'runlen': [13]}\n",
      "tocheck = 23 ; dict = {'data': [1], 'runlen': []}\n",
      "tocheck = 3 ; dict = {'data': [1], 'runlen': [23]}\n",
      "tocheck = 44 ; dict = {'data': [3], 'runlen': []}\n",
      "tocheck = 1 ; dict = {'data': [3], 'runlen': [44]}\n",
      "tocheck = 196 ; dict = {'data': [1], 'runlen': []}\n",
      "tocheck = 6 ; dict = {'data': [1], 'runlen': [196]}\n",
      "tocheck = 3 ; dict = {'data': [1], 'runlen': [196, 6]}\n",
      "tocheck = 13 ; dict = {'data': [3], 'runlen': []}\n",
      "tocheck = 1 ; dict = {'data': [3], 'runlen': [13]}\n",
      "tocheck = 22 ; dict = {'data': [1], 'runlen': []}\n",
      "tocheck = 3 ; dict = {'data': [1], 'runlen': [22]}\n",
      "tocheck = 46 ; dict = {'data': [3], 'runlen': []}\n",
      "tocheck = 1 ; dict = {'data': [3], 'runlen': [46]}\n",
      "tocheck = 195 ; dict = {'data': [1], 'runlen': []}\n",
      "tocheck = 6 ; dict = {'data': [1], 'runlen': [195]}\n",
      "tocheck = 3 ; dict = {'data': [1], 'runlen': [195, 6]}\n",
      "tocheck = 14 ; dict = {'data': [3], 'runlen': []}\n",
      "tocheck = 1 ; dict = {'data': [3], 'runlen': [14]}\n",
      "tocheck = 21 ; dict = {'data': [1], 'runlen': []}\n",
      "tocheck = 3 ; dict = {'data': [1], 'runlen': [21]}\n",
      "tocheck = 47 ; dict = {'data': [3], 'runlen': []}\n",
      "tocheck = 1 ; dict = {'data': [3], 'runlen': [47]}\n",
      "tocheck = 195 ; dict = {'data': [1], 'runlen': []}\n",
      "tocheck = 6 ; dict = {'data': [1], 'runlen': [195]}\n",
      "tocheck = 3 ; dict = {'data': [1], 'runlen': [195, 6]}\n",
      "tocheck = 13 ; dict = {'data': [3], 'runlen': []}\n",
      "tocheck = 1 ; dict = {'data': [3], 'runlen': [13]}\n",
      "tocheck = 21 ; dict = {'data': [1], 'runlen': []}\n",
      "tocheck = 3 ; dict = {'data': [1], 'runlen': [21]}\n",
      "tocheck = 48 ; dict = {'data': [3], 'runlen': []}\n",
      "tocheck = 1 ; dict = {'data': [3], 'runlen': [48]}\n",
      "tocheck = 194 ; dict = {'data': [1], 'runlen': []}\n",
      "tocheck = 6 ; dict = {'data': [1], 'runlen': [194]}\n",
      "tocheck = 3 ; dict = {'data': [1], 'runlen': [194, 6]}\n",
      "tocheck = 12 ; dict = {'data': [3], 'runlen': []}\n",
      "tocheck = 1 ; dict = {'data': [3], 'runlen': [12]}\n",
      "tocheck = 22 ; dict = {'data': [1], 'runlen': []}\n",
      "tocheck = 3 ; dict = {'data': [1], 'runlen': [22]}\n",
      "tocheck = 49 ; dict = {'data': [3], 'runlen': []}\n",
      "tocheck = 1 ; dict = {'data': [3], 'runlen': [49]}\n",
      "tocheck = 194 ; dict = {'data': [1], 'runlen': []}\n",
      "tocheck = 6 ; dict = {'data': [1], 'runlen': [194]}\n",
      "tocheck = 3 ; dict = {'data': [1], 'runlen': [194, 6]}\n",
      "tocheck = 11 ; dict = {'data': [3], 'runlen': []}\n",
      "tocheck = 1 ; dict = {'data': [3], 'runlen': [11]}\n",
      "tocheck = 20 ; dict = {'data': [1], 'runlen': []}\n",
      "tocheck = 3 ; dict = {'data': [1], 'runlen': [20]}\n",
      "tocheck = 52 ; dict = {'data': [3], 'runlen': []}\n",
      "tocheck = 1 ; dict = {'data': [3], 'runlen': [52]}\n",
      "tocheck = 194 ; dict = {'data': [1], 'runlen': []}\n",
      "tocheck = 6 ; dict = {'data': [1], 'runlen': [194]}\n",
      "tocheck = 3 ; dict = {'data': [1], 'runlen': [194, 6]}\n",
      "tocheck = 11 ; dict = {'data': [3], 'runlen': []}\n",
      "tocheck = 1 ; dict = {'data': [3], 'runlen': [11]}\n",
      "tocheck = 18 ; dict = {'data': [1], 'runlen': []}\n",
      "tocheck = 3 ; dict = {'data': [1], 'runlen': [18]}\n",
      "tocheck = 54 ; dict = {'data': [3], 'runlen': []}\n",
      "tocheck = 1 ; dict = {'data': [3], 'runlen': [54]}\n",
      "tocheck = 195 ; dict = {'data': [1], 'runlen': []}\n",
      "tocheck = 6 ; dict = {'data': [1], 'runlen': [195]}\n",
      "tocheck = 3 ; dict = {'data': [1], 'runlen': [195, 6]}\n",
      "tocheck = 10 ; dict = {'data': [3], 'runlen': []}\n",
      "tocheck = 1 ; dict = {'data': [3], 'runlen': [10]}\n",
      "tocheck = 16 ; dict = {'data': [1], 'runlen': []}\n",
      "tocheck = 3 ; dict = {'data': [1], 'runlen': [16]}\n",
      "tocheck = 55 ; dict = {'data': [3], 'runlen': []}\n",
      "tocheck = 1 ; dict = {'data': [3], 'runlen': [55]}\n",
      "tocheck = 196 ; dict = {'data': [1], 'runlen': []}\n",
      "tocheck = 6 ; dict = {'data': [1], 'runlen': [196]}\n",
      "tocheck = 3 ; dict = {'data': [1], 'runlen': [196, 6]}\n",
      "tocheck = 10 ; dict = {'data': [3], 'runlen': []}\n",
      "tocheck = 1 ; dict = {'data': [3], 'runlen': [10]}\n",
      "tocheck = 14 ; dict = {'data': [1], 'runlen': []}\n",
      "tocheck = 3 ; dict = {'data': [1], 'runlen': [14]}\n",
      "tocheck = 57 ; dict = {'data': [3], 'runlen': []}\n",
      "tocheck = 1 ; dict = {'data': [3], 'runlen': [57]}\n",
      "tocheck = 197 ; dict = {'data': [1], 'runlen': []}\n",
      "tocheck = 6 ; dict = {'data': [1], 'runlen': [197]}\n",
      "tocheck = 3 ; dict = {'data': [1], 'runlen': [197, 6]}\n",
      "tocheck = 9 ; dict = {'data': [3], 'runlen': []}\n",
      "tocheck = 1 ; dict = {'data': [3], 'runlen': [9]}\n",
      "tocheck = 10 ; dict = {'data': [1], 'runlen': []}\n",
      "tocheck = 3 ; dict = {'data': [1], 'runlen': [10]}\n",
      "tocheck = 61 ; dict = {'data': [3], 'runlen': []}\n",
      "tocheck = 1 ; dict = {'data': [3], 'runlen': [61]}\n",
      "tocheck = 196 ; dict = {'data': [1], 'runlen': []}\n",
      "tocheck = 6 ; dict = {'data': [1], 'runlen': [196]}\n",
      "tocheck = 3 ; dict = {'data': [1], 'runlen': [196, 6]}\n",
      "tocheck = 10 ; dict = {'data': [3], 'runlen': []}\n",
      "tocheck = 1 ; dict = {'data': [3], 'runlen': [10]}\n",
      "tocheck = 9 ; dict = {'data': [1], 'runlen': []}\n",
      "tocheck = 3 ; dict = {'data': [1], 'runlen': [9]}\n",
      "tocheck = 61 ; dict = {'data': [3], 'runlen': []}\n",
      "tocheck = 1 ; dict = {'data': [3], 'runlen': [61]}\n",
      "tocheck = 198 ; dict = {'data': [1], 'runlen': []}\n",
      "tocheck = 6 ; dict = {'data': [1], 'runlen': [198]}\n",
      "tocheck = 3 ; dict = {'data': [1], 'runlen': [198, 6]}\n",
      "tocheck = 9 ; dict = {'data': [3], 'runlen': []}\n",
      "tocheck = 1 ; dict = {'data': [3], 'runlen': [9]}\n",
      "tocheck = 9 ; dict = {'data': [1], 'runlen': []}\n",
      "tocheck = 3 ; dict = {'data': [1], 'runlen': [9]}\n",
      "tocheck = 59 ; dict = {'data': [3], 'runlen': []}\n",
      "tocheck = 1 ; dict = {'data': [3], 'runlen': [59]}\n",
      "tocheck = 199 ; dict = {'data': [1], 'runlen': []}\n",
      "tocheck = 6 ; dict = {'data': [1], 'runlen': [199]}\n",
      "tocheck = 3 ; dict = {'data': [1], 'runlen': [199, 6]}\n",
      "tocheck = 11 ; dict = {'data': [3], 'runlen': []}\n",
      "tocheck = 1 ; dict = {'data': [3], 'runlen': [11]}\n",
      "tocheck = 8 ; dict = {'data': [1], 'runlen': []}\n",
      "tocheck = 3 ; dict = {'data': [1], 'runlen': [8]}\n",
      "tocheck = 59 ; dict = {'data': [3], 'runlen': []}\n",
      "tocheck = 1 ; dict = {'data': [3], 'runlen': [59]}\n",
      "tocheck = 199 ; dict = {'data': [1], 'runlen': []}\n",
      "tocheck = 6 ; dict = {'data': [1], 'runlen': [199]}\n",
      "tocheck = 3 ; dict = {'data': [1], 'runlen': [199, 6]}\n",
      "tocheck = 70 ; dict = {'data': [3], 'runlen': []}\n",
      "tocheck = 1 ; dict = {'data': [3], 'runlen': [70]}\n",
      "tocheck = 198 ; dict = {'data': [1], 'runlen': []}\n",
      "tocheck = 6 ; dict = {'data': [1], 'runlen': [198]}\n",
      "tocheck = 3 ; dict = {'data': [1], 'runlen': [198, 6]}\n",
      "tocheck = 70 ; dict = {'data': [3], 'runlen': []}\n",
      "tocheck = 1 ; dict = {'data': [3], 'runlen': [70]}\n",
      "tocheck = 199 ; dict = {'data': [1], 'runlen': []}\n",
      "tocheck = 6 ; dict = {'data': [1], 'runlen': [199]}\n",
      "tocheck = 3 ; dict = {'data': [1], 'runlen': [199, 6]}\n",
      "tocheck = 70 ; dict = {'data': [3], 'runlen': []}\n",
      "tocheck = 1 ; dict = {'data': [3], 'runlen': [70]}\n",
      "tocheck = 198 ; dict = {'data': [1], 'runlen': []}\n",
      "tocheck = 6 ; dict = {'data': [1], 'runlen': [198]}\n",
      "tocheck = 3 ; dict = {'data': [1], 'runlen': [198, 6]}\n",
      "tocheck = 71 ; dict = {'data': [3], 'runlen': []}\n",
      "tocheck = 1 ; dict = {'data': [3], 'runlen': [71]}\n",
      "tocheck = 197 ; dict = {'data': [1], 'runlen': []}\n",
      "tocheck = 6 ; dict = {'data': [1], 'runlen': [197]}\n",
      "tocheck = 3 ; dict = {'data': [1], 'runlen': [197, 6]}\n",
      "tocheck = 71 ; dict = {'data': [3], 'runlen': []}\n",
      "tocheck = 1 ; dict = {'data': [3], 'runlen': [71]}\n",
      "tocheck = 197 ; dict = {'data': [1], 'runlen': []}\n",
      "tocheck = 6 ; dict = {'data': [1], 'runlen': [197]}\n",
      "tocheck = 3 ; dict = {'data': [1], 'runlen': [197, 6]}\n",
      "tocheck = 36 ; dict = {'data': [3], 'runlen': []}\n",
      "tocheck = 4 ; dict = {'data': [3], 'runlen': [36]}\n",
      "tocheck = 6 ; dict = {'data': [4], 'runlen': []}\n",
      "tocheck = 3 ; dict = {'data': [4], 'runlen': [6]}\n",
      "tocheck = 38 ; dict = {'data': [3], 'runlen': []}\n",
      "tocheck = 1 ; dict = {'data': [3], 'runlen': [38]}\n",
      "tocheck = 197 ; dict = {'data': [1], 'runlen': []}\n",
      "tocheck = 6 ; dict = {'data': [1], 'runlen': [197]}\n",
      "tocheck = 3 ; dict = {'data': [1], 'runlen': [197, 6]}\n",
      "tocheck = 72 ; dict = {'data': [3], 'runlen': []}\n",
      "tocheck = 1 ; dict = {'data': [3], 'runlen': [72]}\n",
      "tocheck = 196 ; dict = {'data': [1], 'runlen': []}\n",
      "tocheck = 6 ; dict = {'data': [1], 'runlen': [196]}\n",
      "tocheck = 3 ; dict = {'data': [1], 'runlen': [196, 6]}\n",
      "tocheck = 34 ; dict = {'data': [3], 'runlen': []}\n",
      "tocheck = 4 ; dict = {'data': [3], 'runlen': [34]}\n",
      "tocheck = 3 ; dict = {'data': [4], 'runlen': []}\n",
      "tocheck = 6 ; dict = {'data': [3], 'runlen': []}\n",
      "tocheck = 4 ; dict = {'data': [3], 'runlen': [6]}\n",
      "tocheck = 3 ; dict = {'data': [4], 'runlen': []}\n",
      "tocheck = 38 ; dict = {'data': [3], 'runlen': []}\n",
      "tocheck = 1 ; dict = {'data': [3], 'runlen': [38]}\n",
      "tocheck = 195 ; dict = {'data': [1], 'runlen': []}\n",
      "tocheck = 6 ; dict = {'data': [1], 'runlen': [195]}\n",
      "tocheck = 3 ; dict = {'data': [1], 'runlen': [195, 6]}\n",
      "tocheck = 75 ; dict = {'data': [3], 'runlen': []}\n",
      "tocheck = 1 ; dict = {'data': [3], 'runlen': [75]}\n",
      "tocheck = 145 ; dict = {'data': [1], 'runlen': []}\n",
      "tocheck = 6 ; dict = {'data': [1], 'runlen': [145]}\n",
      "tocheck = 3 ; dict = {'data': [1], 'runlen': [145, 6]}\n",
      "tocheck = 7 ; dict = {'data': [3], 'runlen': []}\n",
      "tocheck = 1 ; dict = {'data': [3], 'runlen': [7]}\n",
      "tocheck = 49 ; dict = {'data': [1], 'runlen': []}\n",
      "tocheck = 3 ; dict = {'data': [1], 'runlen': [49]}\n",
      "tocheck = 75 ; dict = {'data': [3], 'runlen': []}\n",
      "tocheck = 1 ; dict = {'data': [3], 'runlen': [75]}\n",
      "tocheck = 145 ; dict = {'data': [1], 'runlen': []}\n",
      "tocheck = 6 ; dict = {'data': [1], 'runlen': [145]}\n",
      "tocheck = 3 ; dict = {'data': [1], 'runlen': [145, 6]}\n",
      "tocheck = 9 ; dict = {'data': [3], 'runlen': []}\n",
      "tocheck = 1 ; dict = {'data': [3], 'runlen': [9]}\n",
      "tocheck = 46 ; dict = {'data': [1], 'runlen': []}\n",
      "tocheck = 3 ; dict = {'data': [1], 'runlen': [46]}\n"
     ]
    },
    {
     "name": "stdout",
     "output_type": "stream",
     "text": [
      "tocheck = 77 ; dict = {'data': [3], 'runlen': []}\n",
      "tocheck = 1 ; dict = {'data': [3], 'runlen': [77]}\n",
      "tocheck = 145 ; dict = {'data': [1], 'runlen': []}\n",
      "tocheck = 6 ; dict = {'data': [1], 'runlen': [145]}\n",
      "tocheck = 3 ; dict = {'data': [1], 'runlen': [145, 6]}\n",
      "tocheck = 9 ; dict = {'data': [3], 'runlen': []}\n",
      "tocheck = 1 ; dict = {'data': [3], 'runlen': [9]}\n",
      "tocheck = 46 ; dict = {'data': [1], 'runlen': []}\n",
      "tocheck = 3 ; dict = {'data': [1], 'runlen': [46]}\n",
      "tocheck = 77 ; dict = {'data': [3], 'runlen': []}\n",
      "tocheck = 1 ; dict = {'data': [3], 'runlen': [77]}\n",
      "tocheck = 146 ; dict = {'data': [1], 'runlen': []}\n",
      "tocheck = 6 ; dict = {'data': [1], 'runlen': [146]}\n",
      "tocheck = 3 ; dict = {'data': [1], 'runlen': [146, 6]}\n",
      "tocheck = 7 ; dict = {'data': [3], 'runlen': []}\n",
      "tocheck = 1 ; dict = {'data': [3], 'runlen': [7]}\n",
      "tocheck = 47 ; dict = {'data': [1], 'runlen': []}\n",
      "tocheck = 3 ; dict = {'data': [1], 'runlen': [47]}\n",
      "tocheck = 77 ; dict = {'data': [3], 'runlen': []}\n",
      "tocheck = 1 ; dict = {'data': [3], 'runlen': [77]}\n",
      "tocheck = 142 ; dict = {'data': [1], 'runlen': []}\n",
      "tocheck = 6 ; dict = {'data': [1], 'runlen': [142]}\n",
      "tocheck = 3 ; dict = {'data': [1], 'runlen': [142, 6]}\n",
      "tocheck = 8 ; dict = {'data': [3], 'runlen': []}\n",
      "tocheck = 1 ; dict = {'data': [3], 'runlen': [8]}\n",
      "tocheck = 49 ; dict = {'data': [1], 'runlen': []}\n",
      "tocheck = 3 ; dict = {'data': [1], 'runlen': [49]}\n",
      "tocheck = 78 ; dict = {'data': [3], 'runlen': []}\n",
      "tocheck = 1 ; dict = {'data': [3], 'runlen': [78]}\n",
      "tocheck = 142 ; dict = {'data': [1], 'runlen': []}\n",
      "tocheck = 6 ; dict = {'data': [1], 'runlen': [142]}\n",
      "tocheck = 3 ; dict = {'data': [1], 'runlen': [142, 6]}\n",
      "tocheck = 8 ; dict = {'data': [3], 'runlen': []}\n",
      "tocheck = 1 ; dict = {'data': [3], 'runlen': [8]}\n",
      "tocheck = 49 ; dict = {'data': [1], 'runlen': []}\n",
      "tocheck = 3 ; dict = {'data': [1], 'runlen': [49]}\n",
      "tocheck = 79 ; dict = {'data': [3], 'runlen': []}\n",
      "tocheck = 1 ; dict = {'data': [3], 'runlen': [79]}\n",
      "tocheck = 141 ; dict = {'data': [1], 'runlen': []}\n",
      "tocheck = 6 ; dict = {'data': [1], 'runlen': [141]}\n",
      "tocheck = 3 ; dict = {'data': [1], 'runlen': [141, 6]}\n",
      "tocheck = 7 ; dict = {'data': [3], 'runlen': []}\n",
      "tocheck = 1 ; dict = {'data': [3], 'runlen': [7]}\n",
      "tocheck = 49 ; dict = {'data': [1], 'runlen': []}\n",
      "tocheck = 3 ; dict = {'data': [1], 'runlen': [49]}\n",
      "tocheck = 80 ; dict = {'data': [3], 'runlen': []}\n",
      "tocheck = 1 ; dict = {'data': [3], 'runlen': [80]}\n",
      "tocheck = 142 ; dict = {'data': [1], 'runlen': []}\n",
      "tocheck = 6 ; dict = {'data': [1], 'runlen': [142]}\n",
      "tocheck = 3 ; dict = {'data': [1], 'runlen': [142, 6]}\n",
      "tocheck = 6 ; dict = {'data': [3], 'runlen': []}\n",
      "tocheck = 1 ; dict = {'data': [3], 'runlen': [6]}\n",
      "tocheck = 49 ; dict = {'data': [1], 'runlen': []}\n",
      "tocheck = 3 ; dict = {'data': [1], 'runlen': [49]}\n",
      "tocheck = 81 ; dict = {'data': [3], 'runlen': []}\n",
      "tocheck = 1 ; dict = {'data': [3], 'runlen': [81]}\n",
      "tocheck = 188 ; dict = {'data': [1], 'runlen': []}\n",
      "tocheck = 6 ; dict = {'data': [1], 'runlen': [188]}\n",
      "tocheck = 3 ; dict = {'data': [1], 'runlen': [188, 6]}\n",
      "tocheck = 81 ; dict = {'data': [3], 'runlen': []}\n",
      "tocheck = 1 ; dict = {'data': [3], 'runlen': [81]}\n",
      "tocheck = 188 ; dict = {'data': [1], 'runlen': []}\n",
      "tocheck = 6 ; dict = {'data': [1], 'runlen': [188]}\n",
      "tocheck = 3 ; dict = {'data': [1], 'runlen': [188, 6]}\n",
      "tocheck = 82 ; dict = {'data': [3], 'runlen': []}\n",
      "tocheck = 1 ; dict = {'data': [3], 'runlen': [82]}\n",
      "tocheck = 188 ; dict = {'data': [1], 'runlen': []}\n",
      "tocheck = 6 ; dict = {'data': [1], 'runlen': [188]}\n",
      "tocheck = 3 ; dict = {'data': [1], 'runlen': [188, 6]}\n",
      "tocheck = 81 ; dict = {'data': [3], 'runlen': []}\n",
      "tocheck = 1 ; dict = {'data': [3], 'runlen': [81]}\n",
      "tocheck = 174 ; dict = {'data': [1], 'runlen': []}\n",
      "tocheck = 6 ; dict = {'data': [1], 'runlen': [174]}\n",
      "tocheck = 3 ; dict = {'data': [1], 'runlen': [174, 6]}\n",
      "tocheck = 7 ; dict = {'data': [3], 'runlen': []}\n",
      "tocheck = 1 ; dict = {'data': [3], 'runlen': [7]}\n",
      "tocheck = 14 ; dict = {'data': [1], 'runlen': []}\n",
      "tocheck = 3 ; dict = {'data': [1], 'runlen': [14]}\n",
      "tocheck = 83 ; dict = {'data': [3], 'runlen': []}\n",
      "tocheck = 1 ; dict = {'data': [3], 'runlen': [83]}\n",
      "tocheck = 171 ; dict = {'data': [1], 'runlen': []}\n",
      "tocheck = 6 ; dict = {'data': [1], 'runlen': [171]}\n",
      "tocheck = 3 ; dict = {'data': [1], 'runlen': [171, 6]}\n",
      "tocheck = 9 ; dict = {'data': [3], 'runlen': []}\n",
      "tocheck = 1 ; dict = {'data': [3], 'runlen': [9]}\n",
      "tocheck = 14 ; dict = {'data': [1], 'runlen': []}\n",
      "tocheck = 3 ; dict = {'data': [1], 'runlen': [14]}\n",
      "tocheck = 83 ; dict = {'data': [3], 'runlen': []}\n",
      "tocheck = 1 ; dict = {'data': [3], 'runlen': [83]}\n",
      "tocheck = 162 ; dict = {'data': [1], 'runlen': []}\n",
      "tocheck = 6 ; dict = {'data': [1], 'runlen': [162]}\n",
      "tocheck = 3 ; dict = {'data': [1], 'runlen': [162, 6]}\n",
      "tocheck = 18 ; dict = {'data': [3], 'runlen': []}\n",
      "tocheck = 1 ; dict = {'data': [3], 'runlen': [18]}\n",
      "tocheck = 14 ; dict = {'data': [1], 'runlen': []}\n",
      "tocheck = 3 ; dict = {'data': [1], 'runlen': [14]}\n",
      "tocheck = 83 ; dict = {'data': [3], 'runlen': []}\n",
      "tocheck = 1 ; dict = {'data': [3], 'runlen': [83]}\n",
      "tocheck = 140 ; dict = {'data': [1], 'runlen': []}\n",
      "tocheck = 6 ; dict = {'data': [1], 'runlen': [140]}\n",
      "tocheck = 3 ; dict = {'data': [1], 'runlen': [140, 6]}\n",
      "tocheck = 1 ; dict = {'data': [3], 'runlen': []}\n",
      "tocheck = 23 ; dict = {'data': [1], 'runlen': []}\n",
      "tocheck = 3 ; dict = {'data': [1], 'runlen': [23]}\n",
      "tocheck = 20 ; dict = {'data': [3], 'runlen': []}\n",
      "tocheck = 1 ; dict = {'data': [3], 'runlen': [20]}\n",
      "tocheck = 6 ; dict = {'data': [1], 'runlen': []}\n",
      "tocheck = 3 ; dict = {'data': [1], 'runlen': [6]}\n",
      "tocheck = 1 ; dict = {'data': [3], 'runlen': []}\n",
      "tocheck = 9 ; dict = {'data': [1], 'runlen': []}\n",
      "tocheck = 3 ; dict = {'data': [1], 'runlen': [9]}\n",
      "tocheck = 81 ; dict = {'data': [3], 'runlen': []}\n",
      "tocheck = 1 ; dict = {'data': [3], 'runlen': [81]}\n",
      "tocheck = 143 ; dict = {'data': [1], 'runlen': []}\n",
      "tocheck = 6 ; dict = {'data': [1], 'runlen': [143]}\n",
      "tocheck = 3 ; dict = {'data': [1], 'runlen': [143, 6]}\n",
      "tocheck = 10 ; dict = {'data': [3], 'runlen': []}\n",
      "tocheck = 1 ; dict = {'data': [3], 'runlen': [10]}\n",
      "tocheck = 17 ; dict = {'data': [1], 'runlen': []}\n",
      "tocheck = 3 ; dict = {'data': [1], 'runlen': [17]}\n",
      "tocheck = 26 ; dict = {'data': [3], 'runlen': []}\n",
      "tocheck = 1 ; dict = {'data': [3], 'runlen': [26]}\n",
      "tocheck = 6 ; dict = {'data': [1], 'runlen': []}\n",
      "tocheck = 3 ; dict = {'data': [1], 'runlen': [6]}\n",
      "tocheck = 71 ; dict = {'data': [3], 'runlen': []}\n",
      "tocheck = 1 ; dict = {'data': [3], 'runlen': [71]}\n",
      "tocheck = 7 ; dict = {'data': [1], 'runlen': []}\n",
      "tocheck = 3 ; dict = {'data': [1], 'runlen': [7]}\n",
      "tocheck = 12 ; dict = {'data': [3], 'runlen': []}\n",
      "tocheck = 1 ; dict = {'data': [3], 'runlen': [12]}\n",
      "tocheck = 141 ; dict = {'data': [1], 'runlen': []}\n",
      "tocheck = 6 ; dict = {'data': [1], 'runlen': [141]}\n",
      "tocheck = 3 ; dict = {'data': [1], 'runlen': [141, 6]}\n",
      "tocheck = 12 ; dict = {'data': [3], 'runlen': []}\n",
      "tocheck = 1 ; dict = {'data': [3], 'runlen': [12]}\n",
      "tocheck = 6 ; dict = {'data': [1], 'runlen': []}\n",
      "tocheck = 3 ; dict = {'data': [1], 'runlen': [6]}\n",
      "tocheck = 106 ; dict = {'data': [3], 'runlen': []}\n",
      "tocheck = 0 ; dict = {'data': [3], 'runlen': [106]}\n",
      "tocheck = 1 ; dict = {'data': [0], 'runlen': []}\n",
      "tocheck = 6 ; dict = {'data': [1], 'runlen': []}\n",
      "tocheck = 3 ; dict = {'data': [1], 'runlen': [6]}\n",
      "tocheck = 12 ; dict = {'data': [3], 'runlen': []}\n",
      "tocheck = 1 ; dict = {'data': [3], 'runlen': [12]}\n",
      "tocheck = 139 ; dict = {'data': [1], 'runlen': []}\n",
      "tocheck = 6 ; dict = {'data': [1], 'runlen': [139]}\n",
      "tocheck = 3 ; dict = {'data': [1], 'runlen': [139, 6]}\n",
      "tocheck = 119 ; dict = {'data': [3], 'runlen': []}\n",
      "tocheck = 1 ; dict = {'data': [3], 'runlen': [119]}\n",
      "tocheck = 6 ; dict = {'data': [1], 'runlen': []}\n",
      "tocheck = 3 ; dict = {'data': [1], 'runlen': [6]}\n",
      "tocheck = 12 ; dict = {'data': [3], 'runlen': []}\n",
      "tocheck = 1 ; dict = {'data': [3], 'runlen': [12]}\n",
      "tocheck = 139 ; dict = {'data': [1], 'runlen': []}\n",
      "tocheck = 6 ; dict = {'data': [1], 'runlen': [139]}\n",
      "tocheck = 3 ; dict = {'data': [1], 'runlen': [139, 6]}\n",
      "tocheck = 119 ; dict = {'data': [3], 'runlen': []}\n",
      "tocheck = 1 ; dict = {'data': [3], 'runlen': [119]}\n",
      "tocheck = 6 ; dict = {'data': [1], 'runlen': []}\n",
      "tocheck = 3 ; dict = {'data': [1], 'runlen': [6]}\n",
      "tocheck = 13 ; dict = {'data': [3], 'runlen': []}\n",
      "tocheck = 1 ; dict = {'data': [3], 'runlen': [13]}\n",
      "tocheck = 140 ; dict = {'data': [1], 'runlen': []}\n",
      "tocheck = 6 ; dict = {'data': [1], 'runlen': [140]}\n",
      "tocheck = 3 ; dict = {'data': [1], 'runlen': [140, 6]}\n",
      "tocheck = 60 ; dict = {'data': [3], 'runlen': []}\n",
      "tocheck = 1 ; dict = {'data': [3], 'runlen': [60]}\n",
      "tocheck = 3 ; dict = {'data': [1], 'runlen': []}\n",
      "tocheck = 60 ; dict = {'data': [3], 'runlen': []}\n",
      "tocheck = 1 ; dict = {'data': [3], 'runlen': [60]}\n",
      "tocheck = 6 ; dict = {'data': [1], 'runlen': []}\n",
      "tocheck = 3 ; dict = {'data': [1], 'runlen': [6]}\n",
      "tocheck = 14 ; dict = {'data': [3], 'runlen': []}\n",
      "tocheck = 1 ; dict = {'data': [3], 'runlen': [14]}\n",
      "tocheck = 140 ; dict = {'data': [1], 'runlen': []}\n",
      "tocheck = 6 ; dict = {'data': [1], 'runlen': [140]}\n",
      "tocheck = 3 ; dict = {'data': [1], 'runlen': [140, 6]}\n",
      "tocheck = 60 ; dict = {'data': [3], 'runlen': []}\n",
      "tocheck = 1 ; dict = {'data': [3], 'runlen': [60]}\n",
      "tocheck = 6 ; dict = {'data': [1], 'runlen': []}\n",
      "tocheck = 3 ; dict = {'data': [1], 'runlen': [6]}\n",
      "tocheck = 59 ; dict = {'data': [3], 'runlen': []}\n",
      "tocheck = 1 ; dict = {'data': [3], 'runlen': [59]}\n",
      "tocheck = 3 ; dict = {'data': [1], 'runlen': []}\n",
      "tocheck = 15 ; dict = {'data': [3], 'runlen': []}\n",
      "tocheck = 1 ; dict = {'data': [3], 'runlen': [15]}\n",
      "tocheck = 138 ; dict = {'data': [1], 'runlen': []}\n",
      "tocheck = 6 ; dict = {'data': [1], 'runlen': [138]}\n",
      "tocheck = 3 ; dict = {'data': [1], 'runlen': [138, 6]}\n",
      "tocheck = 61 ; dict = {'data': [3], 'runlen': []}\n",
      "tocheck = 1 ; dict = {'data': [3], 'runlen': [61]}\n",
      "tocheck = 6 ; dict = {'data': [1], 'runlen': []}\n",
      "tocheck = 3 ; dict = {'data': [1], 'runlen': [6]}\n",
      "tocheck = 54 ; dict = {'data': [3], 'runlen': []}\n",
      "tocheck = 1 ; dict = {'data': [3], 'runlen': [54]}\n",
      "tocheck = 6 ; dict = {'data': [1], 'runlen': []}\n",
      "tocheck = 3 ; dict = {'data': [1], 'runlen': [6]}\n",
      "tocheck = 9 ; dict = {'data': [3], 'runlen': []}\n",
      "tocheck = 1 ; dict = {'data': [3], 'runlen': [9]}\n",
      "tocheck = 3 ; dict = {'data': [1], 'runlen': []}\n",
      "tocheck = 14 ; dict = {'data': [3], 'runlen': []}\n",
      "tocheck = 1 ; dict = {'data': [3], 'runlen': [14]}\n",
      "tocheck = 137 ; dict = {'data': [1], 'runlen': []}\n",
      "tocheck = 6 ; dict = {'data': [1], 'runlen': [137]}\n",
      "tocheck = 3 ; dict = {'data': [1], 'runlen': [137, 6]}\n",
      "tocheck = 112 ; dict = {'data': [3], 'runlen': []}\n",
      "tocheck = 1 ; dict = {'data': [3], 'runlen': [112]}\n",
      "tocheck = 10 ; dict = {'data': [1], 'runlen': []}\n",
      "tocheck = 3 ; dict = {'data': [1], 'runlen': [10]}\n",
      "tocheck = 7 ; dict = {'data': [3], 'runlen': []}\n",
      "tocheck = 1 ; dict = {'data': [3], 'runlen': [7]}\n",
      "tocheck = 3 ; dict = {'data': [1], 'runlen': []}\n",
      "tocheck = 14 ; dict = {'data': [3], 'runlen': []}\n",
      "tocheck = 1 ; dict = {'data': [3], 'runlen': [14]}\n",
      "tocheck = 136 ; dict = {'data': [1], 'runlen': []}\n",
      "tocheck = 6 ; dict = {'data': [1], 'runlen': [136]}\n",
      "tocheck = 3 ; dict = {'data': [1], 'runlen': [136, 6]}\n",
      "tocheck = 61 ; dict = {'data': [3], 'runlen': []}\n",
      "tocheck = 1 ; dict = {'data': [3], 'runlen': [61]}\n",
      "tocheck = 3 ; dict = {'data': [1], 'runlen': []}\n",
      "tocheck = 55 ; dict = {'data': [3], 'runlen': []}\n",
      "tocheck = 1 ; dict = {'data': [3], 'runlen': [55]}\n",
      "tocheck = 10 ; dict = {'data': [1], 'runlen': []}\n",
      "tocheck = 3 ; dict = {'data': [1], 'runlen': [10]}\n",
      "tocheck = 6 ; dict = {'data': [3], 'runlen': []}\n",
      "tocheck = 1 ; dict = {'data': [3], 'runlen': [6]}\n",
      "tocheck = 6 ; dict = {'data': [1], 'runlen': []}\n",
      "tocheck = 3 ; dict = {'data': [1], 'runlen': [6]}\n",
      "tocheck = 14 ; dict = {'data': [3], 'runlen': []}\n",
      "tocheck = 1 ; dict = {'data': [3], 'runlen': [14]}\n",
      "tocheck = 135 ; dict = {'data': [1], 'runlen': []}\n",
      "tocheck = 6 ; dict = {'data': [1], 'runlen': [135]}\n",
      "tocheck = 3 ; dict = {'data': [1], 'runlen': [135, 6]}\n",
      "tocheck = 114 ; dict = {'data': [3], 'runlen': []}\n",
      "tocheck = 1 ; dict = {'data': [3], 'runlen': [114]}\n",
      "tocheck = 10 ; dict = {'data': [1], 'runlen': []}\n",
      "tocheck = 3 ; dict = {'data': [1], 'runlen': [10]}\n",
      "tocheck = 6 ; dict = {'data': [3], 'runlen': []}\n",
      "tocheck = 1 ; dict = {'data': [3], 'runlen': [6]}\n",
      "tocheck = 6 ; dict = {'data': [1], 'runlen': []}\n",
      "tocheck = 3 ; dict = {'data': [1], 'runlen': [6]}\n",
      "tocheck = 13 ; dict = {'data': [3], 'runlen': []}\n",
      "tocheck = 1 ; dict = {'data': [3], 'runlen': [13]}\n",
      "tocheck = 135 ; dict = {'data': [1], 'runlen': []}\n",
      "tocheck = 6 ; dict = {'data': [1], 'runlen': [135]}\n",
      "tocheck = 3 ; dict = {'data': [1], 'runlen': [135, 6]}\n",
      "tocheck = 105 ; dict = {'data': [3], 'runlen': []}\n",
      "tocheck = 1 ; dict = {'data': [3], 'runlen': [105]}\n",
      "tocheck = 8 ; dict = {'data': [1], 'runlen': []}\n",
      "tocheck = 3 ; dict = {'data': [1], 'runlen': [8]}\n"
     ]
    },
    {
     "name": "stdout",
     "output_type": "stream",
     "text": [
      "tocheck = 9 ; dict = {'data': [3], 'runlen': []}\n",
      "tocheck = 1 ; dict = {'data': [3], 'runlen': [9]}\n",
      "tocheck = 15 ; dict = {'data': [1], 'runlen': []}\n",
      "tocheck = 3 ; dict = {'data': [1], 'runlen': [15]}\n",
      "tocheck = 9 ; dict = {'data': [3], 'runlen': []}\n",
      "tocheck = 1 ; dict = {'data': [3], 'runlen': [9]}\n",
      "tocheck = 138 ; dict = {'data': [1], 'runlen': []}\n",
      "tocheck = 6 ; dict = {'data': [1], 'runlen': [138]}\n",
      "tocheck = 3 ; dict = {'data': [1], 'runlen': [138, 6]}\n",
      "tocheck = 106 ; dict = {'data': [3], 'runlen': []}\n",
      "tocheck = 1 ; dict = {'data': [3], 'runlen': [106]}\n",
      "tocheck = 7 ; dict = {'data': [1], 'runlen': []}\n",
      "tocheck = 3 ; dict = {'data': [1], 'runlen': [7]}\n",
      "tocheck = 11 ; dict = {'data': [3], 'runlen': []}\n",
      "tocheck = 1 ; dict = {'data': [3], 'runlen': [11]}\n",
      "tocheck = 13 ; dict = {'data': [1], 'runlen': []}\n",
      "tocheck = 3 ; dict = {'data': [1], 'runlen': [13]}\n",
      "tocheck = 9 ; dict = {'data': [3], 'runlen': []}\n",
      "tocheck = 1 ; dict = {'data': [3], 'runlen': [9]}\n",
      "tocheck = 137 ; dict = {'data': [1], 'runlen': []}\n",
      "tocheck = 6 ; dict = {'data': [1], 'runlen': [137]}\n",
      "tocheck = 3 ; dict = {'data': [1], 'runlen': [137, 6]}\n",
      "tocheck = 78 ; dict = {'data': [3], 'runlen': []}\n",
      "tocheck = 1 ; dict = {'data': [3], 'runlen': [78]}\n",
      "tocheck = 6 ; dict = {'data': [1], 'runlen': []}\n",
      "tocheck = 3 ; dict = {'data': [1], 'runlen': [6]}\n",
      "tocheck = 32 ; dict = {'data': [3], 'runlen': []}\n",
      "tocheck = 1 ; dict = {'data': [3], 'runlen': [32]}\n",
      "tocheck = 7 ; dict = {'data': [1], 'runlen': []}\n",
      "tocheck = 3 ; dict = {'data': [1], 'runlen': [7]}\n",
      "tocheck = 11 ; dict = {'data': [3], 'runlen': []}\n",
      "tocheck = 1 ; dict = {'data': [3], 'runlen': [11]}\n",
      "tocheck = 13 ; dict = {'data': [1], 'runlen': []}\n",
      "tocheck = 3 ; dict = {'data': [1], 'runlen': [13]}\n",
      "tocheck = 8 ; dict = {'data': [3], 'runlen': []}\n",
      "tocheck = 1 ; dict = {'data': [3], 'runlen': [8]}\n",
      "tocheck = 138 ; dict = {'data': [1], 'runlen': []}\n",
      "tocheck = 6 ; dict = {'data': [1], 'runlen': [138]}\n",
      "tocheck = 3 ; dict = {'data': [1], 'runlen': [138, 6]}\n",
      "tocheck = 78 ; dict = {'data': [3], 'runlen': []}\n",
      "tocheck = 1 ; dict = {'data': [3], 'runlen': [78]}\n",
      "tocheck = 6 ; dict = {'data': [1], 'runlen': []}\n",
      "tocheck = 3 ; dict = {'data': [1], 'runlen': [6]}\n",
      "tocheck = 31 ; dict = {'data': [3], 'runlen': []}\n",
      "tocheck = 1 ; dict = {'data': [3], 'runlen': [31]}\n",
      "tocheck = 8 ; dict = {'data': [1], 'runlen': []}\n",
      "tocheck = 3 ; dict = {'data': [1], 'runlen': [8]}\n",
      "tocheck = 11 ; dict = {'data': [3], 'runlen': []}\n",
      "tocheck = 1 ; dict = {'data': [3], 'runlen': [11]}\n",
      "tocheck = 13 ; dict = {'data': [1], 'runlen': []}\n",
      "tocheck = 3 ; dict = {'data': [1], 'runlen': [13]}\n",
      "tocheck = 8 ; dict = {'data': [3], 'runlen': []}\n",
      "tocheck = 1 ; dict = {'data': [3], 'runlen': [8]}\n",
      "tocheck = 137 ; dict = {'data': [1], 'runlen': []}\n",
      "tocheck = 6 ; dict = {'data': [1], 'runlen': [137]}\n",
      "tocheck = 3 ; dict = {'data': [1], 'runlen': [137, 6]}\n",
      "tocheck = 79 ; dict = {'data': [3], 'runlen': []}\n",
      "tocheck = 1 ; dict = {'data': [3], 'runlen': [79]}\n",
      "tocheck = 3 ; dict = {'data': [1], 'runlen': []}\n",
      "tocheck = 30 ; dict = {'data': [3], 'runlen': []}\n",
      "tocheck = 1 ; dict = {'data': [3], 'runlen': [30]}\n",
      "tocheck = 10 ; dict = {'data': [1], 'runlen': []}\n",
      "tocheck = 3 ; dict = {'data': [1], 'runlen': [10]}\n",
      "tocheck = 11 ; dict = {'data': [3], 'runlen': []}\n",
      "tocheck = 1 ; dict = {'data': [3], 'runlen': [11]}\n",
      "tocheck = 15 ; dict = {'data': [1], 'runlen': []}\n",
      "tocheck = 3 ; dict = {'data': [1], 'runlen': [15]}\n",
      "tocheck = 1 ; dict = {'data': [3], 'runlen': []}\n",
      "tocheck = 137 ; dict = {'data': [1], 'runlen': []}\n",
      "tocheck = 6 ; dict = {'data': [1], 'runlen': [137]}\n",
      "tocheck = 3 ; dict = {'data': [1], 'runlen': [137, 6]}\n",
      "tocheck = 79 ; dict = {'data': [3], 'runlen': []}\n",
      "tocheck = 1 ; dict = {'data': [3], 'runlen': [79]}\n",
      "tocheck = 6 ; dict = {'data': [1], 'runlen': []}\n",
      "tocheck = 3 ; dict = {'data': [1], 'runlen': [6]}\n",
      "tocheck = 30 ; dict = {'data': [3], 'runlen': []}\n",
      "tocheck = 1 ; dict = {'data': [3], 'runlen': [30]}\n",
      "tocheck = 9 ; dict = {'data': [1], 'runlen': []}\n",
      "tocheck = 3 ; dict = {'data': [1], 'runlen': [9]}\n",
      "tocheck = 11 ; dict = {'data': [3], 'runlen': []}\n",
      "tocheck = 1 ; dict = {'data': [3], 'runlen': [11]}\n",
      "tocheck = 137 ; dict = {'data': [1], 'runlen': []}\n",
      "tocheck = 6 ; dict = {'data': [1], 'runlen': [137]}\n",
      "tocheck = 3 ; dict = {'data': [1], 'runlen': [137, 6]}\n",
      "tocheck = 1 ; dict = {'data': [3], 'runlen': []}\n",
      "tocheck = 14 ; dict = {'data': [1], 'runlen': []}\n",
      "tocheck = 3 ; dict = {'data': [1], 'runlen': [14]}\n",
      "tocheck = 81 ; dict = {'data': [3], 'runlen': []}\n",
      "tocheck = 1 ; dict = {'data': [3], 'runlen': [81]}\n",
      "tocheck = 7 ; dict = {'data': [1], 'runlen': []}\n",
      "tocheck = 3 ; dict = {'data': [1], 'runlen': [7]}\n",
      "tocheck = 29 ; dict = {'data': [3], 'runlen': []}\n",
      "tocheck = 1 ; dict = {'data': [3], 'runlen': [29]}\n",
      "tocheck = 10 ; dict = {'data': [1], 'runlen': []}\n",
      "tocheck = 3 ; dict = {'data': [1], 'runlen': [10]}\n",
      "tocheck = 10 ; dict = {'data': [3], 'runlen': []}\n",
      "tocheck = 1 ; dict = {'data': [3], 'runlen': [10]}\n",
      "tocheck = 7 ; dict = {'data': [1], 'runlen': []}\n",
      "tocheck = 3 ; dict = {'data': [1], 'runlen': [7]}\n",
      "tocheck = 7 ; dict = {'data': [3], 'runlen': []}\n",
      "tocheck = 1 ; dict = {'data': [3], 'runlen': [7]}\n",
      "tocheck = 104 ; dict = {'data': [1], 'runlen': []}\n",
      "tocheck = 6 ; dict = {'data': [1], 'runlen': [104]}\n",
      "tocheck = 3 ; dict = {'data': [1], 'runlen': [104, 6]}\n",
      "tocheck = 1 ; dict = {'data': [3], 'runlen': []}\n",
      "tocheck = 41 ; dict = {'data': [1], 'runlen': []}\n",
      "tocheck = 3 ; dict = {'data': [1], 'runlen': [41]}\n",
      "tocheck = 46 ; dict = {'data': [3], 'runlen': []}\n",
      "tocheck = 1 ; dict = {'data': [3], 'runlen': [46]}\n",
      "tocheck = 9 ; dict = {'data': [1], 'runlen': []}\n",
      "tocheck = 3 ; dict = {'data': [1], 'runlen': [9]}\n",
      "tocheck = 33 ; dict = {'data': [3], 'runlen': []}\n",
      "tocheck = 1 ; dict = {'data': [3], 'runlen': [33]}\n",
      "tocheck = 8 ; dict = {'data': [1], 'runlen': []}\n",
      "tocheck = 3 ; dict = {'data': [1], 'runlen': [8]}\n",
      "tocheck = 8 ; dict = {'data': [3], 'runlen': []}\n",
      "tocheck = 1 ; dict = {'data': [3], 'runlen': [8]}\n",
      "tocheck = 7 ; dict = {'data': [1], 'runlen': []}\n",
      "tocheck = 3 ; dict = {'data': [1], 'runlen': [7]}\n",
      "tocheck = 21 ; dict = {'data': [3], 'runlen': []}\n",
      "tocheck = 1 ; dict = {'data': [3], 'runlen': [21]}\n",
      "tocheck = 10 ; dict = {'data': [1], 'runlen': []}\n",
      "tocheck = 3 ; dict = {'data': [1], 'runlen': [10]}\n",
      "tocheck = 10 ; dict = {'data': [3], 'runlen': []}\n",
      "tocheck = 1 ; dict = {'data': [3], 'runlen': [10]}\n",
      "tocheck = 8 ; dict = {'data': [1], 'runlen': []}\n",
      "tocheck = 3 ; dict = {'data': [1], 'runlen': [8]}\n",
      "tocheck = 7 ; dict = {'data': [3], 'runlen': []}\n",
      "tocheck = 1 ; dict = {'data': [3], 'runlen': [7]}\n",
      "tocheck = 103 ; dict = {'data': [1], 'runlen': []}\n",
      "tocheck = 6 ; dict = {'data': [1], 'runlen': [103]}\n",
      "tocheck = 3 ; dict = {'data': [1], 'runlen': [103, 6]}\n",
      "tocheck = 6 ; dict = {'data': [3], 'runlen': []}\n",
      "tocheck = 1 ; dict = {'data': [3], 'runlen': [6]}\n",
      "tocheck = 37 ; dict = {'data': [1], 'runlen': []}\n",
      "tocheck = 3 ; dict = {'data': [1], 'runlen': [37]}\n",
      "tocheck = 49 ; dict = {'data': [3], 'runlen': []}\n",
      "tocheck = 1 ; dict = {'data': [3], 'runlen': [49]}\n",
      "tocheck = 3 ; dict = {'data': [1], 'runlen': []}\n",
      "tocheck = 7 ; dict = {'data': [3], 'runlen': []}\n",
      "tocheck = 1 ; dict = {'data': [3], 'runlen': [7]}\n",
      "tocheck = 7 ; dict = {'data': [1], 'runlen': []}\n",
      "tocheck = 3 ; dict = {'data': [1], 'runlen': [7]}\n",
      "tocheck = 32 ; dict = {'data': [3], 'runlen': []}\n",
      "tocheck = 1 ; dict = {'data': [3], 'runlen': [32]}\n",
      "tocheck = 10 ; dict = {'data': [1], 'runlen': []}\n",
      "tocheck = 3 ; dict = {'data': [1], 'runlen': [10]}\n",
      "tocheck = 25 ; dict = {'data': [3], 'runlen': []}\n",
      "tocheck = 1 ; dict = {'data': [3], 'runlen': [25]}\n",
      "tocheck = 11 ; dict = {'data': [1], 'runlen': []}\n",
      "tocheck = 3 ; dict = {'data': [1], 'runlen': [11]}\n",
      "tocheck = 9 ; dict = {'data': [3], 'runlen': []}\n",
      "tocheck = 1 ; dict = {'data': [3], 'runlen': [9]}\n",
      "tocheck = 9 ; dict = {'data': [1], 'runlen': []}\n",
      "tocheck = 3 ; dict = {'data': [1], 'runlen': [9]}\n",
      "tocheck = 7 ; dict = {'data': [3], 'runlen': []}\n",
      "tocheck = 1 ; dict = {'data': [3], 'runlen': [7]}\n",
      "tocheck = 101 ; dict = {'data': [1], 'runlen': []}\n",
      "tocheck = 6 ; dict = {'data': [1], 'runlen': [101]}\n",
      "tocheck = 3 ; dict = {'data': [1], 'runlen': [101, 6]}\n",
      "tocheck = 8 ; dict = {'data': [3], 'runlen': []}\n",
      "tocheck = 1 ; dict = {'data': [3], 'runlen': [8]}\n",
      "tocheck = 36 ; dict = {'data': [1], 'runlen': []}\n",
      "tocheck = 3 ; dict = {'data': [1], 'runlen': [36]}\n",
      "tocheck = 48 ; dict = {'data': [3], 'runlen': []}\n",
      "tocheck = 1 ; dict = {'data': [3], 'runlen': [48]}\n",
      "tocheck = 7 ; dict = {'data': [1], 'runlen': []}\n",
      "tocheck = 3 ; dict = {'data': [1], 'runlen': [7]}\n",
      "tocheck = 6 ; dict = {'data': [3], 'runlen': []}\n",
      "tocheck = 1 ; dict = {'data': [3], 'runlen': [6]}\n",
      "tocheck = 10 ; dict = {'data': [1], 'runlen': []}\n",
      "tocheck = 3 ; dict = {'data': [1], 'runlen': [10]}\n",
      "tocheck = 9 ; dict = {'data': [3], 'runlen': []}\n",
      "tocheck = 1 ; dict = {'data': [3], 'runlen': [9]}\n",
      "tocheck = 3 ; dict = {'data': [1], 'runlen': []}\n",
      "tocheck = 25 ; dict = {'data': [3], 'runlen': []}\n",
      "tocheck = 1 ; dict = {'data': [3], 'runlen': [25]}\n",
      "tocheck = 10 ; dict = {'data': [1], 'runlen': []}\n",
      "tocheck = 3 ; dict = {'data': [1], 'runlen': [10]}\n",
      "tocheck = 10 ; dict = {'data': [3], 'runlen': []}\n",
      "tocheck = 1 ; dict = {'data': [3], 'runlen': [10]}\n",
      "tocheck = 10 ; dict = {'data': [1], 'runlen': []}\n",
      "tocheck = 3 ; dict = {'data': [1], 'runlen': [10]}\n",
      "tocheck = 6 ; dict = {'data': [3], 'runlen': []}\n",
      "tocheck = 1 ; dict = {'data': [3], 'runlen': [6]}\n",
      "tocheck = 6 ; dict = {'data': [1], 'runlen': []}\n",
      "tocheck = 3 ; dict = {'data': [1], 'runlen': [6]}\n",
      "tocheck = 8 ; dict = {'data': [3], 'runlen': []}\n",
      "tocheck = 1 ; dict = {'data': [3], 'runlen': [8]}\n",
      "tocheck = 12 ; dict = {'data': [1], 'runlen': []}\n",
      "tocheck = 3 ; dict = {'data': [1], 'runlen': [12]}\n",
      "tocheck = 7 ; dict = {'data': [3], 'runlen': []}\n",
      "tocheck = 1 ; dict = {'data': [3], 'runlen': [7]}\n",
      "tocheck = 110 ; dict = {'data': [1], 'runlen': []}\n",
      "tocheck = 6 ; dict = {'data': [1], 'runlen': [110]}\n",
      "tocheck = 3 ; dict = {'data': [1], 'runlen': [110, 6]}\n",
      "tocheck = 8 ; dict = {'data': [3], 'runlen': []}\n",
      "tocheck = 1 ; dict = {'data': [3], 'runlen': [8]}\n",
      "tocheck = 36 ; dict = {'data': [1], 'runlen': []}\n",
      "tocheck = 3 ; dict = {'data': [1], 'runlen': [36]}\n",
      "tocheck = 50 ; dict = {'data': [3], 'runlen': []}\n",
      "tocheck = 1 ; dict = {'data': [3], 'runlen': [50]}\n",
      "tocheck = 12 ; dict = {'data': [1], 'runlen': []}\n",
      "tocheck = 3 ; dict = {'data': [1], 'runlen': [12]}\n",
      "tocheck = 7 ; dict = {'data': [3], 'runlen': []}\n",
      "tocheck = 1 ; dict = {'data': [3], 'runlen': [7]}\n",
      "tocheck = 9 ; dict = {'data': [1], 'runlen': []}\n",
      "tocheck = 3 ; dict = {'data': [1], 'runlen': [9]}\n",
      "tocheck = 25 ; dict = {'data': [3], 'runlen': []}\n",
      "tocheck = 1 ; dict = {'data': [3], 'runlen': [25]}\n",
      "tocheck = 8 ; dict = {'data': [1], 'runlen': []}\n",
      "tocheck = 3 ; dict = {'data': [1], 'runlen': [8]}\n",
      "tocheck = 8 ; dict = {'data': [3], 'runlen': []}\n",
      "tocheck = 1 ; dict = {'data': [3], 'runlen': [8]}\n",
      "tocheck = 20 ; dict = {'data': [1], 'runlen': []}\n",
      "tocheck = 3 ; dict = {'data': [1], 'runlen': [20]}\n",
      "tocheck = 1 ; dict = {'data': [3], 'runlen': []}\n",
      "tocheck = 15 ; dict = {'data': [1], 'runlen': []}\n",
      "tocheck = 3 ; dict = {'data': [1], 'runlen': [15]}\n",
      "tocheck = 1 ; dict = {'data': [3], 'runlen': []}\n",
      "tocheck = 109 ; dict = {'data': [1], 'runlen': []}\n",
      "tocheck = 6 ; dict = {'data': [1], 'runlen': [109]}\n",
      "tocheck = 3 ; dict = {'data': [1], 'runlen': [109, 6]}\n",
      "tocheck = 8 ; dict = {'data': [3], 'runlen': []}\n",
      "tocheck = 1 ; dict = {'data': [3], 'runlen': [8]}\n",
      "tocheck = 32 ; dict = {'data': [1], 'runlen': []}\n",
      "tocheck = 3 ; dict = {'data': [1], 'runlen': [32]}\n",
      "tocheck = 1 ; dict = {'data': [3], 'runlen': []}\n",
      "tocheck = 3 ; dict = {'data': [1], 'runlen': []}\n",
      "tocheck = 52 ; dict = {'data': [3], 'runlen': []}\n",
      "tocheck = 1 ; dict = {'data': [3], 'runlen': [52]}\n",
      "tocheck = 11 ; dict = {'data': [1], 'runlen': []}\n",
      "tocheck = 3 ; dict = {'data': [1], 'runlen': [11]}\n",
      "tocheck = 7 ; dict = {'data': [3], 'runlen': []}\n",
      "tocheck = 1 ; dict = {'data': [3], 'runlen': [7]}\n",
      "tocheck = 9 ; dict = {'data': [1], 'runlen': []}\n",
      "tocheck = 3 ; dict = {'data': [1], 'runlen': [9]}\n",
      "tocheck = 31 ; dict = {'data': [3], 'runlen': []}\n",
      "tocheck = 1 ; dict = {'data': [3], 'runlen': [31]}\n",
      "tocheck = 40 ; dict = {'data': [1], 'runlen': []}\n",
      "tocheck = 3 ; dict = {'data': [1], 'runlen': [40]}\n",
      "tocheck = 1 ; dict = {'data': [3], 'runlen': []}\n",
      "tocheck = 104 ; dict = {'data': [1], 'runlen': []}\n",
      "tocheck = 6 ; dict = {'data': [1], 'runlen': [104]}\n",
      "tocheck = 3 ; dict = {'data': [1], 'runlen': [104, 6]}\n",
      "tocheck = 7 ; dict = {'data': [3], 'runlen': []}\n",
      "tocheck = 1 ; dict = {'data': [3], 'runlen': [7]}\n",
      "tocheck = 33 ; dict = {'data': [1], 'runlen': []}\n",
      "tocheck = 3 ; dict = {'data': [1], 'runlen': [33]}\n",
      "tocheck = 1 ; dict = {'data': [3], 'runlen': []}\n",
      "tocheck = 3 ; dict = {'data': [1], 'runlen': []}\n",
      "tocheck = 52 ; dict = {'data': [3], 'runlen': []}\n",
      "tocheck = 1 ; dict = {'data': [3], 'runlen': [52]}\n",
      "tocheck = 10 ; dict = {'data': [1], 'runlen': []}\n",
      "tocheck = 3 ; dict = {'data': [1], 'runlen': [10]}\n",
      "tocheck = 8 ; dict = {'data': [3], 'runlen': []}\n",
      "tocheck = 1 ; dict = {'data': [3], 'runlen': [8]}\n",
      "tocheck = 7 ; dict = {'data': [1], 'runlen': []}\n",
      "tocheck = 3 ; dict = {'data': [1], 'runlen': [7]}\n",
      "tocheck = 1 ; dict = {'data': [3], 'runlen': []}\n",
      "tocheck = 3 ; dict = {'data': [1], 'runlen': []}\n",
      "tocheck = 30 ; dict = {'data': [3], 'runlen': []}\n",
      "tocheck = 1 ; dict = {'data': [3], 'runlen': [30]}\n",
      "tocheck = 142 ; dict = {'data': [1], 'runlen': []}\n",
      "tocheck = 6 ; dict = {'data': [1], 'runlen': [142]}\n",
      "tocheck = 3 ; dict = {'data': [1], 'runlen': [142, 6]}\n",
      "tocheck = 7 ; dict = {'data': [3], 'runlen': []}\n",
      "tocheck = 1 ; dict = {'data': [3], 'runlen': [7]}\n",
      "tocheck = 27 ; dict = {'data': [1], 'runlen': []}\n",
      "tocheck = 3 ; dict = {'data': [1], 'runlen': [27]}\n",
      "tocheck = 47 ; dict = {'data': [3], 'runlen': []}\n",
      "tocheck = 1 ; dict = {'data': [3], 'runlen': [47]}\n",
      "tocheck = 3 ; dict = {'data': [1], 'runlen': []}\n",
      "tocheck = 8 ; dict = {'data': [3], 'runlen': []}\n",
      "tocheck = 1 ; dict = {'data': [3], 'runlen': [8]}\n",
      "tocheck = 3 ; dict = {'data': [1], 'runlen': []}\n",
      "tocheck = 11 ; dict = {'data': [3], 'runlen': []}\n",
      "tocheck = 1 ; dict = {'data': [3], 'runlen': [11]}\n",
      "tocheck = 10 ; dict = {'data': [1], 'runlen': []}\n",
      "tocheck = 3 ; dict = {'data': [1], 'runlen': [10]}\n",
      "tocheck = 7 ; dict = {'data': [3], 'runlen': []}\n",
      "tocheck = 1 ; dict = {'data': [3], 'runlen': [7]}\n",
      "tocheck = 8 ; dict = {'data': [1], 'runlen': []}\n",
      "tocheck = 3 ; dict = {'data': [1], 'runlen': [8]}\n",
      "tocheck = 32 ; dict = {'data': [3], 'runlen': []}\n",
      "tocheck = 1 ; dict = {'data': [3], 'runlen': [32]}\n",
      "tocheck = 41 ; dict = {'data': [1], 'runlen': []}\n",
      "tocheck = 3 ; dict = {'data': [1], 'runlen': [41]}\n",
      "tocheck = 1 ; dict = {'data': [3], 'runlen': []}\n",
      "tocheck = 103 ; dict = {'data': [1], 'runlen': []}\n",
      "tocheck = 6 ; dict = {'data': [1], 'runlen': [103]}\n",
      "tocheck = 3 ; dict = {'data': [1], 'runlen': [103, 6]}\n",
      "tocheck = 8 ; dict = {'data': [3], 'runlen': []}\n",
      "tocheck = 1 ; dict = {'data': [3], 'runlen': [8]}\n",
      "tocheck = 26 ; dict = {'data': [1], 'runlen': []}\n",
      "tocheck = 3 ; dict = {'data': [1], 'runlen': [26]}\n",
      "tocheck = 60 ; dict = {'data': [3], 'runlen': []}\n",
      "tocheck = 1 ; dict = {'data': [3], 'runlen': [60]}\n",
      "tocheck = 10 ; dict = {'data': [1], 'runlen': []}\n",
      "tocheck = 3 ; dict = {'data': [1], 'runlen': [10]}\n",
      "tocheck = 8 ; dict = {'data': [3], 'runlen': []}\n",
      "tocheck = 1 ; dict = {'data': [3], 'runlen': [8]}\n",
      "tocheck = 8 ; dict = {'data': [1], 'runlen': []}\n",
      "tocheck = 3 ; dict = {'data': [1], 'runlen': [8]}\n",
      "tocheck = 32 ; dict = {'data': [3], 'runlen': []}\n",
      "tocheck = 1 ; dict = {'data': [3], 'runlen': [32]}\n",
      "tocheck = 40 ; dict = {'data': [1], 'runlen': []}\n",
      "tocheck = 3 ; dict = {'data': [1], 'runlen': [40]}\n",
      "tocheck = 6 ; dict = {'data': [3], 'runlen': []}\n",
      "tocheck = 1 ; dict = {'data': [3], 'runlen': [6]}\n",
      "tocheck = 103 ; dict = {'data': [1], 'runlen': []}\n",
      "tocheck = 6 ; dict = {'data': [1], 'runlen': [103]}\n",
      "tocheck = 3 ; dict = {'data': [1], 'runlen': [103, 6]}\n",
      "tocheck = 8 ; dict = {'data': [3], 'runlen': []}\n",
      "tocheck = 1 ; dict = {'data': [3], 'runlen': [8]}\n",
      "tocheck = 26 ; dict = {'data': [1], 'runlen': []}\n",
      "tocheck = 3 ; dict = {'data': [1], 'runlen': [26]}\n",
      "tocheck = 50 ; dict = {'data': [3], 'runlen': []}\n",
      "tocheck = 1 ; dict = {'data': [3], 'runlen': [50]}\n",
      "tocheck = 3 ; dict = {'data': [1], 'runlen': []}\n",
      "tocheck = 13 ; dict = {'data': [3], 'runlen': []}\n",
      "tocheck = 1 ; dict = {'data': [3], 'runlen': [13]}\n",
      "tocheck = 9 ; dict = {'data': [1], 'runlen': []}\n",
      "tocheck = 3 ; dict = {'data': [1], 'runlen': [9]}\n",
      "tocheck = 10 ; dict = {'data': [3], 'runlen': []}\n",
      "tocheck = 1 ; dict = {'data': [3], 'runlen': [10]}\n",
      "tocheck = 3 ; dict = {'data': [1], 'runlen': []}\n",
      "tocheck = 34 ; dict = {'data': [3], 'runlen': []}\n",
      "tocheck = 1 ; dict = {'data': [3], 'runlen': [34]}\n",
      "tocheck = 40 ; dict = {'data': [1], 'runlen': []}\n",
      "tocheck = 3 ; dict = {'data': [1], 'runlen': [40]}\n",
      "tocheck = 6 ; dict = {'data': [3], 'runlen': []}\n",
      "tocheck = 1 ; dict = {'data': [3], 'runlen': [6]}\n",
      "tocheck = 102 ; dict = {'data': [1], 'runlen': []}\n",
      "tocheck = 6 ; dict = {'data': [1], 'runlen': [102]}\n",
      "tocheck = 3 ; dict = {'data': [1], 'runlen': [102, 6]}\n",
      "tocheck = 9 ; dict = {'data': [3], 'runlen': []}\n",
      "tocheck = 1 ; dict = {'data': [3], 'runlen': [9]}\n",
      "tocheck = 26 ; dict = {'data': [1], 'runlen': []}\n",
      "tocheck = 3 ; dict = {'data': [1], 'runlen': [26]}\n",
      "tocheck = 43 ; dict = {'data': [3], 'runlen': []}\n",
      "tocheck = 1 ; dict = {'data': [3], 'runlen': [43]}\n",
      "tocheck = 8 ; dict = {'data': [1], 'runlen': []}\n",
      "tocheck = 3 ; dict = {'data': [1], 'runlen': [8]}\n",
      "tocheck = 19 ; dict = {'data': [3], 'runlen': []}\n",
      "tocheck = 1 ; dict = {'data': [3], 'runlen': [19]}\n",
      "tocheck = 6 ; dict = {'data': [1], 'runlen': []}\n",
      "tocheck = 3 ; dict = {'data': [1], 'runlen': [6]}\n",
      "tocheck = 42 ; dict = {'data': [3], 'runlen': []}\n",
      "tocheck = 1 ; dict = {'data': [3], 'runlen': [42]}\n",
      "tocheck = 140 ; dict = {'data': [1], 'runlen': []}\n",
      "tocheck = 6 ; dict = {'data': [1], 'runlen': [140]}\n",
      "tocheck = 3 ; dict = {'data': [1], 'runlen': [140, 6]}\n",
      "tocheck = 8 ; dict = {'data': [3], 'runlen': []}\n",
      "tocheck = 1 ; dict = {'data': [3], 'runlen': [8]}\n",
      "tocheck = 28 ; dict = {'data': [1], 'runlen': []}\n",
      "tocheck = 3 ; dict = {'data': [1], 'runlen': [28]}\n",
      "tocheck = 27 ; dict = {'data': [3], 'runlen': []}\n",
      "tocheck = 1 ; dict = {'data': [3], 'runlen': [27]}\n",
      "tocheck = 3 ; dict = {'data': [1], 'runlen': []}\n",
      "tocheck = 19 ; dict = {'data': [3], 'runlen': []}\n",
      "tocheck = 1 ; dict = {'data': [3], 'runlen': [19]}\n",
      "tocheck = 8 ; dict = {'data': [1], 'runlen': []}\n",
      "tocheck = 3 ; dict = {'data': [1], 'runlen': [8]}\n",
      "tocheck = 26 ; dict = {'data': [3], 'runlen': []}\n",
      "tocheck = 1 ; dict = {'data': [3], 'runlen': [26]}\n",
      "tocheck = 6 ; dict = {'data': [1], 'runlen': []}\n",
      "tocheck = 3 ; dict = {'data': [1], 'runlen': [6]}\n",
      "tocheck = 28 ; dict = {'data': [3], 'runlen': []}\n",
      "tocheck = 1 ; dict = {'data': [3], 'runlen': [28]}\n",
      "tocheck = 8 ; dict = {'data': [1], 'runlen': []}\n",
      "tocheck = 3 ; dict = {'data': [1], 'runlen': [8]}\n",
      "tocheck = 1 ; dict = {'data': [3], 'runlen': []}\n",
      "tocheck = 40 ; dict = {'data': [1], 'runlen': []}\n",
      "tocheck = 3 ; dict = {'data': [1], 'runlen': [40]}\n",
      "tocheck = 1 ; dict = {'data': [3], 'runlen': []}\n",
      "tocheck = 104 ; dict = {'data': [1], 'runlen': []}\n",
      "tocheck = 6 ; dict = {'data': [1], 'runlen': [104]}\n",
      "tocheck = 3 ; dict = {'data': [1], 'runlen': [104, 6]}\n",
      "tocheck = 7 ; dict = {'data': [3], 'runlen': []}\n",
      "tocheck = 1 ; dict = {'data': [3], 'runlen': [7]}\n",
      "tocheck = 29 ; dict = {'data': [1], 'runlen': []}\n",
      "tocheck = 3 ; dict = {'data': [1], 'runlen': [29]}\n",
      "tocheck = 41 ; dict = {'data': [3], 'runlen': []}\n",
      "tocheck = 1 ; dict = {'data': [3], 'runlen': [41]}\n",
      "tocheck = 3 ; dict = {'data': [1], 'runlen': []}\n",
      "tocheck = 6 ; dict = {'data': [3], 'runlen': []}\n",
      "tocheck = 1 ; dict = {'data': [3], 'runlen': [6]}\n",
      "tocheck = 8 ; dict = {'data': [1], 'runlen': []}\n",
      "tocheck = 3 ; dict = {'data': [1], 'runlen': [8]}\n",
      "tocheck = 24 ; dict = {'data': [3], 'runlen': []}\n",
      "tocheck = 1 ; dict = {'data': [3], 'runlen': [24]}\n",
      "tocheck = 8 ; dict = {'data': [1], 'runlen': []}\n",
      "tocheck = 3 ; dict = {'data': [1], 'runlen': [8]}\n",
      "tocheck = 25 ; dict = {'data': [3], 'runlen': []}\n",
      "tocheck = 1 ; dict = {'data': [3], 'runlen': [25]}\n",
      "tocheck = 46 ; dict = {'data': [1], 'runlen': []}\n",
      "tocheck = 3 ; dict = {'data': [1], 'runlen': [46]}\n",
      "tocheck = 6 ; dict = {'data': [3], 'runlen': []}\n",
      "tocheck = 1 ; dict = {'data': [3], 'runlen': [6]}\n",
      "tocheck = 104 ; dict = {'data': [1], 'runlen': []}\n",
      "tocheck = 6 ; dict = {'data': [1], 'runlen': [104]}\n",
      "tocheck = 3 ; dict = {'data': [1], 'runlen': [104, 6]}\n",
      "tocheck = 7 ; dict = {'data': [3], 'runlen': []}\n",
      "tocheck = 1 ; dict = {'data': [3], 'runlen': [7]}\n",
      "tocheck = 27 ; dict = {'data': [1], 'runlen': []}\n",
      "tocheck = 3 ; dict = {'data': [1], 'runlen': [27]}\n",
      "tocheck = 28 ; dict = {'data': [3], 'runlen': []}\n",
      "tocheck = 1 ; dict = {'data': [3], 'runlen': [28]}\n",
      "tocheck = 6 ; dict = {'data': [1], 'runlen': []}\n",
      "tocheck = 3 ; dict = {'data': [1], 'runlen': [6]}\n",
      "tocheck = 8 ; dict = {'data': [3], 'runlen': []}\n",
      "tocheck = 1 ; dict = {'data': [3], 'runlen': [8]}\n",
      "tocheck = 6 ; dict = {'data': [1], 'runlen': []}\n",
      "tocheck = 3 ; dict = {'data': [1], 'runlen': [6]}\n",
      "tocheck = 1 ; dict = {'data': [3], 'runlen': []}\n",
      "tocheck = 3 ; dict = {'data': [1], 'runlen': []}\n",
      "tocheck = 10 ; dict = {'data': [3], 'runlen': []}\n",
      "tocheck = 1 ; dict = {'data': [3], 'runlen': [10]}\n",
      "tocheck = 8 ; dict = {'data': [1], 'runlen': []}\n",
      "tocheck = 3 ; dict = {'data': [1], 'runlen': [8]}\n",
      "tocheck = 1 ; dict = {'data': [3], 'runlen': []}\n",
      "tocheck = 3 ; dict = {'data': [1], 'runlen': []}\n",
      "tocheck = 20 ; dict = {'data': [3], 'runlen': []}\n",
      "tocheck = 1 ; dict = {'data': [3], 'runlen': [20]}\n",
      "tocheck = 11 ; dict = {'data': [1], 'runlen': []}\n",
      "tocheck = 3 ; dict = {'data': [1], 'runlen': [11]}\n",
      "tocheck = 25 ; dict = {'data': [3], 'runlen': []}\n",
      "tocheck = 1 ; dict = {'data': [3], 'runlen': [25]}\n",
      "tocheck = 53 ; dict = {'data': [1], 'runlen': []}\n",
      "tocheck = 3 ; dict = {'data': [1], 'runlen': [53]}\n",
      "tocheck = 7 ; dict = {'data': [3], 'runlen': []}\n",
      "tocheck = 1 ; dict = {'data': [3], 'runlen': [7]}\n",
      "tocheck = 98 ; dict = {'data': [1], 'runlen': []}\n",
      "tocheck = 6 ; dict = {'data': [1], 'runlen': [98]}\n",
      "tocheck = 3 ; dict = {'data': [1], 'runlen': [98, 6]}\n",
      "tocheck = 1 ; dict = {'data': [3], 'runlen': []}\n",
      "tocheck = 28 ; dict = {'data': [1], 'runlen': []}\n",
      "tocheck = 3 ; dict = {'data': [1], 'runlen': [28]}\n",
      "tocheck = 28 ; dict = {'data': [3], 'runlen': []}\n",
      "tocheck = 1 ; dict = {'data': [3], 'runlen': [28]}\n",
      "tocheck = 7 ; dict = {'data': [1], 'runlen': []}\n",
      "tocheck = 3 ; dict = {'data': [1], 'runlen': [7]}\n",
      "tocheck = 7 ; dict = {'data': [3], 'runlen': []}\n",
      "tocheck = 1 ; dict = {'data': [3], 'runlen': [7]}\n",
      "tocheck = 3 ; dict = {'data': [1], 'runlen': []}\n",
      "tocheck = 1 ; dict = {'data': [3], 'runlen': []}\n",
      "tocheck = 3 ; dict = {'data': [1], 'runlen': []}\n",
      "tocheck = 8 ; dict = {'data': [3], 'runlen': []}\n",
      "tocheck = 1 ; dict = {'data': [3], 'runlen': [8]}\n",
      "tocheck = 12 ; dict = {'data': [1], 'runlen': []}\n",
      "tocheck = 3 ; dict = {'data': [1], 'runlen': [12]}\n",
      "tocheck = 21 ; dict = {'data': [3], 'runlen': []}\n",
      "tocheck = 1 ; dict = {'data': [3], 'runlen': [21]}\n",
      "tocheck = 11 ; dict = {'data': [1], 'runlen': []}\n",
      "tocheck = 3 ; dict = {'data': [1], 'runlen': [11]}\n",
      "tocheck = 24 ; dict = {'data': [3], 'runlen': []}\n",
      "tocheck = 1 ; dict = {'data': [3], 'runlen': [24]}\n",
      "tocheck = 54 ; dict = {'data': [1], 'runlen': []}\n",
      "tocheck = 3 ; dict = {'data': [1], 'runlen': [54]}\n",
      "tocheck = 7 ; dict = {'data': [3], 'runlen': []}\n",
      "tocheck = 1 ; dict = {'data': [3], 'runlen': [7]}\n",
      "tocheck = 122 ; dict = {'data': [1], 'runlen': []}\n",
      "tocheck = 6 ; dict = {'data': [1], 'runlen': [122]}\n",
      "tocheck = 3 ; dict = {'data': [1], 'runlen': [122, 6]}\n",
      "tocheck = 32 ; dict = {'data': [3], 'runlen': []}\n",
      "tocheck = 1 ; dict = {'data': [3], 'runlen': [32]}\n",
      "tocheck = 3 ; dict = {'data': [1], 'runlen': []}\n",
      "tocheck = 1 ; dict = {'data': [3], 'runlen': []}\n",
      "tocheck = 3 ; dict = {'data': [1], 'runlen': []}\n",
      "tocheck = 1 ; dict = {'data': [3], 'runlen': []}\n",
      "tocheck = 3 ; dict = {'data': [1], 'runlen': []}\n",
      "tocheck = 9 ; dict = {'data': [3], 'runlen': []}\n",
      "tocheck = 1 ; dict = {'data': [3], 'runlen': [9]}\n",
      "tocheck = 8 ; dict = {'data': [1], 'runlen': []}\n",
      "tocheck = 3 ; dict = {'data': [1], 'runlen': [8]}\n",
      "tocheck = 1 ; dict = {'data': [3], 'runlen': []}\n",
      "tocheck = 6 ; dict = {'data': [1], 'runlen': []}\n",
      "tocheck = 3 ; dict = {'data': [1], 'runlen': [6]}\n",
      "tocheck = 23 ; dict = {'data': [3], 'runlen': []}\n",
      "tocheck = 1 ; dict = {'data': [3], 'runlen': [23]}\n",
      "tocheck = 11 ; dict = {'data': [1], 'runlen': []}\n",
      "tocheck = 3 ; dict = {'data': [1], 'runlen': [11]}\n",
      "tocheck = 23 ; dict = {'data': [3], 'runlen': []}\n",
      "tocheck = 1 ; dict = {'data': [3], 'runlen': [23]}\n",
      "tocheck = 54 ; dict = {'data': [1], 'runlen': []}\n",
      "tocheck = 3 ; dict = {'data': [1], 'runlen': [54]}\n",
      "tocheck = 6 ; dict = {'data': [3], 'runlen': []}\n",
      "tocheck = 1 ; dict = {'data': [3], 'runlen': [6]}\n",
      "tocheck = 124 ; dict = {'data': [1], 'runlen': []}\n",
      "tocheck = 6 ; dict = {'data': [1], 'runlen': [124]}\n",
      "tocheck = 3 ; dict = {'data': [1], 'runlen': [124, 6]}\n",
      "tocheck = 9 ; dict = {'data': [3], 'runlen': []}\n",
      "tocheck = 1 ; dict = {'data': [3], 'runlen': [9]}\n",
      "tocheck = 3 ; dict = {'data': [1], 'runlen': []}\n",
      "tocheck = 12 ; dict = {'data': [3], 'runlen': []}\n",
      "tocheck = 1 ; dict = {'data': [3], 'runlen': [12]}\n",
      "tocheck = 3 ; dict = {'data': [1], 'runlen': []}\n",
      "tocheck = 27 ; dict = {'data': [3], 'runlen': []}\n",
      "tocheck = 1 ; dict = {'data': [3], 'runlen': [27]}\n",
      "tocheck = 3 ; dict = {'data': [1], 'runlen': []}\n",
      "tocheck = 29 ; dict = {'data': [3], 'runlen': []}\n",
      "tocheck = 1 ; dict = {'data': [3], 'runlen': [29]}\n",
      "tocheck = 9 ; dict = {'data': [1], 'runlen': []}\n",
      "tocheck = 3 ; dict = {'data': [1], 'runlen': [9]}\n",
      "tocheck = 24 ; dict = {'data': [3], 'runlen': []}\n",
      "tocheck = 1 ; dict = {'data': [3], 'runlen': [24]}\n",
      "tocheck = 170 ; dict = {'data': [1], 'runlen': []}\n",
      "tocheck = 6 ; dict = {'data': [1], 'runlen': [170]}\n",
      "tocheck = 3 ; dict = {'data': [1], 'runlen': [170, 6]}\n",
      "tocheck = 7 ; dict = {'data': [3], 'runlen': []}\n",
      "tocheck = 1 ; dict = {'data': [3], 'runlen': [7]}\n",
      "tocheck = 3 ; dict = {'data': [1], 'runlen': []}\n",
      "tocheck = 11 ; dict = {'data': [3], 'runlen': []}\n",
      "tocheck = 1 ; dict = {'data': [3], 'runlen': [11]}\n",
      "tocheck = 3 ; dict = {'data': [1], 'runlen': []}\n",
      "tocheck = 7 ; dict = {'data': [3], 'runlen': []}\n",
      "tocheck = 1 ; dict = {'data': [3], 'runlen': [7]}\n",
      "tocheck = 10 ; dict = {'data': [1], 'runlen': []}\n",
      "tocheck = 3 ; dict = {'data': [1], 'runlen': [10]}\n",
      "tocheck = 53 ; dict = {'data': [3], 'runlen': []}\n",
      "tocheck = 1 ; dict = {'data': [3], 'runlen': [53]}\n",
      "tocheck = 8 ; dict = {'data': [1], 'runlen': []}\n",
      "tocheck = 3 ; dict = {'data': [1], 'runlen': [8]}\n",
      "tocheck = 24 ; dict = {'data': [3], 'runlen': []}\n",
      "tocheck = 1 ; dict = {'data': [3], 'runlen': [24]}\n",
      "tocheck = 57 ; dict = {'data': [1], 'runlen': []}\n",
      "tocheck = 3 ; dict = {'data': [1], 'runlen': [57]}\n",
      "tocheck = 1 ; dict = {'data': [3], 'runlen': []}\n",
      "tocheck = 105 ; dict = {'data': [1], 'runlen': []}\n",
      "tocheck = 6 ; dict = {'data': [1], 'runlen': [105]}\n",
      "tocheck = 3 ; dict = {'data': [1], 'runlen': [105, 6]}\n",
      "tocheck = 6 ; dict = {'data': [3], 'runlen': []}\n",
      "tocheck = 1 ; dict = {'data': [3], 'runlen': [6]}\n",
      "tocheck = 8 ; dict = {'data': [1], 'runlen': []}\n",
      "tocheck = 3 ; dict = {'data': [1], 'runlen': [8]}\n",
      "tocheck = 1 ; dict = {'data': [3], 'runlen': []}\n",
      "tocheck = 9 ; dict = {'data': [1], 'runlen': []}\n",
      "tocheck = 3 ; dict = {'data': [1], 'runlen': [9]}\n",
      "tocheck = 15 ; dict = {'data': [3], 'runlen': []}\n",
      "tocheck = 1 ; dict = {'data': [3], 'runlen': [15]}\n",
      "tocheck = 18 ; dict = {'data': [1], 'runlen': []}\n",
      "tocheck = 3 ; dict = {'data': [1], 'runlen': [18]}\n",
      "tocheck = 11 ; dict = {'data': [3], 'runlen': []}\n",
      "tocheck = 1 ; dict = {'data': [3], 'runlen': [11]}\n",
      "tocheck = 6 ; dict = {'data': [1], 'runlen': []}\n",
      "tocheck = 3 ; dict = {'data': [1], 'runlen': [6]}\n",
      "tocheck = 1 ; dict = {'data': [3], 'runlen': []}\n",
      "tocheck = 3 ; dict = {'data': [1], 'runlen': []}\n",
      "tocheck = 40 ; dict = {'data': [3], 'runlen': []}\n",
      "tocheck = 1 ; dict = {'data': [3], 'runlen': [40]}\n",
      "tocheck = 6 ; dict = {'data': [1], 'runlen': []}\n",
      "tocheck = 3 ; dict = {'data': [1], 'runlen': [6]}\n",
      "tocheck = 23 ; dict = {'data': [3], 'runlen': []}\n",
      "tocheck = 1 ; dict = {'data': [3], 'runlen': [23]}\n",
      "tocheck = 58 ; dict = {'data': [1], 'runlen': []}\n",
      "tocheck = 3 ; dict = {'data': [1], 'runlen': [58]}\n",
      "tocheck = 6 ; dict = {'data': [3], 'runlen': []}\n",
      "tocheck = 1 ; dict = {'data': [3], 'runlen': [6]}\n",
      "tocheck = 104 ; dict = {'data': [1], 'runlen': []}\n",
      "tocheck = 6 ; dict = {'data': [1], 'runlen': [104]}\n",
      "tocheck = 3 ; dict = {'data': [1], 'runlen': [104, 6]}\n",
      "tocheck = 7 ; dict = {'data': [3], 'runlen': []}\n",
      "tocheck = 1 ; dict = {'data': [3], 'runlen': [7]}\n",
      "tocheck = 14 ; dict = {'data': [1], 'runlen': []}\n",
      "tocheck = 3 ; dict = {'data': [1], 'runlen': [14]}\n",
      "tocheck = 14 ; dict = {'data': [3], 'runlen': []}\n",
      "tocheck = 1 ; dict = {'data': [3], 'runlen': [14]}\n",
      "tocheck = 19 ; dict = {'data': [1], 'runlen': []}\n",
      "tocheck = 3 ; dict = {'data': [1], 'runlen': [19]}\n",
      "tocheck = 11 ; dict = {'data': [3], 'runlen': []}\n",
      "tocheck = 1 ; dict = {'data': [3], 'runlen': [11]}\n",
      "tocheck = 3 ; dict = {'data': [1], 'runlen': []}\n",
      "tocheck = 1 ; dict = {'data': [3], 'runlen': []}\n",
      "tocheck = 6 ; dict = {'data': [1], 'runlen': []}\n",
      "tocheck = 3 ; dict = {'data': [1], 'runlen': [6]}\n",
      "tocheck = 39 ; dict = {'data': [3], 'runlen': []}\n",
      "tocheck = 1 ; dict = {'data': [3], 'runlen': [39]}\n",
      "tocheck = 8 ; dict = {'data': [1], 'runlen': []}\n",
      "tocheck = 3 ; dict = {'data': [1], 'runlen': [8]}\n",
      "tocheck = 20 ; dict = {'data': [3], 'runlen': []}\n",
      "tocheck = 1 ; dict = {'data': [3], 'runlen': [20]}\n",
      "tocheck = 161 ; dict = {'data': [1], 'runlen': []}\n",
      "tocheck = 6 ; dict = {'data': [1], 'runlen': [161]}\n",
      "tocheck = 3 ; dict = {'data': [1], 'runlen': [161, 6]}\n",
      "tocheck = 7 ; dict = {'data': [3], 'runlen': []}\n",
      "tocheck = 1 ; dict = {'data': [3], 'runlen': [7]}\n",
      "tocheck = 12 ; dict = {'data': [1], 'runlen': []}\n",
      "tocheck = 3 ; dict = {'data': [1], 'runlen': [12]}\n",
      "tocheck = 16 ; dict = {'data': [3], 'runlen': []}\n",
      "tocheck = 1 ; dict = {'data': [3], 'runlen': [16]}\n",
      "tocheck = 17 ; dict = {'data': [1], 'runlen': []}\n",
      "tocheck = 3 ; dict = {'data': [1], 'runlen': [17]}\n",
      "tocheck = 7 ; dict = {'data': [3], 'runlen': []}\n",
      "tocheck = 1 ; dict = {'data': [3], 'runlen': [7]}\n",
      "tocheck = 3 ; dict = {'data': [1], 'runlen': []}\n",
      "tocheck = 7 ; dict = {'data': [3], 'runlen': []}\n",
      "tocheck = 1 ; dict = {'data': [3], 'runlen': [7]}\n",
      "tocheck = 10 ; dict = {'data': [1], 'runlen': []}\n",
      "tocheck = 3 ; dict = {'data': [1], 'runlen': [10]}\n",
      "tocheck = 36 ; dict = {'data': [3], 'runlen': []}\n",
      "tocheck = 1 ; dict = {'data': [3], 'runlen': [36]}\n",
      "tocheck = 12 ; dict = {'data': [1], 'runlen': []}\n",
      "tocheck = 3 ; dict = {'data': [1], 'runlen': [12]}\n",
      "tocheck = 18 ; dict = {'data': [3], 'runlen': []}\n",
      "tocheck = 1 ; dict = {'data': [3], 'runlen': [18]}\n",
      "tocheck = 162 ; dict = {'data': [1], 'runlen': []}\n",
      "tocheck = 6 ; dict = {'data': [1], 'runlen': [162]}\n",
      "tocheck = 3 ; dict = {'data': [1], 'runlen': [162, 6]}\n",
      "tocheck = 7 ; dict = {'data': [3], 'runlen': []}\n",
      "tocheck = 1 ; dict = {'data': [3], 'runlen': [7]}\n",
      "tocheck = 13 ; dict = {'data': [1], 'runlen': []}\n",
      "tocheck = 3 ; dict = {'data': [1], 'runlen': [13]}\n",
      "tocheck = 15 ; dict = {'data': [3], 'runlen': []}\n",
      "tocheck = 1 ; dict = {'data': [3], 'runlen': [15]}\n",
      "tocheck = 13 ; dict = {'data': [1], 'runlen': []}\n",
      "tocheck = 3 ; dict = {'data': [1], 'runlen': [13]}\n",
      "tocheck = 6 ; dict = {'data': [3], 'runlen': []}\n",
      "tocheck = 1 ; dict = {'data': [3], 'runlen': [6]}\n",
      "tocheck = 10 ; dict = {'data': [1], 'runlen': []}\n",
      "tocheck = 3 ; dict = {'data': [1], 'runlen': [10]}\n",
      "tocheck = 1 ; dict = {'data': [3], 'runlen': []}\n",
      "tocheck = 8 ; dict = {'data': [1], 'runlen': []}\n",
      "tocheck = 3 ; dict = {'data': [1], 'runlen': [8]}\n",
      "tocheck = 1 ; dict = {'data': [3], 'runlen': []}\n",
      "tocheck = 6 ; dict = {'data': [1], 'runlen': []}\n",
      "tocheck = 3 ; dict = {'data': [1], 'runlen': [6]}\n",
      "tocheck = 36 ; dict = {'data': [3], 'runlen': []}\n",
      "tocheck = 1 ; dict = {'data': [3], 'runlen': [36]}\n",
      "tocheck = 15 ; dict = {'data': [1], 'runlen': []}\n",
      "tocheck = 3 ; dict = {'data': [1], 'runlen': [15]}\n",
      "tocheck = 16 ; dict = {'data': [3], 'runlen': []}\n",
      "tocheck = 1 ; dict = {'data': [3], 'runlen': [16]}\n",
      "tocheck = 171 ; dict = {'data': [1], 'runlen': []}\n",
      "tocheck = 6 ; dict = {'data': [1], 'runlen': [171]}\n",
      "tocheck = 3 ; dict = {'data': [1], 'runlen': [171, 6]}\n",
      "tocheck = 19 ; dict = {'data': [3], 'runlen': []}\n",
      "tocheck = 1 ; dict = {'data': [3], 'runlen': [19]}\n",
      "tocheck = 9 ; dict = {'data': [1], 'runlen': []}\n",
      "tocheck = 3 ; dict = {'data': [1], 'runlen': [9]}\n",
      "tocheck = 8 ; dict = {'data': [3], 'runlen': []}\n",
      "tocheck = 1 ; dict = {'data': [3], 'runlen': [8]}\n",
      "tocheck = 18 ; dict = {'data': [1], 'runlen': []}\n",
      "tocheck = 3 ; dict = {'data': [1], 'runlen': [18]}\n",
      "tocheck = 36 ; dict = {'data': [3], 'runlen': []}\n",
      "tocheck = 1 ; dict = {'data': [3], 'runlen': [36]}\n",
      "tocheck = 16 ; dict = {'data': [1], 'runlen': []}\n",
      "tocheck = 3 ; dict = {'data': [1], 'runlen': [16]}\n",
      "tocheck = 15 ; dict = {'data': [3], 'runlen': []}\n",
      "tocheck = 1 ; dict = {'data': [3], 'runlen': [15]}\n",
      "tocheck = 166 ; dict = {'data': [1], 'runlen': []}\n",
      "tocheck = 6 ; dict = {'data': [1], 'runlen': [166]}\n",
      "tocheck = 3 ; dict = {'data': [1], 'runlen': [166, 6]}\n",
      "tocheck = 6 ; dict = {'data': [3], 'runlen': []}\n",
      "tocheck = 1 ; dict = {'data': [3], 'runlen': [6]}\n",
      "tocheck = 7 ; dict = {'data': [1], 'runlen': []}\n",
      "tocheck = 3 ; dict = {'data': [1], 'runlen': [7]}\n",
      "tocheck = 23 ; dict = {'data': [3], 'runlen': []}\n",
      "tocheck = 1 ; dict = {'data': [3], 'runlen': [23]}\n",
      "tocheck = 3 ; dict = {'data': [1], 'runlen': []}\n",
      "tocheck = 10 ; dict = {'data': [3], 'runlen': []}\n",
      "tocheck = 1 ; dict = {'data': [3], 'runlen': [10]}\n",
      "tocheck = 15 ; dict = {'data': [1], 'runlen': []}\n",
      "tocheck = 3 ; dict = {'data': [1], 'runlen': [15]}\n",
      "tocheck = 38 ; dict = {'data': [3], 'runlen': []}\n",
      "tocheck = 1 ; dict = {'data': [3], 'runlen': [38]}\n",
      "tocheck = 17 ; dict = {'data': [1], 'runlen': []}\n",
      "tocheck = 3 ; dict = {'data': [1], 'runlen': [17]}\n",
      "tocheck = 14 ; dict = {'data': [3], 'runlen': []}\n",
      "tocheck = 1 ; dict = {'data': [3], 'runlen': [14]}\n",
      "tocheck = 164 ; dict = {'data': [1], 'runlen': []}\n",
      "tocheck = 6 ; dict = {'data': [1], 'runlen': [164]}\n",
      "tocheck = 3 ; dict = {'data': [1], 'runlen': [164, 6]}\n",
      "tocheck = 8 ; dict = {'data': [3], 'runlen': []}\n",
      "tocheck = 1 ; dict = {'data': [3], 'runlen': [8]}\n",
      "tocheck = 3 ; dict = {'data': [1], 'runlen': []}\n",
      "tocheck = 32 ; dict = {'data': [3], 'runlen': []}\n",
      "tocheck = 1 ; dict = {'data': [3], 'runlen': [32]}\n",
      "tocheck = 14 ; dict = {'data': [1], 'runlen': []}\n",
      "tocheck = 3 ; dict = {'data': [1], 'runlen': [14]}\n",
      "tocheck = 36 ; dict = {'data': [3], 'runlen': []}\n",
      "tocheck = 1 ; dict = {'data': [3], 'runlen': [36]}\n",
      "tocheck = 20 ; dict = {'data': [1], 'runlen': []}\n",
      "tocheck = 3 ; dict = {'data': [1], 'runlen': [20]}\n",
      "tocheck = 14 ; dict = {'data': [3], 'runlen': []}\n",
      "tocheck = 1 ; dict = {'data': [3], 'runlen': [14]}\n",
      "tocheck = 161 ; dict = {'data': [1], 'runlen': []}\n",
      "tocheck = 6 ; dict = {'data': [1], 'runlen': [161]}\n",
      "tocheck = 3 ; dict = {'data': [1], 'runlen': [161, 6]}\n",
      "tocheck = 6 ; dict = {'data': [3], 'runlen': []}\n",
      "tocheck = 1 ; dict = {'data': [3], 'runlen': [6]}\n",
      "tocheck = 7 ; dict = {'data': [1], 'runlen': []}\n",
      "tocheck = 3 ; dict = {'data': [1], 'runlen': [7]}\n",
      "tocheck = 7 ; dict = {'data': [3], 'runlen': []}\n",
      "tocheck = 1 ; dict = {'data': [3], 'runlen': [7]}\n",
      "tocheck = 3 ; dict = {'data': [1], 'runlen': []}\n",
      "tocheck = 31 ; dict = {'data': [3], 'runlen': []}\n",
      "tocheck = 1 ; dict = {'data': [3], 'runlen': [31]}\n",
      "tocheck = 13 ; dict = {'data': [1], 'runlen': []}\n",
      "tocheck = 3 ; dict = {'data': [1], 'runlen': [13]}\n",
      "tocheck = 37 ; dict = {'data': [3], 'runlen': []}\n",
      "tocheck = 1 ; dict = {'data': [3], 'runlen': [37]}\n",
      "tocheck = 21 ; dict = {'data': [1], 'runlen': []}\n",
      "tocheck = 3 ; dict = {'data': [1], 'runlen': [21]}\n",
      "tocheck = 12 ; dict = {'data': [3], 'runlen': []}\n",
      "tocheck = 1 ; dict = {'data': [3], 'runlen': [12]}\n",
      "tocheck = 161 ; dict = {'data': [1], 'runlen': []}\n",
      "tocheck = 6 ; dict = {'data': [1], 'runlen': [161]}\n",
      "tocheck = 3 ; dict = {'data': [1], 'runlen': [161, 6]}\n",
      "tocheck = 7 ; dict = {'data': [3], 'runlen': []}\n",
      "tocheck = 1 ; dict = {'data': [3], 'runlen': [7]}\n",
      "tocheck = 3 ; dict = {'data': [1], 'runlen': []}\n",
      "tocheck = 37 ; dict = {'data': [3], 'runlen': []}\n",
      "tocheck = 1 ; dict = {'data': [3], 'runlen': [37]}\n",
      "tocheck = 11 ; dict = {'data': [1], 'runlen': []}\n",
      "tocheck = 3 ; dict = {'data': [1], 'runlen': [11]}\n",
      "tocheck = 27 ; dict = {'data': [3], 'runlen': []}\n",
      "tocheck = 1 ; dict = {'data': [3], 'runlen': [27]}\n",
      "tocheck = 8 ; dict = {'data': [1], 'runlen': []}\n",
      "tocheck = 3 ; dict = {'data': [1], 'runlen': [8]}\n",
      "tocheck = 11 ; dict = {'data': [3], 'runlen': []}\n",
      "tocheck = 1 ; dict = {'data': [3], 'runlen': [11]}\n",
      "tocheck = 24 ; dict = {'data': [1], 'runlen': []}\n",
      "tocheck = 3 ; dict = {'data': [1], 'runlen': [24]}\n",
      "tocheck = 9 ; dict = {'data': [3], 'runlen': []}\n",
      "tocheck = 1 ; dict = {'data': [3], 'runlen': [9]}\n",
      "tocheck = 161 ; dict = {'data': [1], 'runlen': []}\n",
      "tocheck = 6 ; dict = {'data': [1], 'runlen': [161]}\n",
      "tocheck = 3 ; dict = {'data': [1], 'runlen': [161, 6]}\n",
      "tocheck = 1 ; dict = {'data': [3], 'runlen': []}\n",
      "tocheck = 3 ; dict = {'data': [1], 'runlen': []}\n",
      "tocheck = 1 ; dict = {'data': [3], 'runlen': []}\n",
      "tocheck = 3 ; dict = {'data': [1], 'runlen': []}\n",
      "tocheck = 38 ; dict = {'data': [3], 'runlen': []}\n",
      "tocheck = 1 ; dict = {'data': [3], 'runlen': [38]}\n",
      "tocheck = 9 ; dict = {'data': [1], 'runlen': []}\n",
      "tocheck = 3 ; dict = {'data': [1], 'runlen': [9]}\n",
      "tocheck = 8 ; dict = {'data': [3], 'runlen': []}\n",
      "tocheck = 1 ; dict = {'data': [3], 'runlen': [8]}\n",
      "tocheck = 3 ; dict = {'data': [1], 'runlen': []}\n",
      "tocheck = 22 ; dict = {'data': [3], 'runlen': []}\n",
      "tocheck = 1 ; dict = {'data': [3], 'runlen': [22]}\n",
      "tocheck = 11 ; dict = {'data': [1], 'runlen': []}\n",
      "tocheck = 3 ; dict = {'data': [1], 'runlen': [11]}\n",
      "tocheck = 9 ; dict = {'data': [3], 'runlen': []}\n",
      "tocheck = 1 ; dict = {'data': [3], 'runlen': [9]}\n",
      "tocheck = 28 ; dict = {'data': [1], 'runlen': []}\n",
      "tocheck = 3 ; dict = {'data': [1], 'runlen': [28]}\n",
      "tocheck = 6 ; dict = {'data': [3], 'runlen': []}\n",
      "tocheck = 1 ; dict = {'data': [3], 'runlen': [6]}\n",
      "tocheck = 161 ; dict = {'data': [1], 'runlen': []}\n",
      "tocheck = 6 ; dict = {'data': [1], 'runlen': [161]}\n",
      "tocheck = 3 ; dict = {'data': [1], 'runlen': [161, 6]}\n",
      "tocheck = 41 ; dict = {'data': [3], 'runlen': []}\n",
      "tocheck = 1 ; dict = {'data': [3], 'runlen': [41]}\n",
      "tocheck = 9 ; dict = {'data': [1], 'runlen': []}\n",
      "tocheck = 3 ; dict = {'data': [1], 'runlen': [9]}\n",
      "tocheck = 7 ; dict = {'data': [3], 'runlen': []}\n",
      "tocheck = 1 ; dict = {'data': [3], 'runlen': [7]}\n",
      "tocheck = 6 ; dict = {'data': [1], 'runlen': []}\n",
      "tocheck = 3 ; dict = {'data': [1], 'runlen': [6]}\n",
      "tocheck = 22 ; dict = {'data': [3], 'runlen': []}\n",
      "tocheck = 1 ; dict = {'data': [3], 'runlen': [22]}\n",
      "tocheck = 13 ; dict = {'data': [1], 'runlen': []}\n",
      "tocheck = 3 ; dict = {'data': [1], 'runlen': [13]}\n",
      "tocheck = 8 ; dict = {'data': [3], 'runlen': []}\n",
      "tocheck = 1 ; dict = {'data': [3], 'runlen': [8]}\n",
      "tocheck = 182 ; dict = {'data': [1], 'runlen': []}\n",
      "tocheck = 6 ; dict = {'data': [1], 'runlen': [182]}\n",
      "tocheck = 3 ; dict = {'data': [1], 'runlen': [182, 6]}\n",
      "tocheck = 6 ; dict = {'data': [3], 'runlen': []}\n",
      "tocheck = 1 ; dict = {'data': [3], 'runlen': [6]}\n",
      "tocheck = 7 ; dict = {'data': [1], 'runlen': []}\n",
      "tocheck = 3 ; dict = {'data': [1], 'runlen': [7]}\n",
      "tocheck = 40 ; dict = {'data': [3], 'runlen': []}\n",
      "tocheck = 1 ; dict = {'data': [3], 'runlen': [40]}\n",
      "tocheck = 10 ; dict = {'data': [1], 'runlen': []}\n",
      "tocheck = 3 ; dict = {'data': [1], 'runlen': [10]}\n",
      "tocheck = 1 ; dict = {'data': [3], 'runlen': []}\n",
      "tocheck = 8 ; dict = {'data': [1], 'runlen': []}\n",
      "tocheck = 3 ; dict = {'data': [1], 'runlen': [8]}\n",
      "tocheck = 20 ; dict = {'data': [3], 'runlen': []}\n",
      "tocheck = 1 ; dict = {'data': [3], 'runlen': [20]}\n",
      "tocheck = 16 ; dict = {'data': [1], 'runlen': []}\n",
      "tocheck = 3 ; dict = {'data': [1], 'runlen': [16]}\n",
      "tocheck = 7 ; dict = {'data': [3], 'runlen': []}\n",
      "tocheck = 1 ; dict = {'data': [3], 'runlen': [7]}\n",
      "tocheck = 181 ; dict = {'data': [1], 'runlen': []}\n",
      "tocheck = 6 ; dict = {'data': [1], 'runlen': [181]}\n",
      "tocheck = 3 ; dict = {'data': [1], 'runlen': [181, 6]}\n",
      "tocheck = 7 ; dict = {'data': [3], 'runlen': []}\n",
      "tocheck = 1 ; dict = {'data': [3], 'runlen': [7]}\n",
      "tocheck = 7 ; dict = {'data': [1], 'runlen': []}\n",
      "tocheck = 3 ; dict = {'data': [1], 'runlen': [7]}\n",
      "tocheck = 46 ; dict = {'data': [3], 'runlen': []}\n",
      "tocheck = 1 ; dict = {'data': [3], 'runlen': [46]}\n",
      "tocheck = 11 ; dict = {'data': [1], 'runlen': []}\n",
      "tocheck = 3 ; dict = {'data': [1], 'runlen': [11]}\n",
      "tocheck = 18 ; dict = {'data': [3], 'runlen': []}\n",
      "tocheck = 1 ; dict = {'data': [3], 'runlen': [18]}\n",
      "tocheck = 16 ; dict = {'data': [1], 'runlen': []}\n",
      "tocheck = 3 ; dict = {'data': [1], 'runlen': [16]}\n",
      "tocheck = 7 ; dict = {'data': [3], 'runlen': []}\n",
      "tocheck = 1 ; dict = {'data': [3], 'runlen': [7]}\n",
      "tocheck = 181 ; dict = {'data': [1], 'runlen': []}\n",
      "tocheck = 6 ; dict = {'data': [1], 'runlen': [181]}\n",
      "tocheck = 3 ; dict = {'data': [1], 'runlen': [181, 6]}\n",
      "tocheck = 7 ; dict = {'data': [3], 'runlen': []}\n",
      "tocheck = 1 ; dict = {'data': [3], 'runlen': [7]}\n",
      "tocheck = 6 ; dict = {'data': [1], 'runlen': []}\n",
      "tocheck = 3 ; dict = {'data': [1], 'runlen': [6]}\n",
      "tocheck = 46 ; dict = {'data': [3], 'runlen': []}\n",
      "tocheck = 1 ; dict = {'data': [3], 'runlen': [46]}\n",
      "tocheck = 10 ; dict = {'data': [1], 'runlen': []}\n",
      "tocheck = 3 ; dict = {'data': [1], 'runlen': [10]}\n",
      "tocheck = 20 ; dict = {'data': [3], 'runlen': []}\n",
      "tocheck = 1 ; dict = {'data': [3], 'runlen': [20]}\n",
      "tocheck = 17 ; dict = {'data': [1], 'runlen': []}\n",
      "tocheck = 3 ; dict = {'data': [1], 'runlen': [17]}\n",
      "tocheck = 1 ; dict = {'data': [3], 'runlen': []}\n",
      "tocheck = 181 ; dict = {'data': [1], 'runlen': []}\n",
      "tocheck = 6 ; dict = {'data': [1], 'runlen': [181]}\n",
      "tocheck = 3 ; dict = {'data': [1], 'runlen': [181, 6]}\n",
      "tocheck = 8 ; dict = {'data': [3], 'runlen': []}\n",
      "tocheck = 1 ; dict = {'data': [3], 'runlen': [8]}\n",
      "tocheck = 6 ; dict = {'data': [1], 'runlen': []}\n",
      "tocheck = 3 ; dict = {'data': [1], 'runlen': [6]}\n",
      "tocheck = 45 ; dict = {'data': [3], 'runlen': []}\n",
      "tocheck = 1 ; dict = {'data': [3], 'runlen': [45]}\n",
      "tocheck = 3 ; dict = {'data': [1], 'runlen': []}\n",
      "tocheck = 1 ; dict = {'data': [3], 'runlen': []}\n",
      "tocheck = 8 ; dict = {'data': [1], 'runlen': []}\n",
      "tocheck = 3 ; dict = {'data': [1], 'runlen': [8]}\n",
      "tocheck = 20 ; dict = {'data': [3], 'runlen': []}\n",
      "tocheck = 1 ; dict = {'data': [3], 'runlen': [20]}\n",
      "tocheck = 107 ; dict = {'data': [1], 'runlen': []}\n",
      "tocheck = 3 ; dict = {'data': [1], 'runlen': [107]}\n",
      "tocheck = 6 ; dict = {'data': [3], 'runlen': []}\n",
      "tocheck = 1 ; dict = {'data': [3], 'runlen': [6]}\n",
      "tocheck = 93 ; dict = {'data': [1], 'runlen': []}\n",
      "tocheck = 6 ; dict = {'data': [1], 'runlen': [93]}\n",
      "tocheck = 3 ; dict = {'data': [1], 'runlen': [93, 6]}\n",
      "tocheck = 1 ; dict = {'data': [3], 'runlen': []}\n",
      "tocheck = 10 ; dict = {'data': [1], 'runlen': []}\n",
      "tocheck = 3 ; dict = {'data': [1], 'runlen': [10]}\n",
      "tocheck = 1 ; dict = {'data': [3], 'runlen': []}\n",
      "tocheck = 3 ; dict = {'data': [1], 'runlen': []}\n",
      "tocheck = 41 ; dict = {'data': [3], 'runlen': []}\n",
      "tocheck = 1 ; dict = {'data': [3], 'runlen': [41]}\n",
      "tocheck = 3 ; dict = {'data': [1], 'runlen': []}\n",
      "tocheck = 1 ; dict = {'data': [3], 'runlen': []}\n",
      "tocheck = 7 ; dict = {'data': [1], 'runlen': []}\n",
      "tocheck = 3 ; dict = {'data': [1], 'runlen': [7]}\n",
      "tocheck = 20 ; dict = {'data': [3], 'runlen': []}\n",
      "tocheck = 1 ; dict = {'data': [3], 'runlen': [20]}\n",
      "tocheck = 106 ; dict = {'data': [1], 'runlen': []}\n",
      "tocheck = 3 ; dict = {'data': [1], 'runlen': [106]}\n",
      "tocheck = 8 ; dict = {'data': [3], 'runlen': []}\n",
      "tocheck = 1 ; dict = {'data': [3], 'runlen': [8]}\n",
      "tocheck = 92 ; dict = {'data': [1], 'runlen': []}\n",
      "tocheck = 6 ; dict = {'data': [1], 'runlen': [92]}\n",
      "tocheck = 3 ; dict = {'data': [1], 'runlen': [92, 6]}\n",
      "tocheck = 1 ; dict = {'data': [3], 'runlen': []}\n",
      "tocheck = 11 ; dict = {'data': [1], 'runlen': []}\n",
      "tocheck = 3 ; dict = {'data': [1], 'runlen': [11]}\n",
      "tocheck = 14 ; dict = {'data': [3], 'runlen': []}\n",
      "tocheck = 1 ; dict = {'data': [3], 'runlen': [14]}\n",
      "tocheck = 7 ; dict = {'data': [1], 'runlen': []}\n",
      "tocheck = 3 ; dict = {'data': [1], 'runlen': [7]}\n",
      "tocheck = 31 ; dict = {'data': [3], 'runlen': []}\n",
      "tocheck = 1 ; dict = {'data': [3], 'runlen': [31]}\n",
      "tocheck = 9 ; dict = {'data': [1], 'runlen': []}\n",
      "tocheck = 3 ; dict = {'data': [1], 'runlen': [9]}\n",
      "tocheck = 17 ; dict = {'data': [3], 'runlen': []}\n",
      "tocheck = 1 ; dict = {'data': [3], 'runlen': [17]}\n",
      "tocheck = 109 ; dict = {'data': [1], 'runlen': []}\n",
      "tocheck = 3 ; dict = {'data': [1], 'runlen': [109]}\n",
      "tocheck = 6 ; dict = {'data': [3], 'runlen': []}\n",
      "tocheck = 1 ; dict = {'data': [3], 'runlen': [6]}\n",
      "tocheck = 91 ; dict = {'data': [1], 'runlen': []}\n",
      "tocheck = 6 ; dict = {'data': [1], 'runlen': [91]}\n",
      "tocheck = 3 ; dict = {'data': [1], 'runlen': [91, 6]}\n",
      "tocheck = 10 ; dict = {'data': [3], 'runlen': []}\n",
      "tocheck = 1 ; dict = {'data': [3], 'runlen': [10]}\n",
      "tocheck = 6 ; dict = {'data': [1], 'runlen': []}\n",
      "tocheck = 3 ; dict = {'data': [1], 'runlen': [6]}\n",
      "tocheck = 16 ; dict = {'data': [3], 'runlen': []}\n",
      "tocheck = 1 ; dict = {'data': [3], 'runlen': [16]}\n",
      "tocheck = 6 ; dict = {'data': [1], 'runlen': []}\n",
      "tocheck = 3 ; dict = {'data': [1], 'runlen': [6]}\n",
      "tocheck = 30 ; dict = {'data': [3], 'runlen': []}\n",
      "tocheck = 1 ; dict = {'data': [3], 'runlen': [30]}\n",
      "tocheck = 10 ; dict = {'data': [1], 'runlen': []}\n",
      "tocheck = 3 ; dict = {'data': [1], 'runlen': [10]}\n",
      "tocheck = 16 ; dict = {'data': [3], 'runlen': []}\n",
      "tocheck = 1 ; dict = {'data': [3], 'runlen': [16]}\n",
      "tocheck = 111 ; dict = {'data': [1], 'runlen': []}\n",
      "tocheck = 3 ; dict = {'data': [1], 'runlen': [111]}\n",
      "tocheck = 1 ; dict = {'data': [3], 'runlen': []}\n",
      "tocheck = 90 ; dict = {'data': [1], 'runlen': []}\n",
      "tocheck = 6 ; dict = {'data': [1], 'runlen': [90]}\n",
      "tocheck = 3 ; dict = {'data': [1], 'runlen': [90, 6]}\n",
      "tocheck = 11 ; dict = {'data': [3], 'runlen': []}\n",
      "tocheck = 1 ; dict = {'data': [3], 'runlen': [11]}\n",
      "tocheck = 8 ; dict = {'data': [1], 'runlen': []}\n",
      "tocheck = 3 ; dict = {'data': [1], 'runlen': [8]}\n",
      "tocheck = 14 ; dict = {'data': [3], 'runlen': []}\n",
      "tocheck = 1 ; dict = {'data': [3], 'runlen': [14]}\n",
      "tocheck = 6 ; dict = {'data': [1], 'runlen': []}\n",
      "tocheck = 3 ; dict = {'data': [1], 'runlen': [6]}\n",
      "tocheck = 32 ; dict = {'data': [3], 'runlen': []}\n",
      "tocheck = 1 ; dict = {'data': [3], 'runlen': [32]}\n",
      "tocheck = 9 ; dict = {'data': [1], 'runlen': []}\n",
      "tocheck = 3 ; dict = {'data': [1], 'runlen': [9]}\n",
      "tocheck = 14 ; dict = {'data': [3], 'runlen': []}\n",
      "tocheck = 1 ; dict = {'data': [3], 'runlen': [14]}\n",
      "tocheck = 198 ; dict = {'data': [1], 'runlen': []}\n",
      "tocheck = 6 ; dict = {'data': [1], 'runlen': [198]}\n",
      "tocheck = 3 ; dict = {'data': [1], 'runlen': [198, 6]}\n",
      "tocheck = 10 ; dict = {'data': [3], 'runlen': []}\n",
      "tocheck = 1 ; dict = {'data': [3], 'runlen': [10]}\n",
      "tocheck = 9 ; dict = {'data': [1], 'runlen': []}\n",
      "tocheck = 3 ; dict = {'data': [1], 'runlen': [9]}\n",
      "tocheck = 15 ; dict = {'data': [3], 'runlen': []}\n",
      "tocheck = 1 ; dict = {'data': [3], 'runlen': [15]}\n",
      "tocheck = 6 ; dict = {'data': [1], 'runlen': []}\n",
      "tocheck = 3 ; dict = {'data': [1], 'runlen': [6]}\n",
      "tocheck = 32 ; dict = {'data': [3], 'runlen': []}\n",
      "tocheck = 1 ; dict = {'data': [3], 'runlen': [32]}\n",
      "tocheck = 8 ; dict = {'data': [1], 'runlen': []}\n",
      "tocheck = 3 ; dict = {'data': [1], 'runlen': [8]}\n",
      "tocheck = 15 ; dict = {'data': [3], 'runlen': []}\n",
      "tocheck = 1 ; dict = {'data': [3], 'runlen': [15]}\n",
      "tocheck = 198 ; dict = {'data': [1], 'runlen': []}\n",
      "tocheck = 6 ; dict = {'data': [1], 'runlen': [198]}\n",
      "tocheck = 3 ; dict = {'data': [1], 'runlen': [198, 6]}\n",
      "tocheck = 8 ; dict = {'data': [3], 'runlen': []}\n",
      "tocheck = 1 ; dict = {'data': [3], 'runlen': [8]}\n",
      "tocheck = 11 ; dict = {'data': [1], 'runlen': []}\n",
      "tocheck = 3 ; dict = {'data': [1], 'runlen': [11]}\n",
      "tocheck = 17 ; dict = {'data': [3], 'runlen': []}\n",
      "tocheck = 1 ; dict = {'data': [3], 'runlen': [17]}\n",
      "tocheck = 3 ; dict = {'data': [1], 'runlen': []}\n",
      "tocheck = 30 ; dict = {'data': [3], 'runlen': []}\n",
      "tocheck = 1 ; dict = {'data': [3], 'runlen': [30]}\n",
      "tocheck = 10 ; dict = {'data': [1], 'runlen': []}\n",
      "tocheck = 3 ; dict = {'data': [1], 'runlen': [10]}\n",
      "tocheck = 1 ; dict = {'data': [3], 'runlen': []}\n",
      "tocheck = 6 ; dict = {'data': [1], 'runlen': []}\n",
      "tocheck = 3 ; dict = {'data': [1], 'runlen': [6]}\n",
      "tocheck = 11 ; dict = {'data': [3], 'runlen': []}\n",
      "tocheck = 1 ; dict = {'data': [3], 'runlen': [11]}\n",
      "tocheck = 194 ; dict = {'data': [1], 'runlen': []}\n",
      "tocheck = 6 ; dict = {'data': [1], 'runlen': [194]}\n",
      "tocheck = 3 ; dict = {'data': [1], 'runlen': [194, 6]}\n",
      "tocheck = 1 ; dict = {'data': [3], 'runlen': []}\n",
      "tocheck = 6 ; dict = {'data': [1], 'runlen': []}\n",
      "tocheck = 3 ; dict = {'data': [1], 'runlen': [6]}\n",
      "tocheck = 9 ; dict = {'data': [3], 'runlen': []}\n",
      "tocheck = 1 ; dict = {'data': [3], 'runlen': [9]}\n",
      "tocheck = 13 ; dict = {'data': [1], 'runlen': []}\n",
      "tocheck = 3 ; dict = {'data': [1], 'runlen': [13]}\n",
      "tocheck = 15 ; dict = {'data': [3], 'runlen': []}\n",
      "tocheck = 1 ; dict = {'data': [3], 'runlen': [15]}\n",
      "tocheck = 6 ; dict = {'data': [1], 'runlen': []}\n",
      "tocheck = 3 ; dict = {'data': [1], 'runlen': [6]}\n",
      "tocheck = 29 ; dict = {'data': [3], 'runlen': []}\n",
      "tocheck = 1 ; dict = {'data': [3], 'runlen': [29]}\n",
      "tocheck = 10 ; dict = {'data': [1], 'runlen': []}\n",
      "tocheck = 3 ; dict = {'data': [1], 'runlen': [10]}\n",
      "tocheck = 1 ; dict = {'data': [3], 'runlen': []}\n",
      "tocheck = 6 ; dict = {'data': [1], 'runlen': []}\n",
      "tocheck = 3 ; dict = {'data': [1], 'runlen': [6]}\n",
      "tocheck = 10 ; dict = {'data': [3], 'runlen': []}\n",
      "tocheck = 1 ; dict = {'data': [3], 'runlen': [10]}\n",
      "tocheck = 195 ; dict = {'data': [1], 'runlen': []}\n",
      "tocheck = 6 ; dict = {'data': [1], 'runlen': [195]}\n",
      "tocheck = 3 ; dict = {'data': [1], 'runlen': [195, 6]}\n",
      "tocheck = 11 ; dict = {'data': [3], 'runlen': []}\n",
      "tocheck = 1 ; dict = {'data': [3], 'runlen': [11]}\n",
      "tocheck = 15 ; dict = {'data': [1], 'runlen': []}\n",
      "tocheck = 3 ; dict = {'data': [1], 'runlen': [15]}\n",
      "tocheck = 15 ; dict = {'data': [3], 'runlen': []}\n",
      "tocheck = 1 ; dict = {'data': [3], 'runlen': [15]}\n",
      "tocheck = 6 ; dict = {'data': [1], 'runlen': []}\n",
      "tocheck = 3 ; dict = {'data': [1], 'runlen': [6]}\n",
      "tocheck = 27 ; dict = {'data': [3], 'runlen': []}\n",
      "tocheck = 1 ; dict = {'data': [3], 'runlen': [27]}\n",
      "tocheck = 11 ; dict = {'data': [1], 'runlen': []}\n",
      "tocheck = 3 ; dict = {'data': [1], 'runlen': [11]}\n",
      "tocheck = 14 ; dict = {'data': [3], 'runlen': []}\n",
      "tocheck = 1 ; dict = {'data': [3], 'runlen': [14]}\n",
      "tocheck = 193 ; dict = {'data': [1], 'runlen': []}\n",
      "tocheck = 6 ; dict = {'data': [1], 'runlen': [193]}\n",
      "tocheck = 3 ; dict = {'data': [1], 'runlen': [193, 6]}\n",
      "tocheck = 12 ; dict = {'data': [3], 'runlen': []}\n",
      "tocheck = 1 ; dict = {'data': [3], 'runlen': [12]}\n",
      "tocheck = 15 ; dict = {'data': [1], 'runlen': []}\n",
      "tocheck = 3 ; dict = {'data': [1], 'runlen': [15]}\n",
      "tocheck = 8 ; dict = {'data': [3], 'runlen': []}\n"
     ]
    },
    {
     "name": "stdout",
     "output_type": "stream",
     "text": [
      "tocheck = 1 ; dict = {'data': [3], 'runlen': [8]}\n",
      "tocheck = 6 ; dict = {'data': [1], 'runlen': []}\n",
      "tocheck = 3 ; dict = {'data': [1], 'runlen': [6]}\n",
      "tocheck = 9 ; dict = {'data': [3], 'runlen': []}\n",
      "tocheck = 1 ; dict = {'data': [3], 'runlen': [9]}\n",
      "tocheck = 6 ; dict = {'data': [1], 'runlen': []}\n",
      "tocheck = 3 ; dict = {'data': [1], 'runlen': [6]}\n",
      "tocheck = 26 ; dict = {'data': [3], 'runlen': []}\n",
      "tocheck = 1 ; dict = {'data': [3], 'runlen': [26]}\n",
      "tocheck = 13 ; dict = {'data': [1], 'runlen': []}\n",
      "tocheck = 3 ; dict = {'data': [1], 'runlen': [13]}\n",
      "tocheck = 6 ; dict = {'data': [3], 'runlen': []}\n",
      "tocheck = 1 ; dict = {'data': [3], 'runlen': [6]}\n",
      "tocheck = 6 ; dict = {'data': [1], 'runlen': []}\n",
      "tocheck = 3 ; dict = {'data': [1], 'runlen': [6]}\n",
      "tocheck = 1 ; dict = {'data': [3], 'runlen': []}\n",
      "tocheck = 6 ; dict = {'data': [1], 'runlen': []}\n",
      "tocheck = 3 ; dict = {'data': [1], 'runlen': [6]}\n",
      "tocheck = 6 ; dict = {'data': [3], 'runlen': []}\n",
      "tocheck = 1 ; dict = {'data': [3], 'runlen': [6]}\n",
      "tocheck = 193 ; dict = {'data': [1], 'runlen': []}\n",
      "tocheck = 6 ; dict = {'data': [1], 'runlen': [193]}\n",
      "tocheck = 3 ; dict = {'data': [1], 'runlen': [193, 6]}\n",
      "tocheck = 10 ; dict = {'data': [3], 'runlen': []}\n",
      "tocheck = 1 ; dict = {'data': [3], 'runlen': [10]}\n",
      "tocheck = 16 ; dict = {'data': [1], 'runlen': []}\n",
      "tocheck = 3 ; dict = {'data': [1], 'runlen': [16]}\n",
      "tocheck = 8 ; dict = {'data': [3], 'runlen': []}\n",
      "tocheck = 1 ; dict = {'data': [3], 'runlen': [8]}\n",
      "tocheck = 7 ; dict = {'data': [1], 'runlen': []}\n",
      "tocheck = 3 ; dict = {'data': [1], 'runlen': [7]}\n",
      "tocheck = 8 ; dict = {'data': [3], 'runlen': []}\n",
      "tocheck = 1 ; dict = {'data': [3], 'runlen': [8]}\n",
      "tocheck = 3 ; dict = {'data': [1], 'runlen': []}\n",
      "tocheck = 27 ; dict = {'data': [3], 'runlen': []}\n",
      "tocheck = 1 ; dict = {'data': [3], 'runlen': [27]}\n",
      "tocheck = 212 ; dict = {'data': [1], 'runlen': []}\n",
      "tocheck = 6 ; dict = {'data': [1], 'runlen': [212]}\n",
      "tocheck = 3 ; dict = {'data': [1], 'runlen': [212, 6]}\n",
      "tocheck = 10 ; dict = {'data': [3], 'runlen': []}\n",
      "tocheck = 1 ; dict = {'data': [3], 'runlen': [10]}\n",
      "tocheck = 17 ; dict = {'data': [1], 'runlen': []}\n",
      "tocheck = 3 ; dict = {'data': [1], 'runlen': [17]}\n",
      "tocheck = 6 ; dict = {'data': [3], 'runlen': []}\n",
      "tocheck = 1 ; dict = {'data': [3], 'runlen': [6]}\n",
      "tocheck = 8 ; dict = {'data': [1], 'runlen': []}\n",
      "tocheck = 3 ; dict = {'data': [1], 'runlen': [8]}\n",
      "tocheck = 31 ; dict = {'data': [3], 'runlen': []}\n",
      "tocheck = 1 ; dict = {'data': [3], 'runlen': [31]}\n",
      "tocheck = 214 ; dict = {'data': [1], 'runlen': []}\n",
      "tocheck = 6 ; dict = {'data': [1], 'runlen': [214]}\n",
      "tocheck = 3 ; dict = {'data': [1], 'runlen': [214, 6]}\n",
      "tocheck = 9 ; dict = {'data': [3], 'runlen': []}\n",
      "tocheck = 1 ; dict = {'data': [3], 'runlen': [9]}\n",
      "tocheck = 16 ; dict = {'data': [1], 'runlen': []}\n",
      "tocheck = 3 ; dict = {'data': [1], 'runlen': [16]}\n",
      "tocheck = 7 ; dict = {'data': [3], 'runlen': []}\n",
      "tocheck = 1 ; dict = {'data': [3], 'runlen': [7]}\n",
      "tocheck = 7 ; dict = {'data': [1], 'runlen': []}\n",
      "tocheck = 3 ; dict = {'data': [1], 'runlen': [7]}\n",
      "tocheck = 7 ; dict = {'data': [3], 'runlen': []}\n",
      "tocheck = 1 ; dict = {'data': [3], 'runlen': [7]}\n",
      "tocheck = 3 ; dict = {'data': [1], 'runlen': []}\n",
      "tocheck = 26 ; dict = {'data': [3], 'runlen': []}\n",
      "tocheck = 4 ; dict = {'data': [3], 'runlen': [26]}\n",
      "tocheck = 1 ; dict = {'data': [4], 'runlen': []}\n",
      "tocheck = 237 ; dict = {'data': [1], 'runlen': []}\n",
      "tocheck = 6 ; dict = {'data': [1], 'runlen': [237]}\n",
      "tocheck = 3 ; dict = {'data': [1], 'runlen': [237, 6]}\n",
      "tocheck = 32 ; dict = {'data': [3], 'runlen': []}\n",
      "tocheck = 1 ; dict = {'data': [3], 'runlen': [32]}\n",
      "tocheck = 237 ; dict = {'data': [1], 'runlen': []}\n",
      "tocheck = 6 ; dict = {'data': [1], 'runlen': [237]}\n",
      "tocheck = 3 ; dict = {'data': [1], 'runlen': [237, 6]}\n",
      "tocheck = 32 ; dict = {'data': [3], 'runlen': []}\n",
      "tocheck = 1 ; dict = {'data': [3], 'runlen': [32]}\n",
      "tocheck = 132 ; dict = {'data': [1], 'runlen': []}\n",
      "tocheck = 3 ; dict = {'data': [1], 'runlen': [132]}\n",
      "tocheck = 1 ; dict = {'data': [3], 'runlen': []}\n",
      "tocheck = 107 ; dict = {'data': [1], 'runlen': []}\n",
      "tocheck = 6 ; dict = {'data': [1], 'runlen': [107]}\n",
      "tocheck = 3 ; dict = {'data': [1], 'runlen': [107, 6]}\n",
      "tocheck = 12 ; dict = {'data': [3], 'runlen': []}\n",
      "tocheck = 1 ; dict = {'data': [3], 'runlen': [12]}\n",
      "tocheck = 3 ; dict = {'data': [1], 'runlen': []}\n",
      "tocheck = 24 ; dict = {'data': [3], 'runlen': []}\n",
      "tocheck = 1 ; dict = {'data': [3], 'runlen': [24]}\n",
      "tocheck = 132 ; dict = {'data': [1], 'runlen': []}\n",
      "tocheck = 3 ; dict = {'data': [1], 'runlen': [132]}\n",
      "tocheck = 1 ; dict = {'data': [3], 'runlen': []}\n",
      "tocheck = 107 ; dict = {'data': [1], 'runlen': []}\n",
      "tocheck = 6 ; dict = {'data': [1], 'runlen': [107]}\n",
      "tocheck = 3 ; dict = {'data': [1], 'runlen': [107, 6]}\n",
      "tocheck = 32 ; dict = {'data': [3], 'runlen': []}\n",
      "tocheck = 1 ; dict = {'data': [3], 'runlen': [32]}\n",
      "tocheck = 237 ; dict = {'data': [1], 'runlen': []}\n",
      "tocheck = 6 ; dict = {'data': [1], 'runlen': [237]}\n",
      "tocheck = 3 ; dict = {'data': [1], 'runlen': [237, 6]}\n",
      "tocheck = 11 ; dict = {'data': [3], 'runlen': []}\n",
      "tocheck = 1 ; dict = {'data': [3], 'runlen': [11]}\n",
      "tocheck = 3 ; dict = {'data': [1], 'runlen': []}\n",
      "tocheck = 21 ; dict = {'data': [3], 'runlen': []}\n",
      "tocheck = 4 ; dict = {'data': [3], 'runlen': [21]}\n",
      "tocheck = 3 ; dict = {'data': [4], 'runlen': []}\n",
      "tocheck = 6 ; dict = {'data': [3], 'runlen': []}\n",
      "tocheck = 1 ; dict = {'data': [3], 'runlen': [6]}\n",
      "tocheck = 237 ; dict = {'data': [1], 'runlen': []}\n",
      "tocheck = 6 ; dict = {'data': [1], 'runlen': [237]}\n",
      "tocheck = 3 ; dict = {'data': [1], 'runlen': [237, 6]}\n",
      "tocheck = 10 ; dict = {'data': [3], 'runlen': []}\n",
      "tocheck = 1 ; dict = {'data': [3], 'runlen': [10]}\n",
      "tocheck = 3 ; dict = {'data': [1], 'runlen': []}\n",
      "tocheck = 24 ; dict = {'data': [3], 'runlen': []}\n",
      "tocheck = 1 ; dict = {'data': [3], 'runlen': [24]}\n",
      "tocheck = 238 ; dict = {'data': [1], 'runlen': []}\n",
      "tocheck = 6 ; dict = {'data': [1], 'runlen': [238]}\n",
      "tocheck = 3 ; dict = {'data': [1], 'runlen': [238, 6]}\n",
      "tocheck = 9 ; dict = {'data': [3], 'runlen': []}\n",
      "tocheck = 1 ; dict = {'data': [3], 'runlen': [9]}\n",
      "tocheck = 3 ; dict = {'data': [1], 'runlen': []}\n",
      "tocheck = 25 ; dict = {'data': [3], 'runlen': []}\n",
      "tocheck = 1 ; dict = {'data': [3], 'runlen': [25]}\n",
      "tocheck = 238 ; dict = {'data': [1], 'runlen': []}\n",
      "tocheck = 6 ; dict = {'data': [1], 'runlen': [238]}\n",
      "tocheck = 3 ; dict = {'data': [1], 'runlen': [238, 6]}\n",
      "tocheck = 9 ; dict = {'data': [3], 'runlen': []}\n",
      "tocheck = 1 ; dict = {'data': [3], 'runlen': [9]}\n",
      "tocheck = 3 ; dict = {'data': [1], 'runlen': []}\n",
      "tocheck = 24 ; dict = {'data': [3], 'runlen': []}\n",
      "tocheck = 1 ; dict = {'data': [3], 'runlen': [24]}\n",
      "tocheck = 241 ; dict = {'data': [1], 'runlen': []}\n",
      "tocheck = 6 ; dict = {'data': [1], 'runlen': [241]}\n",
      "tocheck = 3 ; dict = {'data': [1], 'runlen': [241, 6]}\n",
      "tocheck = 28 ; dict = {'data': [3], 'runlen': []}\n",
      "tocheck = 1 ; dict = {'data': [3], 'runlen': [28]}\n",
      "tocheck = 242 ; dict = {'data': [1], 'runlen': []}\n",
      "tocheck = 6 ; dict = {'data': [1], 'runlen': [242]}\n",
      "tocheck = 3 ; dict = {'data': [1], 'runlen': [242, 6]}\n",
      "tocheck = 25 ; dict = {'data': [3], 'runlen': []}\n",
      "tocheck = 4 ; dict = {'data': [3], 'runlen': [25]}\n",
      "tocheck = 6 ; dict = {'data': [4], 'runlen': []}\n",
      "tocheck = 1 ; dict = {'data': [4], 'runlen': [6]}\n",
      "tocheck = 242 ; dict = {'data': [1], 'runlen': []}\n",
      "tocheck = 6 ; dict = {'data': [1], 'runlen': [242]}\n",
      "tocheck = 3 ; dict = {'data': [1], 'runlen': [242, 6]}\n",
      "tocheck = 27 ; dict = {'data': [3], 'runlen': []}\n",
      "tocheck = 1 ; dict = {'data': [3], 'runlen': [27]}\n",
      "tocheck = 242 ; dict = {'data': [1], 'runlen': []}\n",
      "tocheck = 6 ; dict = {'data': [1], 'runlen': [242]}\n",
      "tocheck = 3 ; dict = {'data': [1], 'runlen': [242, 6]}\n",
      "tocheck = 26 ; dict = {'data': [3], 'runlen': []}\n",
      "tocheck = 1 ; dict = {'data': [3], 'runlen': [26]}\n",
      "tocheck = 244 ; dict = {'data': [1], 'runlen': []}\n",
      "tocheck = 6 ; dict = {'data': [1], 'runlen': [244]}\n",
      "tocheck = 3 ; dict = {'data': [1], 'runlen': [244, 6]}\n",
      "tocheck = 25 ; dict = {'data': [3], 'runlen': []}\n",
      "tocheck = 1 ; dict = {'data': [3], 'runlen': [25]}\n",
      "tocheck = 238 ; dict = {'data': [1], 'runlen': []}\n",
      "tocheck = 6 ; dict = {'data': [1], 'runlen': [238]}\n",
      "tocheck = 3 ; dict = {'data': [1], 'runlen': [238, 6]}\n",
      "tocheck = 6 ; dict = {'data': [3], 'runlen': []}\n",
      "tocheck = 1 ; dict = {'data': [3], 'runlen': [6]}\n",
      "tocheck = 8 ; dict = {'data': [1], 'runlen': []}\n",
      "tocheck = 3 ; dict = {'data': [1], 'runlen': [8]}\n",
      "tocheck = 25 ; dict = {'data': [3], 'runlen': []}\n",
      "tocheck = 1 ; dict = {'data': [3], 'runlen': [25]}\n",
      "tocheck = 238 ; dict = {'data': [1], 'runlen': []}\n",
      "tocheck = 6 ; dict = {'data': [1], 'runlen': [238]}\n",
      "tocheck = 3 ; dict = {'data': [1], 'runlen': [238, 6]}\n",
      "tocheck = 6 ; dict = {'data': [3], 'runlen': []}\n",
      "tocheck = 1 ; dict = {'data': [3], 'runlen': [6]}\n",
      "tocheck = 7 ; dict = {'data': [1], 'runlen': []}\n",
      "tocheck = 3 ; dict = {'data': [1], 'runlen': [7]}\n",
      "tocheck = 26 ; dict = {'data': [3], 'runlen': []}\n",
      "tocheck = 1 ; dict = {'data': [3], 'runlen': [26]}\n",
      "tocheck = 237 ; dict = {'data': [1], 'runlen': []}\n",
      "tocheck = 6 ; dict = {'data': [1], 'runlen': [237]}\n",
      "tocheck = 3 ; dict = {'data': [1], 'runlen': [237, 6]}\n",
      "tocheck = 6 ; dict = {'data': [3], 'runlen': []}\n",
      "tocheck = 1 ; dict = {'data': [3], 'runlen': [6]}\n",
      "tocheck = 8 ; dict = {'data': [1], 'runlen': []}\n",
      "tocheck = 3 ; dict = {'data': [1], 'runlen': [8]}\n",
      "tocheck = 26 ; dict = {'data': [3], 'runlen': []}\n",
      "tocheck = 1 ; dict = {'data': [3], 'runlen': [26]}\n",
      "tocheck = 236 ; dict = {'data': [1], 'runlen': []}\n",
      "tocheck = 6 ; dict = {'data': [1], 'runlen': [236]}\n",
      "tocheck = 3 ; dict = {'data': [1], 'runlen': [236, 6]}\n",
      "tocheck = 6 ; dict = {'data': [3], 'runlen': []}\n",
      "tocheck = 1 ; dict = {'data': [3], 'runlen': [6]}\n",
      "tocheck = 9 ; dict = {'data': [1], 'runlen': []}\n",
      "tocheck = 3 ; dict = {'data': [1], 'runlen': [9]}\n",
      "tocheck = 26 ; dict = {'data': [3], 'runlen': []}\n",
      "tocheck = 1 ; dict = {'data': [3], 'runlen': [26]}\n",
      "tocheck = 235 ; dict = {'data': [1], 'runlen': []}\n",
      "tocheck = 6 ; dict = {'data': [1], 'runlen': [235]}\n",
      "tocheck = 3 ; dict = {'data': [1], 'runlen': [235, 6]}\n",
      "tocheck = 6 ; dict = {'data': [3], 'runlen': []}\n",
      "tocheck = 1 ; dict = {'data': [3], 'runlen': [6]}\n",
      "tocheck = 12 ; dict = {'data': [1], 'runlen': []}\n",
      "tocheck = 3 ; dict = {'data': [1], 'runlen': [12]}\n",
      "tocheck = 10 ; dict = {'data': [3], 'runlen': []}\n",
      "tocheck = 1 ; dict = {'data': [3], 'runlen': [10]}\n",
      "tocheck = 6 ; dict = {'data': [1], 'runlen': []}\n",
      "tocheck = 3 ; dict = {'data': [1], 'runlen': [6]}\n",
      "tocheck = 16 ; dict = {'data': [3], 'runlen': []}\n",
      "tocheck = 1 ; dict = {'data': [3], 'runlen': [16]}\n",
      "tocheck = 235 ; dict = {'data': [1], 'runlen': []}\n",
      "tocheck = 6 ; dict = {'data': [1], 'runlen': [235]}\n",
      "tocheck = 3 ; dict = {'data': [1], 'runlen': [235, 6]}\n",
      "tocheck = 6 ; dict = {'data': [3], 'runlen': []}\n",
      "tocheck = 1 ; dict = {'data': [3], 'runlen': [6]}\n",
      "tocheck = 13 ; dict = {'data': [1], 'runlen': []}\n",
      "tocheck = 3 ; dict = {'data': [1], 'runlen': [13]}\n",
      "tocheck = 23 ; dict = {'data': [3], 'runlen': []}\n",
      "tocheck = 1 ; dict = {'data': [3], 'runlen': [23]}\n",
      "tocheck = 246 ; dict = {'data': [1], 'runlen': []}\n",
      "tocheck = 6 ; dict = {'data': [1], 'runlen': [246]}\n",
      "tocheck = 3 ; dict = {'data': [1], 'runlen': [246, 6]}\n",
      "tocheck = 22 ; dict = {'data': [3], 'runlen': []}\n",
      "tocheck = 1 ; dict = {'data': [3], 'runlen': [22]}\n",
      "tocheck = 247 ; dict = {'data': [1], 'runlen': []}\n",
      "tocheck = 6 ; dict = {'data': [1], 'runlen': [247]}\n",
      "tocheck = 3 ; dict = {'data': [1], 'runlen': [247, 6]}\n",
      "tocheck = 7 ; dict = {'data': [3], 'runlen': []}\n",
      "tocheck = 4 ; dict = {'data': [3], 'runlen': [7]}\n",
      "tocheck = 1 ; dict = {'data': [4], 'runlen': []}\n",
      "tocheck = 3 ; dict = {'data': [1], 'runlen': []}\n",
      "tocheck = 17 ; dict = {'data': [3], 'runlen': []}\n",
      "tocheck = 1 ; dict = {'data': [3], 'runlen': [17]}\n",
      "tocheck = 246 ; dict = {'data': [1], 'runlen': []}\n",
      "tocheck = 6 ; dict = {'data': [1], 'runlen': [246]}\n",
      "tocheck = 3 ; dict = {'data': [1], 'runlen': [246, 6]}\n",
      "tocheck = 9 ; dict = {'data': [3], 'runlen': []}\n",
      "tocheck = 1 ; dict = {'data': [3], 'runlen': [9]}\n",
      "tocheck = 6 ; dict = {'data': [1], 'runlen': []}\n",
      "tocheck = 3 ; dict = {'data': [1], 'runlen': [6]}\n",
      "tocheck = 16 ; dict = {'data': [3], 'runlen': []}\n",
      "tocheck = 1 ; dict = {'data': [3], 'runlen': [16]}\n",
      "tocheck = 243 ; dict = {'data': [1], 'runlen': []}\n",
      "tocheck = 6 ; dict = {'data': [1], 'runlen': [243]}\n",
      "tocheck = 3 ; dict = {'data': [1], 'runlen': [243, 6]}\n",
      "tocheck = 12 ; dict = {'data': [3], 'runlen': []}\n",
      "tocheck = 1 ; dict = {'data': [3], 'runlen': [12]}\n",
      "tocheck = 6 ; dict = {'data': [1], 'runlen': []}\n",
      "tocheck = 3 ; dict = {'data': [1], 'runlen': [6]}\n",
      "tocheck = 15 ; dict = {'data': [3], 'runlen': []}\n",
      "tocheck = 1 ; dict = {'data': [3], 'runlen': [15]}\n",
      "tocheck = 245 ; dict = {'data': [1], 'runlen': []}\n",
      "tocheck = 6 ; dict = {'data': [1], 'runlen': [245]}\n",
      "tocheck = 3 ; dict = {'data': [1], 'runlen': [245, 6]}\n"
     ]
    },
    {
     "name": "stdout",
     "output_type": "stream",
     "text": [
      "tocheck = 11 ; dict = {'data': [3], 'runlen': []}\n",
      "tocheck = 1 ; dict = {'data': [3], 'runlen': [11]}\n",
      "tocheck = 7 ; dict = {'data': [1], 'runlen': []}\n",
      "tocheck = 3 ; dict = {'data': [1], 'runlen': [7]}\n",
      "tocheck = 9 ; dict = {'data': [3], 'runlen': []}\n",
      "tocheck = 1 ; dict = {'data': [3], 'runlen': [9]}\n",
      "tocheck = 6 ; dict = {'data': [1], 'runlen': []}\n",
      "tocheck = 3 ; dict = {'data': [1], 'runlen': [6]}\n",
      "tocheck = 7 ; dict = {'data': [3], 'runlen': []}\n",
      "tocheck = 1 ; dict = {'data': [3], 'runlen': [7]}\n",
      "tocheck = 245 ; dict = {'data': [1], 'runlen': []}\n",
      "tocheck = 6 ; dict = {'data': [1], 'runlen': [245]}\n",
      "tocheck = 3 ; dict = {'data': [1], 'runlen': [245, 6]}\n",
      "tocheck = 12 ; dict = {'data': [3], 'runlen': []}\n",
      "tocheck = 1 ; dict = {'data': [3], 'runlen': [12]}\n",
      "tocheck = 6 ; dict = {'data': [1], 'runlen': []}\n",
      "tocheck = 3 ; dict = {'data': [1], 'runlen': [6]}\n",
      "tocheck = 10 ; dict = {'data': [3], 'runlen': []}\n",
      "tocheck = 1 ; dict = {'data': [3], 'runlen': [10]}\n",
      "tocheck = 250 ; dict = {'data': [1], 'runlen': []}\n",
      "tocheck = 6 ; dict = {'data': [1], 'runlen': [250]}\n",
      "tocheck = 3 ; dict = {'data': [1], 'runlen': [250, 6]}\n",
      "tocheck = 12 ; dict = {'data': [3], 'runlen': []}\n",
      "tocheck = 1 ; dict = {'data': [3], 'runlen': [12]}\n",
      "tocheck = 3 ; dict = {'data': [1], 'runlen': []}\n",
      "tocheck = 11 ; dict = {'data': [3], 'runlen': []}\n",
      "tocheck = 1 ; dict = {'data': [3], 'runlen': [11]}\n",
      "tocheck = 249 ; dict = {'data': [1], 'runlen': []}\n",
      "tocheck = 6 ; dict = {'data': [1], 'runlen': [249]}\n",
      "tocheck = 3 ; dict = {'data': [1], 'runlen': [249, 6]}\n",
      "tocheck = 12 ; dict = {'data': [3], 'runlen': []}\n",
      "tocheck = 1 ; dict = {'data': [3], 'runlen': [12]}\n",
      "tocheck = 3 ; dict = {'data': [1], 'runlen': []}\n",
      "tocheck = 10 ; dict = {'data': [3], 'runlen': []}\n",
      "tocheck = 1 ; dict = {'data': [3], 'runlen': [10]}\n",
      "tocheck = 255 ; dict = {'data': [1], 'runlen': []}\n",
      "tocheck = 6 ; dict = {'data': [1], 'runlen': [255]}\n",
      "tocheck = 3 ; dict = {'data': [1], 'runlen': [255, 6]}\n",
      "tocheck = 7 ; dict = {'data': [3], 'runlen': []}\n",
      "tocheck = 1 ; dict = {'data': [3], 'runlen': [7]}\n",
      "tocheck = 3 ; dict = {'data': [1], 'runlen': []}\n",
      "tocheck = 9 ; dict = {'data': [3], 'runlen': []}\n",
      "tocheck = 1 ; dict = {'data': [3], 'runlen': [9]}\n",
      "tocheck = 8 ; dict = {'data': [1], 'runlen': []}\n",
      "tocheck = 7 ; dict = {'data': [1], 'runlen': [8]}\n",
      "tocheck = 3 ; dict = {'data': [1], 'runlen': [8, 7]}\n",
      "tocheck = 9 ; dict = {'data': [3], 'runlen': []}\n",
      "tocheck = 1 ; dict = {'data': [3], 'runlen': [9]}\n",
      "tocheck = 8 ; dict = {'data': [1], 'runlen': []}\n",
      "tocheck = 7 ; dict = {'data': [1], 'runlen': [8]}\n",
      "tocheck = 3 ; dict = {'data': [1], 'runlen': [8, 7]}\n",
      "tocheck = 9 ; dict = {'data': [3], 'runlen': []}\n",
      "tocheck = 1 ; dict = {'data': [3], 'runlen': [9]}\n",
      "tocheck = 9 ; dict = {'data': [1], 'runlen': []}\n",
      "tocheck = 7 ; dict = {'data': [1], 'runlen': [9]}\n",
      "tocheck = 3 ; dict = {'data': [1], 'runlen': [9, 7]}\n",
      "tocheck = 6 ; dict = {'data': [3], 'runlen': []}\n",
      "tocheck = 1 ; dict = {'data': [3], 'runlen': [6]}\n",
      "tocheck = 12 ; dict = {'data': [1], 'runlen': []}\n",
      "tocheck = 7 ; dict = {'data': [1], 'runlen': [12]}\n",
      "tocheck = 3 ; dict = {'data': [1], 'runlen': [12, 7]}\n",
      "tocheck = 1 ; dict = {'data': [3], 'runlen': []}\n",
      "tocheck = 11 ; dict = {'data': [1], 'runlen': []}\n",
      "tocheck = 9 ; dict = {'data': [1], 'runlen': [11]}\n",
      "tocheck = 3 ; dict = {'data': [1], 'runlen': [11, 9]}\n",
      "tocheck = 6 ; dict = {'data': [3], 'runlen': []}\n",
      "tocheck = 1 ; dict = {'data': [3], 'runlen': [6]}\n",
      "tocheck = 12 ; dict = {'data': [1], 'runlen': []}\n",
      "tocheck = 7 ; dict = {'data': [1], 'runlen': [12]}\n",
      "tocheck = 3 ; dict = {'data': [1], 'runlen': [12, 7]}\n",
      "tocheck = 6 ; dict = {'data': [3], 'runlen': []}\n",
      "tocheck = 1 ; dict = {'data': [3], 'runlen': [6]}\n",
      "tocheck = 8 ; dict = {'data': [1], 'runlen': []}\n",
      "tocheck = 3 ; dict = {'data': [1], 'runlen': [8]}\n",
      "tocheck = 8 ; dict = {'data': [3], 'runlen': []}\n",
      "tocheck = 1 ; dict = {'data': [3], 'runlen': [8]}\n",
      "tocheck = 12 ; dict = {'data': [1], 'runlen': []}\n",
      "tocheck = 3 ; dict = {'data': [1], 'runlen': [12]}\n",
      "tocheck = 6 ; dict = {'data': [3], 'runlen': []}\n",
      "tocheck = 1 ; dict = {'data': [3], 'runlen': [6]}\n",
      "tocheck = 251 ; dict = {'data': [1], 'runlen': []}\n",
      "tocheck = 6 ; dict = {'data': [1], 'runlen': [251]}\n",
      "tocheck = 3 ; dict = {'data': [1], 'runlen': [251, 6]}\n",
      "tocheck = 6 ; dict = {'data': [3], 'runlen': []}\n",
      "tocheck = 1 ; dict = {'data': [3], 'runlen': [6]}\n",
      "tocheck = 11 ; dict = {'data': [1], 'runlen': []}\n",
      "tocheck = 3 ; dict = {'data': [1], 'runlen': [11]}\n",
      "tocheck = 1 ; dict = {'data': [3], 'runlen': []}\n",
      "tocheck = 6 ; dict = {'data': [1], 'runlen': []}\n",
      "tocheck = 3 ; dict = {'data': [1], 'runlen': [6]}\n",
      "tocheck = 6 ; dict = {'data': [3], 'runlen': []}\n",
      "tocheck = 1 ; dict = {'data': [3], 'runlen': [6]}\n",
      "tocheck = 9 ; dict = {'data': [1], 'runlen': []}\n",
      "tocheck = 7 ; dict = {'data': [1], 'runlen': [9]}\n",
      "tocheck = 3 ; dict = {'data': [1], 'runlen': [9, 7]}\n",
      "tocheck = 1 ; dict = {'data': [3], 'runlen': []}\n",
      "tocheck = 3 ; dict = {'data': [1], 'runlen': []}\n",
      "tocheck = 7 ; dict = {'data': [3], 'runlen': []}\n",
      "tocheck = 1 ; dict = {'data': [3], 'runlen': [7]}\n",
      "tocheck = 11 ; dict = {'data': [1], 'runlen': []}\n",
      "tocheck = 7 ; dict = {'data': [1], 'runlen': [11]}\n",
      "tocheck = 3 ; dict = {'data': [1], 'runlen': [11, 7]}\n",
      "tocheck = 7 ; dict = {'data': [3], 'runlen': []}\n",
      "tocheck = 1 ; dict = {'data': [3], 'runlen': [7]}\n",
      "tocheck = 11 ; dict = {'data': [1], 'runlen': []}\n",
      "tocheck = 7 ; dict = {'data': [1], 'runlen': [11]}\n",
      "tocheck = 3 ; dict = {'data': [1], 'runlen': [11, 7]}\n",
      "tocheck = 6 ; dict = {'data': [3], 'runlen': []}\n",
      "tocheck = 1 ; dict = {'data': [3], 'runlen': [6]}\n",
      "tocheck = 11 ; dict = {'data': [1], 'runlen': []}\n",
      "tocheck = 7 ; dict = {'data': [1], 'runlen': [11]}\n",
      "tocheck = 3 ; dict = {'data': [1], 'runlen': [11, 7]}\n",
      "tocheck = 7 ; dict = {'data': [3], 'runlen': []}\n",
      "tocheck = 1 ; dict = {'data': [3], 'runlen': [7]}\n",
      "tocheck = 11 ; dict = {'data': [1], 'runlen': []}\n",
      "tocheck = 7 ; dict = {'data': [1], 'runlen': [11]}\n",
      "tocheck = 3 ; dict = {'data': [1], 'runlen': [11, 7]}\n",
      "tocheck = 7 ; dict = {'data': [3], 'runlen': []}\n",
      "tocheck = 1 ; dict = {'data': [3], 'runlen': [7]}\n",
      "tocheck = 250 ; dict = {'data': [1], 'runlen': []}\n",
      "tocheck = 6 ; dict = {'data': [1], 'runlen': [250]}\n",
      "tocheck = 3 ; dict = {'data': [1], 'runlen': [250, 6]}\n",
      "tocheck = 7 ; dict = {'data': [3], 'runlen': []}\n",
      "tocheck = 1 ; dict = {'data': [3], 'runlen': [7]}\n",
      "tocheck = 6 ; dict = {'data': [1], 'runlen': []}\n",
      "tocheck = 3 ; dict = {'data': [1], 'runlen': [6]}\n",
      "tocheck = 6 ; dict = {'data': [3], 'runlen': []}\n",
      "tocheck = 1 ; dict = {'data': [3], 'runlen': [6]}\n",
      "tocheck = 8 ; dict = {'data': [1], 'runlen': []}\n",
      "tocheck = 3 ; dict = {'data': [1], 'runlen': [8]}\n",
      "tocheck = 7 ; dict = {'data': [3], 'runlen': []}\n",
      "tocheck = 1 ; dict = {'data': [3], 'runlen': [7]}\n",
      "tocheck = 252 ; dict = {'data': [1], 'runlen': []}\n",
      "tocheck = 6 ; dict = {'data': [1], 'runlen': [252]}\n",
      "tocheck = 3 ; dict = {'data': [1], 'runlen': [252, 6]}\n",
      "tocheck = 6 ; dict = {'data': [3], 'runlen': []}\n",
      "tocheck = 1 ; dict = {'data': [3], 'runlen': [6]}\n",
      "tocheck = 3 ; dict = {'data': [1], 'runlen': []}\n",
      "tocheck = 9 ; dict = {'data': [3], 'runlen': []}\n",
      "tocheck = 1 ; dict = {'data': [3], 'runlen': [9]}\n",
      "tocheck = 6 ; dict = {'data': [1], 'runlen': []}\n",
      "tocheck = 3 ; dict = {'data': [1], 'runlen': [6]}\n",
      "tocheck = 7 ; dict = {'data': [3], 'runlen': []}\n",
      "tocheck = 1 ; dict = {'data': [3], 'runlen': [7]}\n",
      "tocheck = 255 ; dict = {'data': [1], 'runlen': []}\n",
      "tocheck = 6 ; dict = {'data': [1], 'runlen': [255]}\n",
      "tocheck = 3 ; dict = {'data': [1], 'runlen': [255, 6]}\n",
      "tocheck = 9 ; dict = {'data': [3], 'runlen': []}\n",
      "tocheck = 1 ; dict = {'data': [3], 'runlen': [9]}\n",
      "tocheck = 6 ; dict = {'data': [1], 'runlen': []}\n",
      "tocheck = 3 ; dict = {'data': [1], 'runlen': [6]}\n",
      "tocheck = 7 ; dict = {'data': [3], 'runlen': []}\n",
      "tocheck = 1 ; dict = {'data': [3], 'runlen': [7]}\n",
      "tocheck = 255 ; dict = {'data': [1], 'runlen': []}\n",
      "tocheck = 6 ; dict = {'data': [1], 'runlen': [255]}\n",
      "tocheck = 3 ; dict = {'data': [1], 'runlen': [255, 6]}\n",
      "tocheck = 9 ; dict = {'data': [3], 'runlen': []}\n",
      "tocheck = 1 ; dict = {'data': [3], 'runlen': [9]}\n",
      "tocheck = 6 ; dict = {'data': [1], 'runlen': []}\n",
      "tocheck = 3 ; dict = {'data': [1], 'runlen': [6]}\n",
      "tocheck = 6 ; dict = {'data': [3], 'runlen': []}\n",
      "tocheck = 1 ; dict = {'data': [3], 'runlen': [6]}\n",
      "tocheck = 5 ; dict = {'data': [1], 'runlen': []}\n",
      "tocheck = 7 ; dict = {'data': [1], 'runlen': [5]}\n",
      "tocheck = 3 ; dict = {'data': [1], 'runlen': [5, 7]}\n",
      "tocheck = 9 ; dict = {'data': [3], 'runlen': []}\n",
      "tocheck = 1 ; dict = {'data': [3], 'runlen': [9]}\n",
      "tocheck = 9 ; dict = {'data': [1], 'runlen': []}\n",
      "tocheck = 7 ; dict = {'data': [1], 'runlen': [9]}\n",
      "tocheck = 3 ; dict = {'data': [1], 'runlen': [9, 7]}\n",
      "tocheck = 8 ; dict = {'data': [3], 'runlen': []}\n",
      "tocheck = 1 ; dict = {'data': [3], 'runlen': [8]}\n",
      "tocheck = 32 ; dict = {'data': [1], 'runlen': []}\n",
      "tocheck = 13 ; dict = {'data': [1], 'runlen': [32]}\n",
      "tocheck = 3 ; dict = {'data': [1], 'runlen': [32, 13]}\n",
      "tocheck = 1 ; dict = {'data': [3], 'runlen': []}\n",
      "tocheck = 13 ; dict = {'data': [1], 'runlen': []}\n",
      "tocheck = 7 ; dict = {'data': [1], 'runlen': [13]}\n",
      "tocheck = 3 ; dict = {'data': [1], 'runlen': [13, 7]}\n",
      "tocheck = 6 ; dict = {'data': [3], 'runlen': []}\n",
      "tocheck = 1 ; dict = {'data': [3], 'runlen': [6]}\n",
      "tocheck = 12 ; dict = {'data': [1], 'runlen': []}\n",
      "tocheck = 7 ; dict = {'data': [1], 'runlen': [12]}\n",
      "tocheck = 3 ; dict = {'data': [1], 'runlen': [12, 7]}\n",
      "tocheck = 1 ; dict = {'data': [3], 'runlen': []}\n",
      "tocheck = 12 ; dict = {'data': [1], 'runlen': []}\n",
      "tocheck = 7 ; dict = {'data': [1], 'runlen': [12]}\n",
      "tocheck = 3 ; dict = {'data': [1], 'runlen': [12, 7]}\n",
      "tocheck = 6 ; dict = {'data': [3], 'runlen': []}\n",
      "tocheck = 1 ; dict = {'data': [3], 'runlen': [6]}\n",
      "tocheck = 12 ; dict = {'data': [1], 'runlen': []}\n",
      "tocheck = 7 ; dict = {'data': [1], 'runlen': [12]}\n",
      "tocheck = 3 ; dict = {'data': [1], 'runlen': [12, 7]}\n",
      "tocheck = 6 ; dict = {'data': [3], 'runlen': []}\n",
      "tocheck = 1 ; dict = {'data': [3], 'runlen': [6]}\n",
      "tocheck = 27 ; dict = {'data': [1], 'runlen': []}\n",
      "tocheck = 11 ; dict = {'data': [1], 'runlen': [27]}\n",
      "tocheck = 3 ; dict = {'data': [1], 'runlen': [27, 11]}\n",
      "tocheck = 1 ; dict = {'data': [3], 'runlen': []}\n",
      "tocheck = 3 ; dict = {'data': [1], 'runlen': []}\n",
      "tocheck = 6 ; dict = {'data': [3], 'runlen': []}\n",
      "tocheck = 1 ; dict = {'data': [3], 'runlen': [6]}\n",
      "tocheck = 12 ; dict = {'data': [1], 'runlen': []}\n",
      "tocheck = 7 ; dict = {'data': [1], 'runlen': [12]}\n",
      "tocheck = 3 ; dict = {'data': [1], 'runlen': [12, 7]}\n",
      "tocheck = 6 ; dict = {'data': [3], 'runlen': []}\n",
      "tocheck = 1 ; dict = {'data': [3], 'runlen': [6]}\n",
      "tocheck = 31 ; dict = {'data': [1], 'runlen': []}\n",
      "tocheck = 11 ; dict = {'data': [1], 'runlen': [31]}\n",
      "tocheck = 3 ; dict = {'data': [1], 'runlen': [31, 11]}\n",
      "tocheck = 1 ; dict = {'data': [3], 'runlen': []}\n",
      "tocheck = 13 ; dict = {'data': [1], 'runlen': []}\n",
      "tocheck = 7 ; dict = {'data': [1], 'runlen': [13]}\n",
      "tocheck = 3 ; dict = {'data': [1], 'runlen': [13, 7]}\n",
      "tocheck = 1 ; dict = {'data': [3], 'runlen': []}\n",
      "tocheck = 39 ; dict = {'data': [1], 'runlen': []}\n",
      "tocheck = 13 ; dict = {'data': [1], 'runlen': [39]}\n",
      "tocheck = 3 ; dict = {'data': [1], 'runlen': [39, 13]}\n",
      "tocheck = 1 ; dict = {'data': [3], 'runlen': []}\n",
      "tocheck = 10 ; dict = {'data': [1], 'runlen': []}\n",
      "tocheck = 7 ; dict = {'data': [1], 'runlen': [10]}\n",
      "tocheck = 3 ; dict = {'data': [1], 'runlen': [10, 7]}\n",
      "tocheck = 6 ; dict = {'data': [3], 'runlen': []}\n",
      "tocheck = 1 ; dict = {'data': [3], 'runlen': [6]}\n",
      "tocheck = 13 ; dict = {'data': [1], 'runlen': []}\n",
      "tocheck = 7 ; dict = {'data': [1], 'runlen': [13]}\n",
      "tocheck = 3 ; dict = {'data': [1], 'runlen': [13, 7]}\n",
      "tocheck = 1 ; dict = {'data': [3], 'runlen': []}\n",
      "tocheck = 130 ; dict = {'data': [1], 'runlen': []}\n",
      "tocheck = 29 ; dict = {'data': [1], 'runlen': [130]}\n",
      "tocheck = 3 ; dict = {'data': [1], 'runlen': [130, 29]}\n",
      "tocheck = 6 ; dict = {'data': [3], 'runlen': []}\n",
      "tocheck = 1 ; dict = {'data': [3], 'runlen': [6]}\n",
      "tocheck = 10 ; dict = {'data': [1], 'runlen': []}\n",
      "tocheck = 7 ; dict = {'data': [1], 'runlen': [10]}\n",
      "tocheck = 3 ; dict = {'data': [1], 'runlen': [10, 7]}\n",
      "tocheck = 8 ; dict = {'data': [3], 'runlen': []}\n",
      "tocheck = 1 ; dict = {'data': [3], 'runlen': [8]}\n",
      "tocheck = 9 ; dict = {'data': [1], 'runlen': []}\n",
      "tocheck = 7 ; dict = {'data': [1], 'runlen': [9]}\n",
      "tocheck = 3 ; dict = {'data': [1], 'runlen': [9, 7]}\n",
      "tocheck = 9 ; dict = {'data': [3], 'runlen': []}\n",
      "tocheck = 1 ; dict = {'data': [3], 'runlen': [9]}\n",
      "tocheck = 7 ; dict = {'data': [1], 'runlen': []}\n",
      "tocheck = 7 ; dict = {'data': [1], 'runlen': [7]}\n",
      "tocheck = 3 ; dict = {'data': [1], 'runlen': [7, 7]}\n",
      "tocheck = 10 ; dict = {'data': [3], 'runlen': []}\n",
      "tocheck = 1 ; dict = {'data': [3], 'runlen': [10]}\n",
      "tocheck = 8 ; dict = {'data': [1], 'runlen': []}\n",
      "tocheck = 3 ; dict = {'data': [1], 'runlen': [8]}\n",
      "tocheck = 6 ; dict = {'data': [3], 'runlen': []}\n",
      "tocheck = 1 ; dict = {'data': [3], 'runlen': [6]}\n",
      "tocheck = 250 ; dict = {'data': [1], 'runlen': []}\n",
      "tocheck = 6 ; dict = {'data': [1], 'runlen': [250]}\n",
      "tocheck = 3 ; dict = {'data': [1], 'runlen': [250, 6]}\n",
      "tocheck = 12 ; dict = {'data': [3], 'runlen': []}\n",
      "tocheck = 1 ; dict = {'data': [3], 'runlen': [12]}\n",
      "tocheck = 8 ; dict = {'data': [1], 'runlen': []}\n",
      "tocheck = 3 ; dict = {'data': [1], 'runlen': [8]}\n",
      "tocheck = 7 ; dict = {'data': [3], 'runlen': []}\n",
      "tocheck = 1 ; dict = {'data': [3], 'runlen': [7]}\n",
      "tocheck = 250 ; dict = {'data': [1], 'runlen': []}\n",
      "tocheck = 6 ; dict = {'data': [1], 'runlen': [250]}\n",
      "tocheck = 3 ; dict = {'data': [1], 'runlen': [250, 6]}\n",
      "tocheck = 11 ; dict = {'data': [3], 'runlen': []}\n",
      "tocheck = 1 ; dict = {'data': [3], 'runlen': [11]}\n",
      "tocheck = 9 ; dict = {'data': [1], 'runlen': []}\n",
      "tocheck = 3 ; dict = {'data': [1], 'runlen': [9]}\n",
      "tocheck = 6 ; dict = {'data': [3], 'runlen': []}\n",
      "tocheck = 1 ; dict = {'data': [3], 'runlen': [6]}\n",
      "tocheck = 251 ; dict = {'data': [1], 'runlen': []}\n",
      "tocheck = 6 ; dict = {'data': [1], 'runlen': [251]}\n",
      "tocheck = 3 ; dict = {'data': [1], 'runlen': [251, 6]}\n",
      "tocheck = 10 ; dict = {'data': [3], 'runlen': []}\n",
      "tocheck = 1 ; dict = {'data': [3], 'runlen': [10]}\n",
      "tocheck = 8 ; dict = {'data': [1], 'runlen': []}\n",
      "tocheck = 7 ; dict = {'data': [1], 'runlen': [8]}\n",
      "tocheck = 3 ; dict = {'data': [1], 'runlen': [8, 7]}\n",
      "tocheck = 10 ; dict = {'data': [3], 'runlen': []}\n",
      "tocheck = 1 ; dict = {'data': [3], 'runlen': [10]}\n",
      "tocheck = 8 ; dict = {'data': [1], 'runlen': []}\n",
      "tocheck = 7 ; dict = {'data': [1], 'runlen': [8]}\n",
      "tocheck = 3 ; dict = {'data': [1], 'runlen': [8, 7]}\n",
      "tocheck = 9 ; dict = {'data': [3], 'runlen': []}\n",
      "tocheck = 1 ; dict = {'data': [3], 'runlen': [9]}\n",
      "tocheck = 9 ; dict = {'data': [1], 'runlen': []}\n",
      "tocheck = 7 ; dict = {'data': [1], 'runlen': [9]}\n",
      "tocheck = 3 ; dict = {'data': [1], 'runlen': [9, 7]}\n",
      "tocheck = 8 ; dict = {'data': [3], 'runlen': []}\n",
      "tocheck = 1 ; dict = {'data': [3], 'runlen': [8]}\n",
      "tocheck = 10 ; dict = {'data': [1], 'runlen': []}\n",
      "tocheck = 7 ; dict = {'data': [1], 'runlen': [10]}\n",
      "tocheck = 3 ; dict = {'data': [1], 'runlen': [10, 7]}\n",
      "tocheck = 7 ; dict = {'data': [3], 'runlen': []}\n",
      "tocheck = 1 ; dict = {'data': [3], 'runlen': [7]}\n",
      "tocheck = 27 ; dict = {'data': [1], 'runlen': []}\n",
      "tocheck = 11 ; dict = {'data': [1], 'runlen': [27]}\n",
      "tocheck = 3 ; dict = {'data': [1], 'runlen': [27, 11]}\n",
      "tocheck = 6 ; dict = {'data': [3], 'runlen': []}\n",
      "tocheck = 1 ; dict = {'data': [3], 'runlen': [6]}\n",
      "tocheck = 12 ; dict = {'data': [1], 'runlen': []}\n",
      "tocheck = 7 ; dict = {'data': [1], 'runlen': [12]}\n",
      "tocheck = 3 ; dict = {'data': [1], 'runlen': [12, 7]}\n",
      "tocheck = 7 ; dict = {'data': [3], 'runlen': []}\n",
      "tocheck = 1 ; dict = {'data': [3], 'runlen': [7]}\n",
      "tocheck = 11 ; dict = {'data': [1], 'runlen': []}\n",
      "tocheck = 7 ; dict = {'data': [1], 'runlen': [11]}\n",
      "tocheck = 3 ; dict = {'data': [1], 'runlen': [11, 7]}\n",
      "tocheck = 7 ; dict = {'data': [3], 'runlen': []}\n",
      "tocheck = 1 ; dict = {'data': [3], 'runlen': [7]}\n",
      "tocheck = 11 ; dict = {'data': [1], 'runlen': []}\n",
      "tocheck = 7 ; dict = {'data': [1], 'runlen': [11]}\n",
      "tocheck = 3 ; dict = {'data': [1], 'runlen': [11, 7]}\n",
      "tocheck = 7 ; dict = {'data': [3], 'runlen': []}\n",
      "tocheck = 1 ; dict = {'data': [3], 'runlen': [7]}\n",
      "tocheck = 11 ; dict = {'data': [1], 'runlen': []}\n",
      "tocheck = 7 ; dict = {'data': [1], 'runlen': [11]}\n",
      "tocheck = 3 ; dict = {'data': [1], 'runlen': [11, 7]}\n",
      "tocheck = 7 ; dict = {'data': [3], 'runlen': []}\n",
      "tocheck = 1 ; dict = {'data': [3], 'runlen': [7]}\n",
      "tocheck = 212 ; dict = {'data': [1], 'runlen': []}\n",
      "tocheck = 3 ; dict = {'data': [1], 'runlen': [212]}\n",
      "tocheck = 6 ; dict = {'data': [3], 'runlen': []}\n",
      "tocheck = 1 ; dict = {'data': [3], 'runlen': [6]}\n",
      "tocheck = 13 ; dict = {'data': [1], 'runlen': []}\n",
      "tocheck = 7 ; dict = {'data': [1], 'runlen': [13]}\n",
      "tocheck = 3 ; dict = {'data': [1], 'runlen': [13, 7]}\n",
      "tocheck = 1 ; dict = {'data': [3], 'runlen': []}\n",
      "tocheck = 24 ; dict = {'data': [1], 'runlen': []}\n",
      "tocheck = 9 ; dict = {'data': [1], 'runlen': [24]}\n",
      "tocheck = 3 ; dict = {'data': [1], 'runlen': [24, 9]}\n",
      "tocheck = 1 ; dict = {'data': [3], 'runlen': []}\n",
      "tocheck = 13 ; dict = {'data': [1], 'runlen': []}\n",
      "tocheck = 7 ; dict = {'data': [1], 'runlen': [13]}\n",
      "tocheck = 3 ; dict = {'data': [1], 'runlen': [13, 7]}\n",
      "tocheck = 1 ; dict = {'data': [3], 'runlen': []}\n",
      "tocheck = 45 ; dict = {'data': [1], 'runlen': []}\n",
      "tocheck = 6 ; dict = {'data': [1], 'runlen': [45]}\n",
      "tocheck = 3 ; dict = {'data': [1], 'runlen': [45, 6]}\n",
      "tocheck = 8 ; dict = {'data': [3], 'runlen': []}\n",
      "tocheck = 1 ; dict = {'data': [3], 'runlen': [8]}\n",
      "tocheck = 10 ; dict = {'data': [1], 'runlen': []}\n",
      "tocheck = 7 ; dict = {'data': [1], 'runlen': [10]}\n",
      "tocheck = 3 ; dict = {'data': [1], 'runlen': [10, 7]}\n",
      "tocheck = 7 ; dict = {'data': [3], 'runlen': []}\n",
      "tocheck = 1 ; dict = {'data': [3], 'runlen': [7]}\n",
      "tocheck = 11 ; dict = {'data': [1], 'runlen': []}\n",
      "tocheck = 7 ; dict = {'data': [1], 'runlen': [11]}\n",
      "tocheck = 3 ; dict = {'data': [1], 'runlen': [11, 7]}\n",
      "tocheck = 6 ; dict = {'data': [3], 'runlen': []}\n",
      "tocheck = 1 ; dict = {'data': [3], 'runlen': [6]}\n",
      "tocheck = 250 ; dict = {'data': [1], 'runlen': []}\n",
      "tocheck = 11 ; dict = {'data': [1], 'runlen': [250]}\n",
      "tocheck = 3 ; dict = {'data': [1], 'runlen': [250, 11]}\n",
      "tocheck = 6 ; dict = {'data': [3], 'runlen': []}\n",
      "tocheck = 1 ; dict = {'data': [3], 'runlen': [6]}\n",
      "tocheck = 12 ; dict = {'data': [1], 'runlen': []}\n",
      "tocheck = 7 ; dict = {'data': [1], 'runlen': [12]}\n",
      "tocheck = 3 ; dict = {'data': [1], 'runlen': [12, 7]}\n",
      "tocheck = 6 ; dict = {'data': [3], 'runlen': []}\n",
      "tocheck = 1 ; dict = {'data': [3], 'runlen': [6]}\n",
      "tocheck = 36 ; dict = {'data': [1], 'runlen': []}\n",
      "tocheck = 6 ; dict = {'data': [1], 'runlen': [36]}\n",
      "tocheck = 3 ; dict = {'data': [1], 'runlen': [36, 6]}\n",
      "tocheck = 6 ; dict = {'data': [3], 'runlen': []}\n",
      "tocheck = 1 ; dict = {'data': [3], 'runlen': [6]}\n",
      "tocheck = 9 ; dict = {'data': [1], 'runlen': []}\n",
      "tocheck = 3 ; dict = {'data': [1], 'runlen': [9]}\n",
      "tocheck = 6 ; dict = {'data': [3], 'runlen': []}\n",
      "tocheck = 1 ; dict = {'data': [3], 'runlen': [6]}\n",
      "tocheck = 222 ; dict = {'data': [1], 'runlen': []}\n",
      "tocheck = 3 ; dict = {'data': [1], 'runlen': [222]}\n",
      "tocheck = 6 ; dict = {'data': [3], 'runlen': []}\n",
      "tocheck = 1 ; dict = {'data': [3], 'runlen': [6]}\n",
      "tocheck = 35 ; dict = {'data': [1], 'runlen': []}\n",
      "tocheck = 6 ; dict = {'data': [1], 'runlen': [35]}\n",
      "tocheck = 3 ; dict = {'data': [1], 'runlen': [35, 6]}\n",
      "tocheck = 6 ; dict = {'data': [3], 'runlen': []}\n",
      "tocheck = 1 ; dict = {'data': [3], 'runlen': [6]}\n",
      "tocheck = 10 ; dict = {'data': [1], 'runlen': []}\n",
      "tocheck = 3 ; dict = {'data': [1], 'runlen': [10]}\n",
      "tocheck = 6 ; dict = {'data': [3], 'runlen': []}\n",
      "tocheck = 1 ; dict = {'data': [3], 'runlen': [6]}\n",
      "tocheck = 222 ; dict = {'data': [1], 'runlen': []}\n",
      "tocheck = 3 ; dict = {'data': [1], 'runlen': [222]}\n",
      "tocheck = 6 ; dict = {'data': [3], 'runlen': []}\n",
      "tocheck = 1 ; dict = {'data': [3], 'runlen': [6]}\n",
      "tocheck = 35 ; dict = {'data': [1], 'runlen': []}\n",
      "tocheck = 6 ; dict = {'data': [1], 'runlen': [35]}\n",
      "tocheck = 3 ; dict = {'data': [1], 'runlen': [35, 6]}\n",
      "tocheck = 6 ; dict = {'data': [3], 'runlen': []}\n",
      "tocheck = 1 ; dict = {'data': [3], 'runlen': [6]}\n",
      "tocheck = 12 ; dict = {'data': [1], 'runlen': []}\n",
      "tocheck = 7 ; dict = {'data': [1], 'runlen': [12]}\n",
      "tocheck = 3 ; dict = {'data': [1], 'runlen': [12, 7]}\n",
      "tocheck = 6 ; dict = {'data': [3], 'runlen': []}\n",
      "tocheck = 1 ; dict = {'data': [3], 'runlen': [6]}\n",
      "tocheck = 12 ; dict = {'data': [1], 'runlen': []}\n",
      "tocheck = 7 ; dict = {'data': [1], 'runlen': [12]}\n",
      "tocheck = 3 ; dict = {'data': [1], 'runlen': [12, 7]}\n",
      "tocheck = 1 ; dict = {'data': [3], 'runlen': []}\n",
      "tocheck = 8 ; dict = {'data': [1], 'runlen': []}\n",
      "tocheck = 3 ; dict = {'data': [1], 'runlen': [8]}\n",
      "tocheck = 6 ; dict = {'data': [3], 'runlen': []}\n",
      "tocheck = 1 ; dict = {'data': [3], 'runlen': [6]}\n",
      "tocheck = 12 ; dict = {'data': [1], 'runlen': []}\n",
      "tocheck = 7 ; dict = {'data': [1], 'runlen': [12]}\n",
      "tocheck = 3 ; dict = {'data': [1], 'runlen': [12, 7]}\n",
      "tocheck = 7 ; dict = {'data': [3], 'runlen': []}\n",
      "tocheck = 1 ; dict = {'data': [3], 'runlen': [7]}\n",
      "tocheck = 10 ; dict = {'data': [1], 'runlen': []}\n",
      "tocheck = 7 ; dict = {'data': [1], 'runlen': [10]}\n",
      "tocheck = 3 ; dict = {'data': [1], 'runlen': [10, 7]}\n",
      "tocheck = 8 ; dict = {'data': [3], 'runlen': []}\n",
      "tocheck = 1 ; dict = {'data': [3], 'runlen': [8]}\n",
      "tocheck = 254 ; dict = {'data': [1], 'runlen': []}\n",
      "tocheck = 6 ; dict = {'data': [1], 'runlen': [254]}\n",
      "tocheck = 3 ; dict = {'data': [1], 'runlen': [254, 6]}\n",
      "tocheck = 15 ; dict = {'data': [3], 'runlen': []}\n",
      "tocheck = 1 ; dict = {'data': [3], 'runlen': [15]}\n",
      "tocheck = 223 ; dict = {'data': [1], 'runlen': []}\n",
      "tocheck = 3 ; dict = {'data': [1], 'runlen': [223]}\n",
      "tocheck = 6 ; dict = {'data': [3], 'runlen': []}\n",
      "tocheck = 1 ; dict = {'data': [3], 'runlen': [6]}\n",
      "tocheck = 35 ; dict = {'data': [1], 'runlen': []}\n",
      "tocheck = 6 ; dict = {'data': [1], 'runlen': [35]}\n",
      "tocheck = 3 ; dict = {'data': [1], 'runlen': [35, 6]}\n",
      "tocheck = 12 ; dict = {'data': [3], 'runlen': []}\n",
      "tocheck = 1 ; dict = {'data': [3], 'runlen': [12]}\n",
      "tocheck = 225 ; dict = {'data': [1], 'runlen': []}\n",
      "tocheck = 3 ; dict = {'data': [1], 'runlen': [225]}\n",
      "tocheck = 6 ; dict = {'data': [3], 'runlen': []}\n",
      "tocheck = 1 ; dict = {'data': [3], 'runlen': [6]}\n",
      "tocheck = 24 ; dict = {'data': [1], 'runlen': []}\n",
      "tocheck = 6 ; dict = {'data': [1], 'runlen': [24]}\n",
      "tocheck = 3 ; dict = {'data': [1], 'runlen': [24, 6]}\n",
      "tocheck = 1 ; dict = {'data': [3], 'runlen': []}\n",
      "tocheck = 12 ; dict = {'data': [1], 'runlen': []}\n",
      "tocheck = 3 ; dict = {'data': [1], 'runlen': [12]}\n",
      "tocheck = 13 ; dict = {'data': [3], 'runlen': []}\n",
      "tocheck = 1 ; dict = {'data': [3], 'runlen': [13]}\n",
      "tocheck = 224 ; dict = {'data': [1], 'runlen': []}\n",
      "tocheck = 3 ; dict = {'data': [1], 'runlen': [224]}\n",
      "tocheck = 6 ; dict = {'data': [3], 'runlen': []}\n",
      "tocheck = 1 ; dict = {'data': [3], 'runlen': [6]}\n",
      "tocheck = 25 ; dict = {'data': [1], 'runlen': []}\n",
      "tocheck = 6 ; dict = {'data': [1], 'runlen': [25]}\n",
      "tocheck = 3 ; dict = {'data': [1], 'runlen': [25, 6]}\n",
      "tocheck = 1 ; dict = {'data': [3], 'runlen': []}\n",
      "tocheck = 15 ; dict = {'data': [1], 'runlen': []}\n",
      "tocheck = 3 ; dict = {'data': [1], 'runlen': [15]}\n",
      "tocheck = 8 ; dict = {'data': [3], 'runlen': []}\n",
      "tocheck = 1 ; dict = {'data': [3], 'runlen': [8]}\n",
      "tocheck = 227 ; dict = {'data': [1], 'runlen': []}\n",
      "tocheck = 3 ; dict = {'data': [1], 'runlen': [227]}\n",
      "tocheck = 6 ; dict = {'data': [3], 'runlen': []}\n",
      "tocheck = 1 ; dict = {'data': [3], 'runlen': [6]}\n",
      "tocheck = 34 ; dict = {'data': [1], 'runlen': []}\n",
      "tocheck = 6 ; dict = {'data': [1], 'runlen': [34]}\n",
      "tocheck = 3 ; dict = {'data': [1], 'runlen': [34, 6]}\n",
      "tocheck = 9 ; dict = {'data': [3], 'runlen': []}\n",
      "tocheck = 1 ; dict = {'data': [3], 'runlen': [9]}\n",
      "tocheck = 228 ; dict = {'data': [1], 'runlen': []}\n",
      "tocheck = 3 ; dict = {'data': [1], 'runlen': [228]}\n",
      "tocheck = 1 ; dict = {'data': [3], 'runlen': []}\n",
      "tocheck = 34 ; dict = {'data': [1], 'runlen': []}\n",
      "tocheck = 6 ; dict = {'data': [1], 'runlen': [34]}\n",
      "tocheck = 3 ; dict = {'data': [1], 'runlen': [34, 6]}\n",
      "tocheck = 9 ; dict = {'data': [3], 'runlen': []}\n",
      "tocheck = 1 ; dict = {'data': [3], 'runlen': [9]}\n",
      "tocheck = 8 ; dict = {'data': [1], 'runlen': []}\n",
      "tocheck = 7 ; dict = {'data': [1], 'runlen': [8]}\n",
      "tocheck = 3 ; dict = {'data': [1], 'runlen': [8, 7]}\n",
      "tocheck = 9 ; dict = {'data': [3], 'runlen': []}\n",
      "tocheck = 1 ; dict = {'data': [3], 'runlen': [9]}\n",
      "tocheck = 244 ; dict = {'data': [1], 'runlen': []}\n",
      "tocheck = 6 ; dict = {'data': [1], 'runlen': [244]}\n",
      "tocheck = 3 ; dict = {'data': [1], 'runlen': [244, 6]}\n",
      "tocheck = 7 ; dict = {'data': [3], 'runlen': []}\n",
      "tocheck = 1 ; dict = {'data': [3], 'runlen': [7]}\n",
      "tocheck = 8 ; dict = {'data': [1], 'runlen': []}\n",
      "tocheck = 3 ; dict = {'data': [1], 'runlen': [8]}\n",
      "tocheck = 1 ; dict = {'data': [3], 'runlen': []}\n",
      "tocheck = 12 ; dict = {'data': [1], 'runlen': []}\n",
      "tocheck = 3 ; dict = {'data': [1], 'runlen': [12]}\n",
      "tocheck = 10 ; dict = {'data': [3], 'runlen': []}\n",
      "tocheck = 1 ; dict = {'data': [3], 'runlen': [10]}\n",
      "tocheck = 243 ; dict = {'data': [1], 'runlen': []}\n",
      "tocheck = 6 ; dict = {'data': [1], 'runlen': [243]}\n",
      "tocheck = 3 ; dict = {'data': [1], 'runlen': [243, 6]}\n",
      "tocheck = 7 ; dict = {'data': [3], 'runlen': []}\n",
      "tocheck = 1 ; dict = {'data': [3], 'runlen': [7]}\n",
      "tocheck = 8 ; dict = {'data': [1], 'runlen': []}\n",
      "tocheck = 3 ; dict = {'data': [1], 'runlen': [8]}\n",
      "tocheck = 1 ; dict = {'data': [3], 'runlen': []}\n",
      "tocheck = 12 ; dict = {'data': [1], 'runlen': []}\n",
      "tocheck = 3 ; dict = {'data': [1], 'runlen': [12]}\n",
      "tocheck = 9 ; dict = {'data': [3], 'runlen': []}\n",
      "tocheck = 1 ; dict = {'data': [3], 'runlen': [9]}\n",
      "tocheck = 245 ; dict = {'data': [1], 'runlen': []}\n",
      "tocheck = 6 ; dict = {'data': [1], 'runlen': [245]}\n",
      "tocheck = 3 ; dict = {'data': [1], 'runlen': [245, 6]}\n",
      "tocheck = 6 ; dict = {'data': [3], 'runlen': []}\n",
      "tocheck = 1 ; dict = {'data': [3], 'runlen': [6]}\n",
      "tocheck = 10 ; dict = {'data': [1], 'runlen': []}\n",
      "tocheck = 3 ; dict = {'data': [1], 'runlen': [10]}\n",
      "tocheck = 1 ; dict = {'data': [3], 'runlen': []}\n",
      "tocheck = 9 ; dict = {'data': [1], 'runlen': []}\n",
      "tocheck = 3 ; dict = {'data': [1], 'runlen': [9]}\n",
      "tocheck = 10 ; dict = {'data': [3], 'runlen': []}\n",
      "tocheck = 1 ; dict = {'data': [3], 'runlen': [10]}\n",
      "tocheck = 252 ; dict = {'data': [1], 'runlen': []}\n",
      "tocheck = 6 ; dict = {'data': [1], 'runlen': [252]}\n",
      "tocheck = 3 ; dict = {'data': [1], 'runlen': [252, 6]}\n",
      "tocheck = 7 ; dict = {'data': [3], 'runlen': []}\n",
      "tocheck = 1 ; dict = {'data': [3], 'runlen': [7]}\n",
      "tocheck = 3 ; dict = {'data': [1], 'runlen': []}\n",
      "tocheck = 1 ; dict = {'data': [3], 'runlen': []}\n",
      "tocheck = 6 ; dict = {'data': [1], 'runlen': []}\n",
      "tocheck = 3 ; dict = {'data': [1], 'runlen': [6]}\n",
      "tocheck = 7 ; dict = {'data': [3], 'runlen': []}\n",
      "tocheck = 1 ; dict = {'data': [3], 'runlen': [7]}\n",
      "tocheck = 3 ; dict = {'data': [1], 'runlen': []}\n",
      "tocheck = 6 ; dict = {'data': [3], 'runlen': []}\n",
      "tocheck = 1 ; dict = {'data': [3], 'runlen': [6]}\n",
      "tocheck = 252 ; dict = {'data': [1], 'runlen': []}\n",
      "tocheck = 6 ; dict = {'data': [1], 'runlen': [252]}\n",
      "tocheck = 3 ; dict = {'data': [1], 'runlen': [252, 6]}\n",
      "tocheck = 7 ; dict = {'data': [3], 'runlen': []}\n",
      "tocheck = 1 ; dict = {'data': [3], 'runlen': [7]}\n",
      "tocheck = 8 ; dict = {'data': [1], 'runlen': []}\n",
      "tocheck = 3 ; dict = {'data': [1], 'runlen': [8]}\n",
      "tocheck = 9 ; dict = {'data': [3], 'runlen': []}\n",
      "tocheck = 1 ; dict = {'data': [3], 'runlen': [9]}\n",
      "tocheck = 255 ; dict = {'data': [1], 'runlen': []}\n",
      "tocheck = 6 ; dict = {'data': [1], 'runlen': [255]}\n",
      "tocheck = 3 ; dict = {'data': [1], 'runlen': [255, 6]}\n",
      "tocheck = 1 ; dict = {'data': [3], 'runlen': []}\n",
      "tocheck = 8 ; dict = {'data': [1], 'runlen': []}\n",
      "tocheck = 3 ; dict = {'data': [1], 'runlen': [8]}\n",
      "tocheck = 7 ; dict = {'data': [3], 'runlen': []}\n",
      "tocheck = 1 ; dict = {'data': [3], 'runlen': [7]}\n",
      "tocheck = 11 ; dict = {'data': [1], 'runlen': []}\n",
      "tocheck = 7 ; dict = {'data': [1], 'runlen': [11]}\n",
      "tocheck = 3 ; dict = {'data': [1], 'runlen': [11, 7]}\n",
      "tocheck = 6 ; dict = {'data': [3], 'runlen': []}\n",
      "tocheck = 1 ; dict = {'data': [3], 'runlen': [6]}\n",
      "tocheck = 99 ; dict = {'data': [1], 'runlen': []}\n",
      "tocheck = 32 ; dict = {'data': [1], 'runlen': [99]}\n",
      "tocheck = 3 ; dict = {'data': [1], 'runlen': [99, 32]}\n",
      "tocheck = 1 ; dict = {'data': [3], 'runlen': []}\n",
      "tocheck = 97 ; dict = {'data': [1], 'runlen': []}\n",
      "tocheck = 24 ; dict = {'data': [1], 'runlen': [97]}\n",
      "tocheck = 3 ; dict = {'data': [1], 'runlen': [97, 24]}\n",
      "tocheck = 6 ; dict = {'data': [3], 'runlen': []}\n",
      "tocheck = 1 ; dict = {'data': [3], 'runlen': [6]}\n",
      "tocheck = 11 ; dict = {'data': [1], 'runlen': []}\n",
      "tocheck = 7 ; dict = {'data': [1], 'runlen': [11]}\n",
      "tocheck = 3 ; dict = {'data': [1], 'runlen': [11, 7]}\n",
      "tocheck = 7 ; dict = {'data': [3], 'runlen': []}\n",
      "tocheck = 1 ; dict = {'data': [3], 'runlen': [7]}\n",
      "tocheck = 11 ; dict = {'data': [1], 'runlen': []}\n",
      "tocheck = 7 ; dict = {'data': [1], 'runlen': [11]}\n",
      "tocheck = 3 ; dict = {'data': [1], 'runlen': [11, 7]}\n",
      "tocheck = 8 ; dict = {'data': [3], 'runlen': []}\n",
      "tocheck = 1 ; dict = {'data': [3], 'runlen': [8]}\n",
      "tocheck = 7 ; dict = {'data': [1], 'runlen': []}\n",
      "tocheck = 6 ; dict = {'data': [1], 'runlen': [7]}\n",
      "tocheck = 3 ; dict = {'data': [1], 'runlen': [7, 6]}\n",
      "tocheck = 6 ; dict = {'data': [3], 'runlen': []}\n",
      "tocheck = 1 ; dict = {'data': [3], 'runlen': [6]}\n",
      "tocheck = 248 ; dict = {'data': [1], 'runlen': []}\n",
      "tocheck = 3 ; dict = {'data': [1], 'runlen': [248]}\n",
      "tocheck = 6 ; dict = {'data': [3], 'runlen': []}\n",
      "tocheck = 1 ; dict = {'data': [3], 'runlen': [6]}\n",
      "tocheck = 12 ; dict = {'data': [1], 'runlen': []}\n",
      "tocheck = 3 ; dict = {'data': [1], 'runlen': [12]}\n",
      "tocheck = 8 ; dict = {'data': [3], 'runlen': []}\n",
      "tocheck = 1 ; dict = {'data': [3], 'runlen': [8]}\n",
      "tocheck = 5 ; dict = {'data': [1], 'runlen': []}\n",
      "tocheck = 6 ; dict = {'data': [1], 'runlen': [5]}\n",
      "tocheck = 3 ; dict = {'data': [1], 'runlen': [5, 6]}\n",
      "tocheck = 6 ; dict = {'data': [3], 'runlen': []}\n",
      "tocheck = 1 ; dict = {'data': [3], 'runlen': [6]}\n",
      "tocheck = 249 ; dict = {'data': [1], 'runlen': []}\n",
      "tocheck = 3 ; dict = {'data': [1], 'runlen': [249]}\n",
      "tocheck = 1 ; dict = {'data': [3], 'runlen': []}\n",
      "tocheck = 11 ; dict = {'data': [1], 'runlen': []}\n",
      "tocheck = 3 ; dict = {'data': [1], 'runlen': [11]}\n",
      "tocheck = 9 ; dict = {'data': [3], 'runlen': []}\n",
      "tocheck = 1 ; dict = {'data': [3], 'runlen': [9]}\n",
      "tocheck = 5 ; dict = {'data': [1], 'runlen': []}\n",
      "tocheck = 6 ; dict = {'data': [1], 'runlen': [5]}\n",
      "tocheck = 3 ; dict = {'data': [1], 'runlen': [5, 6]}\n",
      "tocheck = 1 ; dict = {'data': [3], 'runlen': []}\n",
      "tocheck = 249 ; dict = {'data': [1], 'runlen': []}\n",
      "tocheck = 3 ; dict = {'data': [1], 'runlen': [249]}\n",
      "tocheck = 6 ; dict = {'data': [3], 'runlen': []}\n",
      "tocheck = 1 ; dict = {'data': [3], 'runlen': [6]}\n",
      "tocheck = 6 ; dict = {'data': [1], 'runlen': []}\n",
      "tocheck = 7 ; dict = {'data': [1], 'runlen': [6]}\n",
      "tocheck = 3 ; dict = {'data': [1], 'runlen': [6, 7]}\n",
      "tocheck = 6 ; dict = {'data': [3], 'runlen': []}\n",
      "tocheck = 1 ; dict = {'data': [3], 'runlen': [6]}\n",
      "tocheck = 8 ; dict = {'data': [1], 'runlen': []}\n",
      "tocheck = 3 ; dict = {'data': [1], 'runlen': [8]}\n",
      "tocheck = 6 ; dict = {'data': [3], 'runlen': []}\n",
      "tocheck = 1 ; dict = {'data': [3], 'runlen': [6]}\n",
      "tocheck = 6 ; dict = {'data': [1], 'runlen': []}\n",
      "tocheck = 7 ; dict = {'data': [1], 'runlen': [6]}\n",
      "tocheck = 3 ; dict = {'data': [1], 'runlen': [6, 7]}\n",
      "tocheck = 6 ; dict = {'data': [3], 'runlen': []}\n",
      "tocheck = 1 ; dict = {'data': [3], 'runlen': [6]}\n",
      "tocheck = 11 ; dict = {'data': [1], 'runlen': []}\n",
      "tocheck = 7 ; dict = {'data': [1], 'runlen': [11]}\n",
      "tocheck = 3 ; dict = {'data': [1], 'runlen': [11, 7]}\n",
      "tocheck = 6 ; dict = {'data': [3], 'runlen': []}\n",
      "tocheck = 1 ; dict = {'data': [3], 'runlen': [6]}\n",
      "tocheck = 242 ; dict = {'data': [1], 'runlen': []}\n",
      "tocheck = 6 ; dict = {'data': [1], 'runlen': [242]}\n",
      "tocheck = 3 ; dict = {'data': [1], 'runlen': [242, 6]}\n",
      "tocheck = 7 ; dict = {'data': [3], 'runlen': []}\n",
      "tocheck = 1 ; dict = {'data': [3], 'runlen': [7]}\n",
      "tocheck = 16 ; dict = {'data': [1], 'runlen': []}\n",
      "tocheck = 3 ; dict = {'data': [1], 'runlen': [16]}\n",
      "tocheck = 1 ; dict = {'data': [3], 'runlen': []}\n",
      "tocheck = 7 ; dict = {'data': [1], 'runlen': []}\n",
      "tocheck = 3 ; dict = {'data': [1], 'runlen': [7]}\n",
      "tocheck = 8 ; dict = {'data': [3], 'runlen': []}\n",
      "tocheck = 1 ; dict = {'data': [3], 'runlen': [8]}\n",
      "tocheck = 242 ; dict = {'data': [1], 'runlen': []}\n",
      "tocheck = 6 ; dict = {'data': [1], 'runlen': [242]}\n",
      "tocheck = 3 ; dict = {'data': [1], 'runlen': [242, 6]}\n",
      "tocheck = 7 ; dict = {'data': [3], 'runlen': []}\n",
      "tocheck = 1 ; dict = {'data': [3], 'runlen': [7]}\n",
      "tocheck = 15 ; dict = {'data': [1], 'runlen': []}\n",
      "tocheck = 3 ; dict = {'data': [1], 'runlen': [15]}\n",
      "tocheck = 7 ; dict = {'data': [3], 'runlen': []}\n",
      "tocheck = 1 ; dict = {'data': [3], 'runlen': [7]}\n",
      "tocheck = 6 ; dict = {'data': [1], 'runlen': []}\n",
      "tocheck = 3 ; dict = {'data': [1], 'runlen': [6]}\n",
      "tocheck = 8 ; dict = {'data': [3], 'runlen': []}\n",
      "tocheck = 1 ; dict = {'data': [3], 'runlen': [8]}\n",
      "tocheck = 255 ; dict = {'data': [1], 'runlen': []}\n",
      "tocheck = 6 ; dict = {'data': [1], 'runlen': [255]}\n",
      "tocheck = 3 ; dict = {'data': [1], 'runlen': [255, 6]}\n",
      "tocheck = 14 ; dict = {'data': [3], 'runlen': []}\n",
      "tocheck = 1 ; dict = {'data': [3], 'runlen': [14]}\n",
      "tocheck = 254 ; dict = {'data': [1], 'runlen': []}\n",
      "tocheck = 6 ; dict = {'data': [1], 'runlen': [254]}\n",
      "tocheck = 3 ; dict = {'data': [1], 'runlen': [254, 6]}\n",
      "tocheck = 14 ; dict = {'data': [3], 'runlen': []}\n",
      "tocheck = 1 ; dict = {'data': [3], 'runlen': [14]}\n",
      "tocheck = 255 ; dict = {'data': [1], 'runlen': []}\n",
      "tocheck = 6 ; dict = {'data': [1], 'runlen': [255]}\n",
      "tocheck = 3 ; dict = {'data': [1], 'runlen': [255, 6]}\n",
      "tocheck = 11 ; dict = {'data': [3], 'runlen': []}\n",
      "tocheck = 1 ; dict = {'data': [3], 'runlen': [11]}\n",
      "tocheck = 11 ; dict = {'data': [1], 'runlen': []}\n",
      "tocheck = 7 ; dict = {'data': [1], 'runlen': [11]}\n",
      "tocheck = 3 ; dict = {'data': [1], 'runlen': [11, 7]}\n",
      "tocheck = 7 ; dict = {'data': [3], 'runlen': []}\n",
      "tocheck = 1 ; dict = {'data': [3], 'runlen': [7]}\n",
      "tocheck = 31 ; dict = {'data': [1], 'runlen': []}\n",
      "tocheck = 6 ; dict = {'data': [1], 'runlen': [31]}\n",
      "tocheck = 3 ; dict = {'data': [1], 'runlen': [31, 6]}\n",
      "tocheck = 1 ; dict = {'data': [3], 'runlen': []}\n",
      "tocheck = 252 ; dict = {'data': [1], 'runlen': []}\n",
      "tocheck = 9 ; dict = {'data': [1], 'runlen': [252]}\n",
      "tocheck = 3 ; dict = {'data': [1], 'runlen': [252, 9]}\n",
      "tocheck = 1 ; dict = {'data': [3], 'runlen': []}\n",
      "tocheck = 13 ; dict = {'data': [1], 'runlen': []}\n",
      "tocheck = 7 ; dict = {'data': [1], 'runlen': [13]}\n",
      "tocheck = 3 ; dict = {'data': [1], 'runlen': [13, 7]}\n",
      "tocheck = 1 ; dict = {'data': [3], 'runlen': []}\n",
      "tocheck = 219 ; dict = {'data': [1], 'runlen': []}\n",
      "tocheck = 169 ; dict = {'data': [1], 'runlen': [219]}\n"
     ]
    }
   ],
   "source": [
    "# Next, decompress this data sequence.\n",
    "data_decompressed = []\n",
    "dictpair = {\"data\": [], \"runlen\": []}\n",
    "for i in range(len(data_compressed)):\n",
    "    \n",
    "    tocheck = data_compressed[i]\n",
    "    print(\"tocheck =\", tocheck, \"; dict =\", dictpair)\n",
    "    \n",
    "    if len(dictpair[\"data\"]) == 0:\n",
    "        dictpair[\"data\"] = [tocheck]\n",
    "    else:\n",
    "        # If data slot is populated, then we're either dealing\n",
    "        # with runlength, or moving to a new singleton.\n",
    "        \n",
    "        if tocheck > MAXV:\n",
    "            # In this case, it is runlength data to be added.\n",
    "            dictpair[\"runlen\"] += [tocheck]\n",
    "        else:\n",
    "            # In this case, it is data, signifying a new set.\n",
    "            # Thus, we must enter the \"processing\" routine.\n",
    "            \n",
    "            numrl = len(dictpair[\"runlen\"])\n",
    "            if numrl == 0:\n",
    "                # If no runlength info, means it only appeared once.\n",
    "                data_decompressed += dictpair[\"data\"]\n",
    "                #print(\"Adding to decompressed data:\", dictpair[\"data\"])\n",
    "                \n",
    "            else:\n",
    "                # If there is runlength info, then must process it.\n",
    "                rlinfo = np.array(dictpair[\"runlen\"])\n",
    "                rlexp = np.arange(numrl)\n",
    "                rlvec = (LNGU**rlexp) * (rlinfo - (1+MAXV))\n",
    "                rl = np.sum(rlvec) + 1\n",
    "                data_decompressed += rl * dictpair[\"data\"]\n",
    "                #print(\"Adding to decompressed data:\", rl * dictpair[\"data\"])\n",
    "            \n",
    "            # Reset, critically noting that we have a new data point to store.\n",
    "            dictpair[\"data\"] = [tocheck]\n",
    "            dictpair[\"runlen\"] = []\n",
    "\n",
    "# Finally, note that there will ALWAYS be something left over.\n",
    "if tocheck <= MAXV:\n",
    "    # If the last guy was small, then just add it.\n",
    "    data_decompressed += dictpair[\"data\"]\n",
    "    #print(\"Adding to decompressed data:\", dictpair[\"data\"])\n",
    "else:\n",
    "    # If the last guy was large, we have non-trivial run-length.\n",
    "    numrl = len(dictpair[\"runlen\"])\n",
    "    rlinfo = np.array(dictpair[\"runlen\"])\n",
    "    rlexp = np.arange(numrl)\n",
    "    rlvec = (LNGU**rlexp) * (rlinfo - (1+MAXV))\n",
    "    rl = np.sum(rlvec) + 1\n",
    "    data_decompressed += rl * dictpair[\"data\"]\n",
    "    #print(\"Adding to decompressed data:\", rl * dictpair[\"data\"])"
   ]
  },
  {
   "cell_type": "code",
   "execution_count": 110,
   "metadata": {},
   "outputs": [
    {
     "name": "stdout",
     "output_type": "stream",
     "text": [
      "286720\n",
      "[0 1 3 4]\n"
     ]
    }
   ],
   "source": [
    "print(len(data_decompressed))\n",
    "print(np.unique(np.array(data_decompressed)))"
   ]
  },
  {
   "cell_type": "code",
   "execution_count": 111,
   "metadata": {},
   "outputs": [],
   "source": [
    "#print(data_decompressed)"
   ]
  },
  {
   "cell_type": "code",
   "execution_count": 112,
   "metadata": {
    "scrolled": true
   },
   "outputs": [
    {
     "name": "stdout",
     "output_type": "stream",
     "text": [
      "286720\n"
     ]
    }
   ],
   "source": [
    "print(s3_numpoints)\n",
    "#print(512*560)\n",
    "#print(s3_numlat)\n",
    "#print(s3_numlon)"
   ]
  },
  {
   "cell_type": "code",
   "execution_count": 113,
   "metadata": {},
   "outputs": [
    {
     "data": {
      "text/plain": [
       "0"
      ]
     },
     "execution_count": 113,
     "metadata": {},
     "output_type": "execute_result"
    }
   ],
   "source": [
    "s3_numpoints-len(data_decompressed)"
   ]
  },
  {
   "cell_type": "markdown",
   "metadata": {},
   "source": [
    "If this value is zero, we can be essentially certain that we have successfully decoded the compressed data."
   ]
  },
  {
   "cell_type": "markdown",
   "metadata": {},
   "source": [
    "___"
   ]
  },
  {
   "cell_type": "markdown",
   "metadata": {},
   "source": [
    "## Section 8: 終端節\n",
    "\n",
    "Basically a trivial final section that lets us know we're finished."
   ]
  },
  {
   "cell_type": "code",
   "execution_count": 114,
   "metadata": {},
   "outputs": [
    {
     "data": {
      "text/plain": [
       "3752"
      ]
     },
     "execution_count": 114,
     "metadata": {},
     "output_type": "execute_result"
    }
   ],
   "source": [
    "f_bin.seek((s0_seclen+s1_seclen+0+s3_seclen+s4_seclen+s5_seclen+s6_seclen+s7_seclen))"
   ]
  },
  {
   "cell_type": "code",
   "execution_count": 115,
   "metadata": {},
   "outputs": [
    {
     "name": "stdout",
     "output_type": "stream",
     "text": [
      "b'7777'\n",
      "7777\n"
     ]
    }
   ],
   "source": [
    "b = f_bin.read(4) # Should be \"7777\".\n",
    "print(b)\n",
    "s8_grib = str(b, 'ascii')\n",
    "print(s8_grib)"
   ]
  },
  {
   "cell_type": "code",
   "execution_count": 116,
   "metadata": {},
   "outputs": [
    {
     "name": "stdout",
     "output_type": "stream",
     "text": [
      "b''\n"
     ]
    }
   ],
   "source": [
    "b = f_bin.read(1) # Should be at the end...\n",
    "print(b)"
   ]
  },
  {
   "cell_type": "markdown",
   "metadata": {},
   "source": [
    "___"
   ]
  }
 ],
 "metadata": {
  "kernelspec": {
   "display_name": "Python 3",
   "language": "python",
   "name": "python3"
  },
  "language_info": {
   "codemirror_mode": {
    "name": "ipython",
    "version": 3
   },
   "file_extension": ".py",
   "mimetype": "text/x-python",
   "name": "python",
   "nbconvert_exporter": "python",
   "pygments_lexer": "ipython3",
   "version": "3.6.4"
  }
 },
 "nbformat": 4,
 "nbformat_minor": 2
}
